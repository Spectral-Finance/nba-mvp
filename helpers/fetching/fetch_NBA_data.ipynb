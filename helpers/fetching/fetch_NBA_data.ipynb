{
 "cells": [
  {
   "cell_type": "code",
   "execution_count": 18,
   "metadata": {
    "collapsed": true,
    "ExecuteTime": {
     "end_time": "2023-08-14T18:19:56.362541Z",
     "start_time": "2023-08-14T18:19:56.359467Z"
    }
   },
   "outputs": [],
   "source": [
    "import pandas as pd\n",
    "from nba_api.stats.static import teams\n",
    "from nba_api.stats.endpoints import leaguegamefinder\n",
    "from nba_api.stats.endpoints import boxscoretraditionalv2"
   ]
  },
  {
   "cell_type": "code",
   "execution_count": 19,
   "outputs": [
    {
     "data": {
      "text/plain": "30"
     },
     "execution_count": 19,
     "metadata": {},
     "output_type": "execute_result"
    }
   ],
   "source": [
    "# Fetch all team info\n",
    "nba_teams = teams.get_teams()\n",
    "\n",
    "# list of their ids\n",
    "team_id_list = []\n",
    "for team in nba_teams:\n",
    "  team_id_list.append(team.get('id'))\n",
    "len(team_id_list)"
   ],
   "metadata": {
    "collapsed": false,
    "ExecuteTime": {
     "end_time": "2023-08-14T18:19:56.372782Z",
     "start_time": "2023-08-14T18:19:56.365456Z"
    }
   }
  },
  {
   "cell_type": "code",
   "execution_count": 20,
   "outputs": [
    {
     "data": {
      "text/plain": "  SEASON_ID     TEAM_ID TEAM_ABBREVIATION      TEAM_NAME     GAME_ID  \\\n0     22023  1610612737               ATL  Atlanta Hawks  1522300074   \n1     22023  1610612737               ATL  Atlanta Hawks  1522300046   \n2     22023  1610612737               ATL  Atlanta Hawks  1522300038   \n3     22023  1610612737               ATL  Atlanta Hawks  1522300023   \n4     22023  1610612737               ATL  Atlanta Hawks  1522300007   \n\n    GAME_DATE      MATCHUP WL  MIN  PTS  ...  FT_PCT  OREB  DREB   REB  AST  \\\n0  2023-07-16    ATL @ DAL  L  201   80  ...   0.773  13.0  28.0  41.0   16   \n1  2023-07-13  ATL vs. PHI  W  199   99  ...   0.750  15.0  29.0  44.0   25   \n2  2023-07-12  ATL vs. MIN  W  201   99  ...   0.788  15.0  31.0  46.0   19   \n3  2023-07-09    ATL @ DEN  W  199   98  ...   0.529  11.0  26.0  37.0   24   \n4  2023-07-07  ATL vs. SAC  L  200   76  ...   0.833  21.0  26.0  47.0   16   \n\n    STL  BLK  TOV  PF  PLUS_MINUS  \n0   5.0    6   17  18       -23.0  \n1   2.0    5   11  23        -3.4  \n2   4.0    7   19  22        10.6  \n3   4.0    8   12  20         5.4  \n4  12.0    2   21  25       -13.8  \n\n[5 rows x 28 columns]",
      "text/html": "<div>\n<style scoped>\n    .dataframe tbody tr th:only-of-type {\n        vertical-align: middle;\n    }\n\n    .dataframe tbody tr th {\n        vertical-align: top;\n    }\n\n    .dataframe thead th {\n        text-align: right;\n    }\n</style>\n<table border=\"1\" class=\"dataframe\">\n  <thead>\n    <tr style=\"text-align: right;\">\n      <th></th>\n      <th>SEASON_ID</th>\n      <th>TEAM_ID</th>\n      <th>TEAM_ABBREVIATION</th>\n      <th>TEAM_NAME</th>\n      <th>GAME_ID</th>\n      <th>GAME_DATE</th>\n      <th>MATCHUP</th>\n      <th>WL</th>\n      <th>MIN</th>\n      <th>PTS</th>\n      <th>...</th>\n      <th>FT_PCT</th>\n      <th>OREB</th>\n      <th>DREB</th>\n      <th>REB</th>\n      <th>AST</th>\n      <th>STL</th>\n      <th>BLK</th>\n      <th>TOV</th>\n      <th>PF</th>\n      <th>PLUS_MINUS</th>\n    </tr>\n  </thead>\n  <tbody>\n    <tr>\n      <th>0</th>\n      <td>22023</td>\n      <td>1610612737</td>\n      <td>ATL</td>\n      <td>Atlanta Hawks</td>\n      <td>1522300074</td>\n      <td>2023-07-16</td>\n      <td>ATL @ DAL</td>\n      <td>L</td>\n      <td>201</td>\n      <td>80</td>\n      <td>...</td>\n      <td>0.773</td>\n      <td>13.0</td>\n      <td>28.0</td>\n      <td>41.0</td>\n      <td>16</td>\n      <td>5.0</td>\n      <td>6</td>\n      <td>17</td>\n      <td>18</td>\n      <td>-23.0</td>\n    </tr>\n    <tr>\n      <th>1</th>\n      <td>22023</td>\n      <td>1610612737</td>\n      <td>ATL</td>\n      <td>Atlanta Hawks</td>\n      <td>1522300046</td>\n      <td>2023-07-13</td>\n      <td>ATL vs. PHI</td>\n      <td>W</td>\n      <td>199</td>\n      <td>99</td>\n      <td>...</td>\n      <td>0.750</td>\n      <td>15.0</td>\n      <td>29.0</td>\n      <td>44.0</td>\n      <td>25</td>\n      <td>2.0</td>\n      <td>5</td>\n      <td>11</td>\n      <td>23</td>\n      <td>-3.4</td>\n    </tr>\n    <tr>\n      <th>2</th>\n      <td>22023</td>\n      <td>1610612737</td>\n      <td>ATL</td>\n      <td>Atlanta Hawks</td>\n      <td>1522300038</td>\n      <td>2023-07-12</td>\n      <td>ATL vs. MIN</td>\n      <td>W</td>\n      <td>201</td>\n      <td>99</td>\n      <td>...</td>\n      <td>0.788</td>\n      <td>15.0</td>\n      <td>31.0</td>\n      <td>46.0</td>\n      <td>19</td>\n      <td>4.0</td>\n      <td>7</td>\n      <td>19</td>\n      <td>22</td>\n      <td>10.6</td>\n    </tr>\n    <tr>\n      <th>3</th>\n      <td>22023</td>\n      <td>1610612737</td>\n      <td>ATL</td>\n      <td>Atlanta Hawks</td>\n      <td>1522300023</td>\n      <td>2023-07-09</td>\n      <td>ATL @ DEN</td>\n      <td>W</td>\n      <td>199</td>\n      <td>98</td>\n      <td>...</td>\n      <td>0.529</td>\n      <td>11.0</td>\n      <td>26.0</td>\n      <td>37.0</td>\n      <td>24</td>\n      <td>4.0</td>\n      <td>8</td>\n      <td>12</td>\n      <td>20</td>\n      <td>5.4</td>\n    </tr>\n    <tr>\n      <th>4</th>\n      <td>22023</td>\n      <td>1610612737</td>\n      <td>ATL</td>\n      <td>Atlanta Hawks</td>\n      <td>1522300007</td>\n      <td>2023-07-07</td>\n      <td>ATL vs. SAC</td>\n      <td>L</td>\n      <td>200</td>\n      <td>76</td>\n      <td>...</td>\n      <td>0.833</td>\n      <td>21.0</td>\n      <td>26.0</td>\n      <td>47.0</td>\n      <td>16</td>\n      <td>12.0</td>\n      <td>2</td>\n      <td>21</td>\n      <td>25</td>\n      <td>-13.8</td>\n    </tr>\n  </tbody>\n</table>\n<p>5 rows × 28 columns</p>\n</div>"
     },
     "execution_count": 20,
     "metadata": {},
     "output_type": "execute_result"
    }
   ],
   "source": [
    "# Fetch all games for all teams\n",
    "games_list_by_team = []\n",
    "for team_id in team_id_list:\n",
    "  gamefinder = leaguegamefinder.LeagueGameFinder(team_id_nullable=team_id)\n",
    "  games_list_by_team.append(gamefinder.get_data_frames()[0])\n",
    "\n",
    "games_dataframe = pd.concat(games_list_by_team)\n",
    "games_dataframe.head()"
   ],
   "metadata": {
    "collapsed": false,
    "ExecuteTime": {
     "end_time": "2023-08-14T18:20:09.194927Z",
     "start_time": "2023-08-14T18:19:56.634433Z"
    }
   }
  },
  {
   "cell_type": "code",
   "execution_count": 21,
   "outputs": [
    {
     "data": {
      "text/plain": "  SEASON_ID     TEAM_ID TEAM_ABBREVIATION      TEAM_NAME     GAME_ID  \\\n5     42022  1610612737               ATL  Atlanta Hawks  0042200116   \n6     42022  1610612737               ATL  Atlanta Hawks  0042200115   \n7     42022  1610612737               ATL  Atlanta Hawks  0042200114   \n8     42022  1610612737               ATL  Atlanta Hawks  0042200113   \n9     42022  1610612737               ATL  Atlanta Hawks  0042200112   \n\n    GAME_DATE      MATCHUP WL  MIN  PTS  ...  FT_PCT  OREB  DREB   REB  AST  \\\n5  2023-04-27  ATL vs. BOS  L  241  120  ...   0.773  12.0  33.0  45.0   28   \n6  2023-04-25    ATL @ BOS  W  242  119  ...   1.000   6.0  28.0  34.0   26   \n7  2023-04-23  ATL vs. BOS  L  240  121  ...   0.875  11.0  31.0  42.0   25   \n8  2023-04-21  ATL vs. BOS  W  240  130  ...   0.813  11.0  37.0  48.0   24   \n9  2023-04-18    ATL @ BOS  L  241  106  ...   0.500  19.0  30.0  49.0   21   \n\n    STL  BLK  TOV  PF  PLUS_MINUS  \n5   5.0    7   10  15        -8.0  \n6   5.0    4    8  16         2.0  \n7   8.0    4   12  24        -8.0  \n8   5.0    6   18  15         8.0  \n9  10.0    4   15  11       -13.0  \n\n[5 rows x 28 columns]",
      "text/html": "<div>\n<style scoped>\n    .dataframe tbody tr th:only-of-type {\n        vertical-align: middle;\n    }\n\n    .dataframe tbody tr th {\n        vertical-align: top;\n    }\n\n    .dataframe thead th {\n        text-align: right;\n    }\n</style>\n<table border=\"1\" class=\"dataframe\">\n  <thead>\n    <tr style=\"text-align: right;\">\n      <th></th>\n      <th>SEASON_ID</th>\n      <th>TEAM_ID</th>\n      <th>TEAM_ABBREVIATION</th>\n      <th>TEAM_NAME</th>\n      <th>GAME_ID</th>\n      <th>GAME_DATE</th>\n      <th>MATCHUP</th>\n      <th>WL</th>\n      <th>MIN</th>\n      <th>PTS</th>\n      <th>...</th>\n      <th>FT_PCT</th>\n      <th>OREB</th>\n      <th>DREB</th>\n      <th>REB</th>\n      <th>AST</th>\n      <th>STL</th>\n      <th>BLK</th>\n      <th>TOV</th>\n      <th>PF</th>\n      <th>PLUS_MINUS</th>\n    </tr>\n  </thead>\n  <tbody>\n    <tr>\n      <th>5</th>\n      <td>42022</td>\n      <td>1610612737</td>\n      <td>ATL</td>\n      <td>Atlanta Hawks</td>\n      <td>0042200116</td>\n      <td>2023-04-27</td>\n      <td>ATL vs. BOS</td>\n      <td>L</td>\n      <td>241</td>\n      <td>120</td>\n      <td>...</td>\n      <td>0.773</td>\n      <td>12.0</td>\n      <td>33.0</td>\n      <td>45.0</td>\n      <td>28</td>\n      <td>5.0</td>\n      <td>7</td>\n      <td>10</td>\n      <td>15</td>\n      <td>-8.0</td>\n    </tr>\n    <tr>\n      <th>6</th>\n      <td>42022</td>\n      <td>1610612737</td>\n      <td>ATL</td>\n      <td>Atlanta Hawks</td>\n      <td>0042200115</td>\n      <td>2023-04-25</td>\n      <td>ATL @ BOS</td>\n      <td>W</td>\n      <td>242</td>\n      <td>119</td>\n      <td>...</td>\n      <td>1.000</td>\n      <td>6.0</td>\n      <td>28.0</td>\n      <td>34.0</td>\n      <td>26</td>\n      <td>5.0</td>\n      <td>4</td>\n      <td>8</td>\n      <td>16</td>\n      <td>2.0</td>\n    </tr>\n    <tr>\n      <th>7</th>\n      <td>42022</td>\n      <td>1610612737</td>\n      <td>ATL</td>\n      <td>Atlanta Hawks</td>\n      <td>0042200114</td>\n      <td>2023-04-23</td>\n      <td>ATL vs. BOS</td>\n      <td>L</td>\n      <td>240</td>\n      <td>121</td>\n      <td>...</td>\n      <td>0.875</td>\n      <td>11.0</td>\n      <td>31.0</td>\n      <td>42.0</td>\n      <td>25</td>\n      <td>8.0</td>\n      <td>4</td>\n      <td>12</td>\n      <td>24</td>\n      <td>-8.0</td>\n    </tr>\n    <tr>\n      <th>8</th>\n      <td>42022</td>\n      <td>1610612737</td>\n      <td>ATL</td>\n      <td>Atlanta Hawks</td>\n      <td>0042200113</td>\n      <td>2023-04-21</td>\n      <td>ATL vs. BOS</td>\n      <td>W</td>\n      <td>240</td>\n      <td>130</td>\n      <td>...</td>\n      <td>0.813</td>\n      <td>11.0</td>\n      <td>37.0</td>\n      <td>48.0</td>\n      <td>24</td>\n      <td>5.0</td>\n      <td>6</td>\n      <td>18</td>\n      <td>15</td>\n      <td>8.0</td>\n    </tr>\n    <tr>\n      <th>9</th>\n      <td>42022</td>\n      <td>1610612737</td>\n      <td>ATL</td>\n      <td>Atlanta Hawks</td>\n      <td>0042200112</td>\n      <td>2023-04-18</td>\n      <td>ATL @ BOS</td>\n      <td>L</td>\n      <td>241</td>\n      <td>106</td>\n      <td>...</td>\n      <td>0.500</td>\n      <td>19.0</td>\n      <td>30.0</td>\n      <td>49.0</td>\n      <td>21</td>\n      <td>10.0</td>\n      <td>4</td>\n      <td>15</td>\n      <td>11</td>\n      <td>-13.0</td>\n    </tr>\n  </tbody>\n</table>\n<p>5 rows × 28 columns</p>\n</div>"
     },
     "execution_count": 21,
     "metadata": {},
     "output_type": "execute_result"
    }
   ],
   "source": [
    "# Filtering for rows containing '2022' in the 'season' column, this would include pre-season, regular season and final\n",
    "games_last_season = games_dataframe[games_dataframe['SEASON_ID'].str.contains('2022')]\n",
    "games_last_season.head()"
   ],
   "metadata": {
    "collapsed": false,
    "ExecuteTime": {
     "end_time": "2023-08-14T18:20:09.279401Z",
     "start_time": "2023-08-14T18:20:09.210032Z"
    }
   }
  },
  {
   "cell_type": "code",
   "execution_count": 22,
   "outputs": [
    {
     "data": {
      "text/plain": "array(['42022', '52022', '22022', '12022'], dtype=object)"
     },
     "execution_count": 22,
     "metadata": {},
     "output_type": "execute_result"
    }
   ],
   "source": [
    "games_last_season.SEASON_ID.unique()"
   ],
   "metadata": {
    "collapsed": false,
    "ExecuteTime": {
     "end_time": "2023-08-14T18:20:09.279729Z",
     "start_time": "2023-08-14T18:20:09.262468Z"
    }
   }
  },
  {
   "cell_type": "code",
   "execution_count": 23,
   "outputs": [
    {
     "data": {
      "text/plain": "1477"
     },
     "execution_count": 23,
     "metadata": {},
     "output_type": "execute_result"
    }
   ],
   "source": [
    "games_last_season.GAME_ID.nunique()\n",
    "# 1477 games for NBA seem right, there are 30 teams, and regular season each team play 82 games 30*82/2 = 1230 plus pre-season, playoffs, finals"
   ],
   "metadata": {
    "collapsed": false,
    "ExecuteTime": {
     "end_time": "2023-08-14T18:20:09.279857Z",
     "start_time": "2023-08-14T18:20:09.265027Z"
    }
   }
  },
  {
   "cell_type": "code",
   "execution_count": 29,
   "outputs": [],
   "source": [
    "games_last_season.to_csv('../../data/game_2022.csv', index = False)\n",
    "games_last_season.to_parquet('../../data/game_2022.parquet')"
   ],
   "metadata": {
    "collapsed": false,
    "ExecuteTime": {
     "end_time": "2023-08-14T21:30:14.833296Z",
     "start_time": "2023-08-14T21:30:14.722308Z"
    }
   }
  },
  {
   "cell_type": "code",
   "execution_count": 24,
   "outputs": [
    {
     "data": {
      "text/plain": "      GAME_ID     TEAM_ID TEAM_ABBREVIATION TEAM_CITY  PLAYER_ID  \\\n0  0042200116  1610612738               BOS    Boston    1627759   \n1  0042200116  1610612738               BOS    Boston    1628369   \n2  0042200116  1610612738               BOS    Boston     201143   \n3  0042200116  1610612738               BOS    Boston    1628401   \n4  0042200116  1610612738               BOS    Boston     203935   \n\n     PLAYER_NAME NICKNAME START_POSITION COMMENT           MIN  ...  OREB  \\\n0   Jaylen Brown   Jaylen              F          39.000000:35  ...   0.0   \n1   Jayson Tatum   Jayson              F          39.000000:52  ...   2.0   \n2     Al Horford       Al              C          29.000000:54  ...   3.0   \n3  Derrick White  Derrick              G          29.000000:46  ...   1.0   \n4   Marcus Smart   Marcus              G          32.000000:33  ...   3.0   \n\n   DREB   REB  AST  STL  BLK   TO   PF   PTS  PLUS_MINUS  \n0   5.0   5.0  2.0  0.0  1.0  2.0  3.0  32.0         7.0  \n1  12.0  14.0  7.0  1.0  2.0  0.0  1.0  30.0        11.0  \n2   9.0  12.0  4.0  2.0  3.0  0.0  4.0  10.0         9.0  \n3   1.0   2.0  2.0  0.0  1.0  1.0  3.0   7.0        -1.0  \n4   1.0   4.0  4.0  1.0  0.0  2.0  0.0  22.0        11.0  \n\n[5 rows x 29 columns]",
      "text/html": "<div>\n<style scoped>\n    .dataframe tbody tr th:only-of-type {\n        vertical-align: middle;\n    }\n\n    .dataframe tbody tr th {\n        vertical-align: top;\n    }\n\n    .dataframe thead th {\n        text-align: right;\n    }\n</style>\n<table border=\"1\" class=\"dataframe\">\n  <thead>\n    <tr style=\"text-align: right;\">\n      <th></th>\n      <th>GAME_ID</th>\n      <th>TEAM_ID</th>\n      <th>TEAM_ABBREVIATION</th>\n      <th>TEAM_CITY</th>\n      <th>PLAYER_ID</th>\n      <th>PLAYER_NAME</th>\n      <th>NICKNAME</th>\n      <th>START_POSITION</th>\n      <th>COMMENT</th>\n      <th>MIN</th>\n      <th>...</th>\n      <th>OREB</th>\n      <th>DREB</th>\n      <th>REB</th>\n      <th>AST</th>\n      <th>STL</th>\n      <th>BLK</th>\n      <th>TO</th>\n      <th>PF</th>\n      <th>PTS</th>\n      <th>PLUS_MINUS</th>\n    </tr>\n  </thead>\n  <tbody>\n    <tr>\n      <th>0</th>\n      <td>0042200116</td>\n      <td>1610612738</td>\n      <td>BOS</td>\n      <td>Boston</td>\n      <td>1627759</td>\n      <td>Jaylen Brown</td>\n      <td>Jaylen</td>\n      <td>F</td>\n      <td></td>\n      <td>39.000000:35</td>\n      <td>...</td>\n      <td>0.0</td>\n      <td>5.0</td>\n      <td>5.0</td>\n      <td>2.0</td>\n      <td>0.0</td>\n      <td>1.0</td>\n      <td>2.0</td>\n      <td>3.0</td>\n      <td>32.0</td>\n      <td>7.0</td>\n    </tr>\n    <tr>\n      <th>1</th>\n      <td>0042200116</td>\n      <td>1610612738</td>\n      <td>BOS</td>\n      <td>Boston</td>\n      <td>1628369</td>\n      <td>Jayson Tatum</td>\n      <td>Jayson</td>\n      <td>F</td>\n      <td></td>\n      <td>39.000000:52</td>\n      <td>...</td>\n      <td>2.0</td>\n      <td>12.0</td>\n      <td>14.0</td>\n      <td>7.0</td>\n      <td>1.0</td>\n      <td>2.0</td>\n      <td>0.0</td>\n      <td>1.0</td>\n      <td>30.0</td>\n      <td>11.0</td>\n    </tr>\n    <tr>\n      <th>2</th>\n      <td>0042200116</td>\n      <td>1610612738</td>\n      <td>BOS</td>\n      <td>Boston</td>\n      <td>201143</td>\n      <td>Al Horford</td>\n      <td>Al</td>\n      <td>C</td>\n      <td></td>\n      <td>29.000000:54</td>\n      <td>...</td>\n      <td>3.0</td>\n      <td>9.0</td>\n      <td>12.0</td>\n      <td>4.0</td>\n      <td>2.0</td>\n      <td>3.0</td>\n      <td>0.0</td>\n      <td>4.0</td>\n      <td>10.0</td>\n      <td>9.0</td>\n    </tr>\n    <tr>\n      <th>3</th>\n      <td>0042200116</td>\n      <td>1610612738</td>\n      <td>BOS</td>\n      <td>Boston</td>\n      <td>1628401</td>\n      <td>Derrick White</td>\n      <td>Derrick</td>\n      <td>G</td>\n      <td></td>\n      <td>29.000000:46</td>\n      <td>...</td>\n      <td>1.0</td>\n      <td>1.0</td>\n      <td>2.0</td>\n      <td>2.0</td>\n      <td>0.0</td>\n      <td>1.0</td>\n      <td>1.0</td>\n      <td>3.0</td>\n      <td>7.0</td>\n      <td>-1.0</td>\n    </tr>\n    <tr>\n      <th>4</th>\n      <td>0042200116</td>\n      <td>1610612738</td>\n      <td>BOS</td>\n      <td>Boston</td>\n      <td>203935</td>\n      <td>Marcus Smart</td>\n      <td>Marcus</td>\n      <td>G</td>\n      <td></td>\n      <td>32.000000:33</td>\n      <td>...</td>\n      <td>3.0</td>\n      <td>1.0</td>\n      <td>4.0</td>\n      <td>4.0</td>\n      <td>1.0</td>\n      <td>0.0</td>\n      <td>2.0</td>\n      <td>0.0</td>\n      <td>22.0</td>\n      <td>11.0</td>\n    </tr>\n  </tbody>\n</table>\n<p>5 rows × 29 columns</p>\n</div>"
     },
     "execution_count": 24,
     "metadata": {},
     "output_type": "execute_result"
    }
   ],
   "source": [
    "# Loop through all games and fetch all box scores\n",
    "# Result is a player level stat dataframe for all games\n",
    "# Such that each player will have N rows, where N is the number of games they were available for\n",
    "unique_game_ids = games_last_season.GAME_ID.unique()\n",
    "\n",
    "total_box_score_list_by_game = []\n",
    "for game in unique_game_ids:\n",
    "  single_game_box_score = boxscoretraditionalv2.BoxScoreTraditionalV2(game_id=game)\n",
    "  total_box_score_list_by_game.append(single_game_box_score.get_data_frames()[0])\n",
    "\n",
    "total_player_stat_df = pd.concat(total_box_score_list_by_game)\n",
    "total_player_stat_df.head()"
   ],
   "metadata": {
    "collapsed": false,
    "ExecuteTime": {
     "end_time": "2023-08-14T18:29:41.739441Z",
     "start_time": "2023-08-14T18:20:09.325272Z"
    }
   }
  },
  {
   "cell_type": "code",
   "execution_count": 25,
   "outputs": [],
   "source": [
    "total_player_stat_df.to_csv('../../data/player_stat_2022.csv', index = False)"
   ],
   "metadata": {
    "collapsed": false,
    "ExecuteTime": {
     "end_time": "2023-08-14T18:29:42.043929Z",
     "start_time": "2023-08-14T18:29:41.736908Z"
    }
   }
  },
  {
   "cell_type": "code",
   "execution_count": 27,
   "outputs": [],
   "source": [
    "total_player_stat_df.to_parquet('../../data/player_stat_2022.parquet')"
   ],
   "metadata": {
    "collapsed": false,
    "ExecuteTime": {
     "end_time": "2023-08-14T19:26:46.222722Z",
     "start_time": "2023-08-14T19:26:44.911636Z"
    }
   }
  }
 ],
 "metadata": {
  "kernelspec": {
   "display_name": "Python 3",
   "language": "python",
   "name": "python3"
  },
  "language_info": {
   "codemirror_mode": {
    "name": "ipython",
    "version": 2
   },
   "file_extension": ".py",
   "mimetype": "text/x-python",
   "name": "python",
   "nbconvert_exporter": "python",
   "pygments_lexer": "ipython2",
   "version": "2.7.6"
  }
 },
 "nbformat": 4,
 "nbformat_minor": 0
}
