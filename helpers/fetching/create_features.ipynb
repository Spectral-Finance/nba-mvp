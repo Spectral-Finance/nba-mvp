{
 "cells": [
  {
   "cell_type": "code",
   "execution_count": 34,
   "outputs": [],
   "source": [
    "import pandas as pd\n",
    "import logging\n",
    "import time"
   ],
   "metadata": {
    "collapsed": false,
    "ExecuteTime": {
     "end_time": "2023-08-16T20:12:24.076459Z",
     "start_time": "2023-08-16T20:12:24.072075Z"
    }
   }
  },
  {
   "cell_type": "code",
   "execution_count": 35,
   "outputs": [
    {
     "data": {
      "text/plain": "    GAME_ID     TEAM_ID TEAM_ABBREVIATION TEAM_CITY  PLAYER_ID    PLAYER_NAME  \\\n0  42200116  1610612738               BOS    Boston    1627759   Jaylen Brown   \n1  42200116  1610612738               BOS    Boston    1628369   Jayson Tatum   \n2  42200116  1610612738               BOS    Boston     201143     Al Horford   \n3  42200116  1610612738               BOS    Boston    1628401  Derrick White   \n4  42200116  1610612738               BOS    Boston     203935   Marcus Smart   \n\n  NICKNAME START_POSITION COMMENT           MIN  ...  OREB  DREB   REB  AST  \\\n0   Jaylen              F     NaN  39.000000:35  ...   0.0   5.0   5.0  2.0   \n1   Jayson              F     NaN  39.000000:52  ...   2.0  12.0  14.0  7.0   \n2       Al              C     NaN  29.000000:54  ...   3.0   9.0  12.0  4.0   \n3  Derrick              G     NaN  29.000000:46  ...   1.0   1.0   2.0  2.0   \n4   Marcus              G     NaN  32.000000:33  ...   3.0   1.0   4.0  4.0   \n\n   STL  BLK   TO   PF   PTS  PLUS_MINUS  \n0  0.0  1.0  2.0  3.0  32.0         7.0  \n1  1.0  2.0  0.0  1.0  30.0        11.0  \n2  2.0  3.0  0.0  4.0  10.0         9.0  \n3  0.0  1.0  1.0  3.0   7.0        -1.0  \n4  1.0  0.0  2.0  0.0  22.0        11.0  \n\n[5 rows x 29 columns]",
      "text/html": "<div>\n<style scoped>\n    .dataframe tbody tr th:only-of-type {\n        vertical-align: middle;\n    }\n\n    .dataframe tbody tr th {\n        vertical-align: top;\n    }\n\n    .dataframe thead th {\n        text-align: right;\n    }\n</style>\n<table border=\"1\" class=\"dataframe\">\n  <thead>\n    <tr style=\"text-align: right;\">\n      <th></th>\n      <th>GAME_ID</th>\n      <th>TEAM_ID</th>\n      <th>TEAM_ABBREVIATION</th>\n      <th>TEAM_CITY</th>\n      <th>PLAYER_ID</th>\n      <th>PLAYER_NAME</th>\n      <th>NICKNAME</th>\n      <th>START_POSITION</th>\n      <th>COMMENT</th>\n      <th>MIN</th>\n      <th>...</th>\n      <th>OREB</th>\n      <th>DREB</th>\n      <th>REB</th>\n      <th>AST</th>\n      <th>STL</th>\n      <th>BLK</th>\n      <th>TO</th>\n      <th>PF</th>\n      <th>PTS</th>\n      <th>PLUS_MINUS</th>\n    </tr>\n  </thead>\n  <tbody>\n    <tr>\n      <th>0</th>\n      <td>42200116</td>\n      <td>1610612738</td>\n      <td>BOS</td>\n      <td>Boston</td>\n      <td>1627759</td>\n      <td>Jaylen Brown</td>\n      <td>Jaylen</td>\n      <td>F</td>\n      <td>NaN</td>\n      <td>39.000000:35</td>\n      <td>...</td>\n      <td>0.0</td>\n      <td>5.0</td>\n      <td>5.0</td>\n      <td>2.0</td>\n      <td>0.0</td>\n      <td>1.0</td>\n      <td>2.0</td>\n      <td>3.0</td>\n      <td>32.0</td>\n      <td>7.0</td>\n    </tr>\n    <tr>\n      <th>1</th>\n      <td>42200116</td>\n      <td>1610612738</td>\n      <td>BOS</td>\n      <td>Boston</td>\n      <td>1628369</td>\n      <td>Jayson Tatum</td>\n      <td>Jayson</td>\n      <td>F</td>\n      <td>NaN</td>\n      <td>39.000000:52</td>\n      <td>...</td>\n      <td>2.0</td>\n      <td>12.0</td>\n      <td>14.0</td>\n      <td>7.0</td>\n      <td>1.0</td>\n      <td>2.0</td>\n      <td>0.0</td>\n      <td>1.0</td>\n      <td>30.0</td>\n      <td>11.0</td>\n    </tr>\n    <tr>\n      <th>2</th>\n      <td>42200116</td>\n      <td>1610612738</td>\n      <td>BOS</td>\n      <td>Boston</td>\n      <td>201143</td>\n      <td>Al Horford</td>\n      <td>Al</td>\n      <td>C</td>\n      <td>NaN</td>\n      <td>29.000000:54</td>\n      <td>...</td>\n      <td>3.0</td>\n      <td>9.0</td>\n      <td>12.0</td>\n      <td>4.0</td>\n      <td>2.0</td>\n      <td>3.0</td>\n      <td>0.0</td>\n      <td>4.0</td>\n      <td>10.0</td>\n      <td>9.0</td>\n    </tr>\n    <tr>\n      <th>3</th>\n      <td>42200116</td>\n      <td>1610612738</td>\n      <td>BOS</td>\n      <td>Boston</td>\n      <td>1628401</td>\n      <td>Derrick White</td>\n      <td>Derrick</td>\n      <td>G</td>\n      <td>NaN</td>\n      <td>29.000000:46</td>\n      <td>...</td>\n      <td>1.0</td>\n      <td>1.0</td>\n      <td>2.0</td>\n      <td>2.0</td>\n      <td>0.0</td>\n      <td>1.0</td>\n      <td>1.0</td>\n      <td>3.0</td>\n      <td>7.0</td>\n      <td>-1.0</td>\n    </tr>\n    <tr>\n      <th>4</th>\n      <td>42200116</td>\n      <td>1610612738</td>\n      <td>BOS</td>\n      <td>Boston</td>\n      <td>203935</td>\n      <td>Marcus Smart</td>\n      <td>Marcus</td>\n      <td>G</td>\n      <td>NaN</td>\n      <td>32.000000:33</td>\n      <td>...</td>\n      <td>3.0</td>\n      <td>1.0</td>\n      <td>4.0</td>\n      <td>4.0</td>\n      <td>1.0</td>\n      <td>0.0</td>\n      <td>2.0</td>\n      <td>0.0</td>\n      <td>22.0</td>\n      <td>11.0</td>\n    </tr>\n  </tbody>\n</table>\n<p>5 rows × 29 columns</p>\n</div>"
     },
     "execution_count": 35,
     "metadata": {},
     "output_type": "execute_result"
    }
   ],
   "source": [
    "player_df = pd.read_csv('../../data/player_stat_2022.csv')\n",
    "player_df.head()"
   ],
   "metadata": {
    "collapsed": false,
    "ExecuteTime": {
     "end_time": "2023-08-16T20:12:24.178870Z",
     "start_time": "2023-08-16T20:12:24.076124Z"
    }
   }
  },
  {
   "cell_type": "code",
   "execution_count": 36,
   "outputs": [
    {
     "data": {
      "text/plain": "Index(['GAME_ID', 'TEAM_ID', 'TEAM_ABBREVIATION', 'TEAM_CITY', 'PLAYER_ID',\n       'PLAYER_NAME', 'NICKNAME', 'START_POSITION', 'COMMENT', 'MIN', 'FGM',\n       'FGA', 'FG_PCT', 'FG3M', 'FG3A', 'FG3_PCT', 'FTM', 'FTA', 'FT_PCT',\n       'OREB', 'DREB', 'REB', 'AST', 'STL', 'BLK', 'TO', 'PF', 'PTS',\n       'PLUS_MINUS'],\n      dtype='object')"
     },
     "execution_count": 36,
     "metadata": {},
     "output_type": "execute_result"
    }
   ],
   "source": [
    "player_df.columns"
   ],
   "metadata": {
    "collapsed": false,
    "ExecuteTime": {
     "end_time": "2023-08-16T20:12:24.182398Z",
     "start_time": "2023-08-16T20:12:24.180046Z"
    }
   }
  },
  {
   "cell_type": "code",
   "execution_count": 37,
   "outputs": [
    {
     "data": {
      "text/plain": "   SEASON_ID     TEAM_ID TEAM_ABBREVIATION      TEAM_NAME   GAME_ID  \\\n0      42022  1610612737               ATL  Atlanta Hawks  42200116   \n1      42022  1610612737               ATL  Atlanta Hawks  42200115   \n2      42022  1610612737               ATL  Atlanta Hawks  42200114   \n3      42022  1610612737               ATL  Atlanta Hawks  42200113   \n4      42022  1610612737               ATL  Atlanta Hawks  42200112   \n\n    GAME_DATE      MATCHUP WL  MIN  PTS  ...  FT_PCT  OREB  DREB   REB  AST  \\\n0  2023-04-27  ATL vs. BOS  L  241  120  ...   0.773  12.0  33.0  45.0   28   \n1  2023-04-25    ATL @ BOS  W  242  119  ...   1.000   6.0  28.0  34.0   26   \n2  2023-04-23  ATL vs. BOS  L  240  121  ...   0.875  11.0  31.0  42.0   25   \n3  2023-04-21  ATL vs. BOS  W  240  130  ...   0.813  11.0  37.0  48.0   24   \n4  2023-04-18    ATL @ BOS  L  241  106  ...   0.500  19.0  30.0  49.0   21   \n\n    STL  BLK  TOV  PF  PLUS_MINUS  \n0   5.0    7   10  15        -8.0  \n1   5.0    4    8  16         2.0  \n2   8.0    4   12  24        -8.0  \n3   5.0    6   18  15         8.0  \n4  10.0    4   15  11       -13.0  \n\n[5 rows x 28 columns]",
      "text/html": "<div>\n<style scoped>\n    .dataframe tbody tr th:only-of-type {\n        vertical-align: middle;\n    }\n\n    .dataframe tbody tr th {\n        vertical-align: top;\n    }\n\n    .dataframe thead th {\n        text-align: right;\n    }\n</style>\n<table border=\"1\" class=\"dataframe\">\n  <thead>\n    <tr style=\"text-align: right;\">\n      <th></th>\n      <th>SEASON_ID</th>\n      <th>TEAM_ID</th>\n      <th>TEAM_ABBREVIATION</th>\n      <th>TEAM_NAME</th>\n      <th>GAME_ID</th>\n      <th>GAME_DATE</th>\n      <th>MATCHUP</th>\n      <th>WL</th>\n      <th>MIN</th>\n      <th>PTS</th>\n      <th>...</th>\n      <th>FT_PCT</th>\n      <th>OREB</th>\n      <th>DREB</th>\n      <th>REB</th>\n      <th>AST</th>\n      <th>STL</th>\n      <th>BLK</th>\n      <th>TOV</th>\n      <th>PF</th>\n      <th>PLUS_MINUS</th>\n    </tr>\n  </thead>\n  <tbody>\n    <tr>\n      <th>0</th>\n      <td>42022</td>\n      <td>1610612737</td>\n      <td>ATL</td>\n      <td>Atlanta Hawks</td>\n      <td>42200116</td>\n      <td>2023-04-27</td>\n      <td>ATL vs. BOS</td>\n      <td>L</td>\n      <td>241</td>\n      <td>120</td>\n      <td>...</td>\n      <td>0.773</td>\n      <td>12.0</td>\n      <td>33.0</td>\n      <td>45.0</td>\n      <td>28</td>\n      <td>5.0</td>\n      <td>7</td>\n      <td>10</td>\n      <td>15</td>\n      <td>-8.0</td>\n    </tr>\n    <tr>\n      <th>1</th>\n      <td>42022</td>\n      <td>1610612737</td>\n      <td>ATL</td>\n      <td>Atlanta Hawks</td>\n      <td>42200115</td>\n      <td>2023-04-25</td>\n      <td>ATL @ BOS</td>\n      <td>W</td>\n      <td>242</td>\n      <td>119</td>\n      <td>...</td>\n      <td>1.000</td>\n      <td>6.0</td>\n      <td>28.0</td>\n      <td>34.0</td>\n      <td>26</td>\n      <td>5.0</td>\n      <td>4</td>\n      <td>8</td>\n      <td>16</td>\n      <td>2.0</td>\n    </tr>\n    <tr>\n      <th>2</th>\n      <td>42022</td>\n      <td>1610612737</td>\n      <td>ATL</td>\n      <td>Atlanta Hawks</td>\n      <td>42200114</td>\n      <td>2023-04-23</td>\n      <td>ATL vs. BOS</td>\n      <td>L</td>\n      <td>240</td>\n      <td>121</td>\n      <td>...</td>\n      <td>0.875</td>\n      <td>11.0</td>\n      <td>31.0</td>\n      <td>42.0</td>\n      <td>25</td>\n      <td>8.0</td>\n      <td>4</td>\n      <td>12</td>\n      <td>24</td>\n      <td>-8.0</td>\n    </tr>\n    <tr>\n      <th>3</th>\n      <td>42022</td>\n      <td>1610612737</td>\n      <td>ATL</td>\n      <td>Atlanta Hawks</td>\n      <td>42200113</td>\n      <td>2023-04-21</td>\n      <td>ATL vs. BOS</td>\n      <td>W</td>\n      <td>240</td>\n      <td>130</td>\n      <td>...</td>\n      <td>0.813</td>\n      <td>11.0</td>\n      <td>37.0</td>\n      <td>48.0</td>\n      <td>24</td>\n      <td>5.0</td>\n      <td>6</td>\n      <td>18</td>\n      <td>15</td>\n      <td>8.0</td>\n    </tr>\n    <tr>\n      <th>4</th>\n      <td>42022</td>\n      <td>1610612737</td>\n      <td>ATL</td>\n      <td>Atlanta Hawks</td>\n      <td>42200112</td>\n      <td>2023-04-18</td>\n      <td>ATL @ BOS</td>\n      <td>L</td>\n      <td>241</td>\n      <td>106</td>\n      <td>...</td>\n      <td>0.500</td>\n      <td>19.0</td>\n      <td>30.0</td>\n      <td>49.0</td>\n      <td>21</td>\n      <td>10.0</td>\n      <td>4</td>\n      <td>15</td>\n      <td>11</td>\n      <td>-13.0</td>\n    </tr>\n  </tbody>\n</table>\n<p>5 rows × 28 columns</p>\n</div>"
     },
     "execution_count": 37,
     "metadata": {},
     "output_type": "execute_result"
    }
   ],
   "source": [
    "game_df = pd.read_csv('../../data/game_2022.csv')\n",
    "# cleaning, game_df is unique on team_id and game_id level after fixing\n",
    "game_df = game_df.dropna(subset=['WL'])\n",
    "game_df.head()"
   ],
   "metadata": {
    "collapsed": false,
    "ExecuteTime": {
     "end_time": "2023-08-16T20:12:24.211808Z",
     "start_time": "2023-08-16T20:12:24.183819Z"
    }
   }
  },
  {
   "cell_type": "code",
   "execution_count": 38,
   "outputs": [
    {
     "data": {
      "text/plain": "(39273, 29)"
     },
     "execution_count": 38,
     "metadata": {},
     "output_type": "execute_result"
    }
   ],
   "source": [
    "player_df.shape"
   ],
   "metadata": {
    "collapsed": false,
    "ExecuteTime": {
     "end_time": "2023-08-16T20:12:24.212248Z",
     "start_time": "2023-08-16T20:12:24.200638Z"
    }
   }
  },
  {
   "cell_type": "code",
   "execution_count": 39,
   "outputs": [
    {
     "data": {
      "text/plain": "Index(['SEASON_ID', 'TEAM_ID', 'TEAM_ABBREVIATION', 'TEAM_NAME', 'GAME_ID',\n       'GAME_DATE', 'MATCHUP', 'WL', 'MIN', 'PTS', 'FGM', 'FGA', 'FG_PCT',\n       'FG3M', 'FG3A', 'FG3_PCT', 'FTM', 'FTA', 'FT_PCT', 'OREB', 'DREB',\n       'REB', 'AST', 'STL', 'BLK', 'TOV', 'PF', 'PLUS_MINUS'],\n      dtype='object')"
     },
     "execution_count": 39,
     "metadata": {},
     "output_type": "execute_result"
    }
   ],
   "source": [
    "game_df.columns"
   ],
   "metadata": {
    "collapsed": false,
    "ExecuteTime": {
     "end_time": "2023-08-16T20:12:24.222449Z",
     "start_time": "2023-08-16T20:12:24.203028Z"
    }
   }
  },
  {
   "cell_type": "code",
   "execution_count": 40,
   "outputs": [
    {
     "data": {
      "text/plain": "(39320, 50)"
     },
     "execution_count": 40,
     "metadata": {},
     "output_type": "execute_result"
    }
   ],
   "source": [
    "# Merge player_df with game_df to get the date of each game\n",
    "merged_df = player_df.merge(game_df[['GAME_ID', 'GAME_DATE', 'TEAM_ID',  'MIN', 'PTS', 'FGM', 'FGA', 'FG_PCT',\n",
    "       'FG3M', 'FG3A', 'FG3_PCT', 'FTM', 'FTA', 'FT_PCT', 'OREB', 'DREB',\n",
    "       'REB', 'AST', 'STL', 'BLK', 'TOV', 'PF', 'PLUS_MINUS']], on=['GAME_ID', 'TEAM_ID'], how='left', suffixes=(None, '_TEAM'))\n",
    "# Convert GAME_DATE to datetime\n",
    "merged_df['GAME_DATE'] = pd.to_datetime(merged_df['GAME_DATE'])\n",
    "merged_df.shape"
   ],
   "metadata": {
    "collapsed": false,
    "ExecuteTime": {
     "end_time": "2023-08-16T20:12:24.252489Z",
     "start_time": "2023-08-16T20:12:24.209559Z"
    }
   }
  },
  {
   "cell_type": "code",
   "execution_count": 41,
   "outputs": [],
   "source": [
    "# Sort the DataFrame by player and date\n",
    "merged_df.sort_values(['PLAYER_ID', 'GAME_DATE'], inplace=True)"
   ],
   "metadata": {
    "collapsed": false,
    "ExecuteTime": {
     "end_time": "2023-08-16T20:12:24.293862Z",
     "start_time": "2023-08-16T20:12:24.230685Z"
    }
   }
  },
  {
   "cell_type": "code",
   "execution_count": 42,
   "outputs": [
    {
     "data": {
      "text/plain": "        GAME_ID     TEAM_ID TEAM_ABBREVIATION    TEAM_CITY  PLAYER_ID  \\\n24021  12200012  1610612747               LAL  Los Angeles       2544   \n23982  12200022  1610612747               LAL  Los Angeles       2544   \n23958  12200028  1610612747               LAL  Los Angeles       2544   \n18508  12200040  1610612747               LAL  Los Angeles       2544   \n23904  12200057  1610612747               LAL  Los Angeles       2544   \n23846  12200070  1610612747               LAL  Los Angeles       2544   \n18427  22200002  1610612747               LAL  Los Angeles       2544   \n22119  22200016  1610612747               LAL  Los Angeles       2544   \n23832  22200037  1610612747               LAL  Los Angeles       2544   \n16100  22200064  1610612747               LAL  Los Angeles       2544   \n23796  22200076  1610612747               LAL  Los Angeles       2544   \n16060  22200095  1610612747               LAL  Los Angeles       2544   \n9417   22200117  1610612747               LAL  Los Angeles       2544   \n23783  22200131  1610612747               LAL  Los Angeles       2544   \n7222   22200140  1610612747               LAL  Los Angeles       2544   \n21924  22200170  1610612747               LAL  Los Angeles       2544   \n23689  22200234  1610612747               LAL  Los Angeles       2544   \n23588  22200282  1610612747               LAL  Los Angeles       2544   \n23561  22200288  1610612747               LAL  Los Angeles       2544   \n23546  22200308  1610612747               LAL  Los Angeles       2544   \n\n        PLAYER_NAME NICKNAME START_POSITION                 COMMENT  \\\n24021  LeBron James   LeBron              F                     NaN   \n23982  LeBron James   LeBron              F                     NaN   \n23958  LeBron James   LeBron            NaN  DNP - Coach's Decision   \n18508  LeBron James   LeBron            NaN  DNP - Coach's Decision   \n23904  LeBron James   LeBron              F                     NaN   \n23846  LeBron James   LeBron              F                     NaN   \n18427  LeBron James   LeBron              F                     NaN   \n22119  LeBron James   LeBron              F                     NaN   \n23832  LeBron James   LeBron              F                     NaN   \n16100  LeBron James   LeBron              F                     NaN   \n23796  LeBron James   LeBron              F                     NaN   \n16060  LeBron James   LeBron              F                     NaN   \n9417   LeBron James   LeBron              F                     NaN   \n23783  LeBron James   LeBron              F                     NaN   \n7222   LeBron James   LeBron              F                     NaN   \n21924  LeBron James   LeBron              F                     NaN   \n23689  LeBron James   LeBron            NaN    DND - Injury/Illness   \n23588  LeBron James   LeBron              F                     NaN   \n23561  LeBron James   LeBron              F                     NaN   \n23546  LeBron James   LeBron              F                     NaN   \n\n                MIN  ...  FG3M_avg_3  FG3M_avg_5  FG3M_avg_10  FG3M_avg_15  \\\n24021  15.000000:41  ...    0.000000    0.000000     0.000000     0.000000   \n23982  17.000000:26  ...    1.500000    1.500000     1.500000     1.500000   \n23958           NaN  ...    1.500000    1.500000     1.500000     1.500000   \n18508           NaN  ...    3.000000    1.500000     1.500000     1.500000   \n23904  24.000000:42  ...    2.000000    1.666667     1.666667     1.666667   \n23846  17.000000:47  ...    1.000000    1.666667     1.250000     1.250000   \n18427  35.000000:12  ...    1.666667    1.666667     1.600000     1.600000   \n22119  36.000000:40  ...    1.666667    1.750000     1.666667     1.666667   \n23832  37.000000:43  ...    2.333333    1.800000     1.714286     1.714286   \n16100  35.000000:19  ...    2.000000    1.800000     1.750000     1.750000   \n23796  37.000000:26  ...    1.666667    2.000000     1.875000     1.666667   \n16060  34.000000:42  ...    1.666667    1.800000     1.750000     1.700000   \n9417   39.000000:43  ...    1.000000    1.400000     1.555556     1.545455   \n23783  34.000000:10  ...    0.666667    1.000000     1.400000     1.416667   \n7222   33.000000:49  ...    0.333333    0.800000     1.300000     1.384615   \n21924  32.000000:21  ...    1.666667    1.400000     1.700000     1.692308   \n23689           NaN  ...    2.500000    1.250000     1.555556     1.583333   \n23588  33.000000:15  ...    2.500000    1.500000     1.444444     1.538462   \n23561  35.000000:28  ...    4.000000    3.250000     2.000000     1.928571   \n23546  36.000000:10  ...    3.666667    3.750000     2.111111     2.000000   \n\n       FG3M_avg_30  FTM_avg_3  FTM_avg_5  FTM_avg_10  FTM_avg_15  FTM_avg_30  \n24021     0.000000   4.000000   4.000000    4.000000    4.000000    4.000000  \n23982     1.500000   4.000000   4.000000    4.000000    4.000000    4.000000  \n23958     1.500000   4.000000   4.000000    4.000000    4.000000    4.000000  \n18508     1.500000   4.000000   4.000000    4.000000    4.000000    4.000000  \n23904     1.666667   5.000000   4.333333    4.333333    4.333333    4.333333  \n23846     1.250000   3.500000   3.666667    3.750000    3.750000    3.750000  \n18427     1.600000   3.666667   3.666667    3.800000    3.800000    3.800000  \n22119     1.666667   3.333333   3.750000    3.833333    3.833333    3.833333  \n23832     1.714286   4.333333   4.000000    4.000000    4.000000    4.000000  \n16100     1.750000   3.333333   3.200000    3.625000    3.625000    3.625000  \n23796     1.666667   4.333333   4.200000    4.000000    4.000000    4.000000  \n16060     1.700000   4.000000   4.200000    4.000000    4.000000    4.000000  \n9417      1.545455   4.333333   3.800000    3.777778    3.818182    3.818182  \n23783     1.416667   3.000000   3.400000    3.700000    3.750000    3.750000  \n7222      1.384615   1.666667   3.200000    3.200000    3.461538    3.461538  \n21924     1.571429   1.666667   2.200000    3.200000    3.307692    3.357143  \n23689     1.571429   1.000000   1.750000    3.111111    3.250000    3.357143  \n23588     1.533333   3.000000   2.250000    3.111111    3.307692    3.400000  \n23561     1.875000   7.000000   4.000000    3.666667    3.785714    3.812500  \n23546     1.941176   5.333333   4.500000    3.777778    3.571429    3.705882  \n\n[20 rows x 80 columns]",
      "text/html": "<div>\n<style scoped>\n    .dataframe tbody tr th:only-of-type {\n        vertical-align: middle;\n    }\n\n    .dataframe tbody tr th {\n        vertical-align: top;\n    }\n\n    .dataframe thead th {\n        text-align: right;\n    }\n</style>\n<table border=\"1\" class=\"dataframe\">\n  <thead>\n    <tr style=\"text-align: right;\">\n      <th></th>\n      <th>GAME_ID</th>\n      <th>TEAM_ID</th>\n      <th>TEAM_ABBREVIATION</th>\n      <th>TEAM_CITY</th>\n      <th>PLAYER_ID</th>\n      <th>PLAYER_NAME</th>\n      <th>NICKNAME</th>\n      <th>START_POSITION</th>\n      <th>COMMENT</th>\n      <th>MIN</th>\n      <th>...</th>\n      <th>FG3M_avg_3</th>\n      <th>FG3M_avg_5</th>\n      <th>FG3M_avg_10</th>\n      <th>FG3M_avg_15</th>\n      <th>FG3M_avg_30</th>\n      <th>FTM_avg_3</th>\n      <th>FTM_avg_5</th>\n      <th>FTM_avg_10</th>\n      <th>FTM_avg_15</th>\n      <th>FTM_avg_30</th>\n    </tr>\n  </thead>\n  <tbody>\n    <tr>\n      <th>24021</th>\n      <td>12200012</td>\n      <td>1610612747</td>\n      <td>LAL</td>\n      <td>Los Angeles</td>\n      <td>2544</td>\n      <td>LeBron James</td>\n      <td>LeBron</td>\n      <td>F</td>\n      <td>NaN</td>\n      <td>15.000000:41</td>\n      <td>...</td>\n      <td>0.000000</td>\n      <td>0.000000</td>\n      <td>0.000000</td>\n      <td>0.000000</td>\n      <td>0.000000</td>\n      <td>4.000000</td>\n      <td>4.000000</td>\n      <td>4.000000</td>\n      <td>4.000000</td>\n      <td>4.000000</td>\n    </tr>\n    <tr>\n      <th>23982</th>\n      <td>12200022</td>\n      <td>1610612747</td>\n      <td>LAL</td>\n      <td>Los Angeles</td>\n      <td>2544</td>\n      <td>LeBron James</td>\n      <td>LeBron</td>\n      <td>F</td>\n      <td>NaN</td>\n      <td>17.000000:26</td>\n      <td>...</td>\n      <td>1.500000</td>\n      <td>1.500000</td>\n      <td>1.500000</td>\n      <td>1.500000</td>\n      <td>1.500000</td>\n      <td>4.000000</td>\n      <td>4.000000</td>\n      <td>4.000000</td>\n      <td>4.000000</td>\n      <td>4.000000</td>\n    </tr>\n    <tr>\n      <th>23958</th>\n      <td>12200028</td>\n      <td>1610612747</td>\n      <td>LAL</td>\n      <td>Los Angeles</td>\n      <td>2544</td>\n      <td>LeBron James</td>\n      <td>LeBron</td>\n      <td>NaN</td>\n      <td>DNP - Coach's Decision</td>\n      <td>NaN</td>\n      <td>...</td>\n      <td>1.500000</td>\n      <td>1.500000</td>\n      <td>1.500000</td>\n      <td>1.500000</td>\n      <td>1.500000</td>\n      <td>4.000000</td>\n      <td>4.000000</td>\n      <td>4.000000</td>\n      <td>4.000000</td>\n      <td>4.000000</td>\n    </tr>\n    <tr>\n      <th>18508</th>\n      <td>12200040</td>\n      <td>1610612747</td>\n      <td>LAL</td>\n      <td>Los Angeles</td>\n      <td>2544</td>\n      <td>LeBron James</td>\n      <td>LeBron</td>\n      <td>NaN</td>\n      <td>DNP - Coach's Decision</td>\n      <td>NaN</td>\n      <td>...</td>\n      <td>3.000000</td>\n      <td>1.500000</td>\n      <td>1.500000</td>\n      <td>1.500000</td>\n      <td>1.500000</td>\n      <td>4.000000</td>\n      <td>4.000000</td>\n      <td>4.000000</td>\n      <td>4.000000</td>\n      <td>4.000000</td>\n    </tr>\n    <tr>\n      <th>23904</th>\n      <td>12200057</td>\n      <td>1610612747</td>\n      <td>LAL</td>\n      <td>Los Angeles</td>\n      <td>2544</td>\n      <td>LeBron James</td>\n      <td>LeBron</td>\n      <td>F</td>\n      <td>NaN</td>\n      <td>24.000000:42</td>\n      <td>...</td>\n      <td>2.000000</td>\n      <td>1.666667</td>\n      <td>1.666667</td>\n      <td>1.666667</td>\n      <td>1.666667</td>\n      <td>5.000000</td>\n      <td>4.333333</td>\n      <td>4.333333</td>\n      <td>4.333333</td>\n      <td>4.333333</td>\n    </tr>\n    <tr>\n      <th>23846</th>\n      <td>12200070</td>\n      <td>1610612747</td>\n      <td>LAL</td>\n      <td>Los Angeles</td>\n      <td>2544</td>\n      <td>LeBron James</td>\n      <td>LeBron</td>\n      <td>F</td>\n      <td>NaN</td>\n      <td>17.000000:47</td>\n      <td>...</td>\n      <td>1.000000</td>\n      <td>1.666667</td>\n      <td>1.250000</td>\n      <td>1.250000</td>\n      <td>1.250000</td>\n      <td>3.500000</td>\n      <td>3.666667</td>\n      <td>3.750000</td>\n      <td>3.750000</td>\n      <td>3.750000</td>\n    </tr>\n    <tr>\n      <th>18427</th>\n      <td>22200002</td>\n      <td>1610612747</td>\n      <td>LAL</td>\n      <td>Los Angeles</td>\n      <td>2544</td>\n      <td>LeBron James</td>\n      <td>LeBron</td>\n      <td>F</td>\n      <td>NaN</td>\n      <td>35.000000:12</td>\n      <td>...</td>\n      <td>1.666667</td>\n      <td>1.666667</td>\n      <td>1.600000</td>\n      <td>1.600000</td>\n      <td>1.600000</td>\n      <td>3.666667</td>\n      <td>3.666667</td>\n      <td>3.800000</td>\n      <td>3.800000</td>\n      <td>3.800000</td>\n    </tr>\n    <tr>\n      <th>22119</th>\n      <td>22200016</td>\n      <td>1610612747</td>\n      <td>LAL</td>\n      <td>Los Angeles</td>\n      <td>2544</td>\n      <td>LeBron James</td>\n      <td>LeBron</td>\n      <td>F</td>\n      <td>NaN</td>\n      <td>36.000000:40</td>\n      <td>...</td>\n      <td>1.666667</td>\n      <td>1.750000</td>\n      <td>1.666667</td>\n      <td>1.666667</td>\n      <td>1.666667</td>\n      <td>3.333333</td>\n      <td>3.750000</td>\n      <td>3.833333</td>\n      <td>3.833333</td>\n      <td>3.833333</td>\n    </tr>\n    <tr>\n      <th>23832</th>\n      <td>22200037</td>\n      <td>1610612747</td>\n      <td>LAL</td>\n      <td>Los Angeles</td>\n      <td>2544</td>\n      <td>LeBron James</td>\n      <td>LeBron</td>\n      <td>F</td>\n      <td>NaN</td>\n      <td>37.000000:43</td>\n      <td>...</td>\n      <td>2.333333</td>\n      <td>1.800000</td>\n      <td>1.714286</td>\n      <td>1.714286</td>\n      <td>1.714286</td>\n      <td>4.333333</td>\n      <td>4.000000</td>\n      <td>4.000000</td>\n      <td>4.000000</td>\n      <td>4.000000</td>\n    </tr>\n    <tr>\n      <th>16100</th>\n      <td>22200064</td>\n      <td>1610612747</td>\n      <td>LAL</td>\n      <td>Los Angeles</td>\n      <td>2544</td>\n      <td>LeBron James</td>\n      <td>LeBron</td>\n      <td>F</td>\n      <td>NaN</td>\n      <td>35.000000:19</td>\n      <td>...</td>\n      <td>2.000000</td>\n      <td>1.800000</td>\n      <td>1.750000</td>\n      <td>1.750000</td>\n      <td>1.750000</td>\n      <td>3.333333</td>\n      <td>3.200000</td>\n      <td>3.625000</td>\n      <td>3.625000</td>\n      <td>3.625000</td>\n    </tr>\n    <tr>\n      <th>23796</th>\n      <td>22200076</td>\n      <td>1610612747</td>\n      <td>LAL</td>\n      <td>Los Angeles</td>\n      <td>2544</td>\n      <td>LeBron James</td>\n      <td>LeBron</td>\n      <td>F</td>\n      <td>NaN</td>\n      <td>37.000000:26</td>\n      <td>...</td>\n      <td>1.666667</td>\n      <td>2.000000</td>\n      <td>1.875000</td>\n      <td>1.666667</td>\n      <td>1.666667</td>\n      <td>4.333333</td>\n      <td>4.200000</td>\n      <td>4.000000</td>\n      <td>4.000000</td>\n      <td>4.000000</td>\n    </tr>\n    <tr>\n      <th>16060</th>\n      <td>22200095</td>\n      <td>1610612747</td>\n      <td>LAL</td>\n      <td>Los Angeles</td>\n      <td>2544</td>\n      <td>LeBron James</td>\n      <td>LeBron</td>\n      <td>F</td>\n      <td>NaN</td>\n      <td>34.000000:42</td>\n      <td>...</td>\n      <td>1.666667</td>\n      <td>1.800000</td>\n      <td>1.750000</td>\n      <td>1.700000</td>\n      <td>1.700000</td>\n      <td>4.000000</td>\n      <td>4.200000</td>\n      <td>4.000000</td>\n      <td>4.000000</td>\n      <td>4.000000</td>\n    </tr>\n    <tr>\n      <th>9417</th>\n      <td>22200117</td>\n      <td>1610612747</td>\n      <td>LAL</td>\n      <td>Los Angeles</td>\n      <td>2544</td>\n      <td>LeBron James</td>\n      <td>LeBron</td>\n      <td>F</td>\n      <td>NaN</td>\n      <td>39.000000:43</td>\n      <td>...</td>\n      <td>1.000000</td>\n      <td>1.400000</td>\n      <td>1.555556</td>\n      <td>1.545455</td>\n      <td>1.545455</td>\n      <td>4.333333</td>\n      <td>3.800000</td>\n      <td>3.777778</td>\n      <td>3.818182</td>\n      <td>3.818182</td>\n    </tr>\n    <tr>\n      <th>23783</th>\n      <td>22200131</td>\n      <td>1610612747</td>\n      <td>LAL</td>\n      <td>Los Angeles</td>\n      <td>2544</td>\n      <td>LeBron James</td>\n      <td>LeBron</td>\n      <td>F</td>\n      <td>NaN</td>\n      <td>34.000000:10</td>\n      <td>...</td>\n      <td>0.666667</td>\n      <td>1.000000</td>\n      <td>1.400000</td>\n      <td>1.416667</td>\n      <td>1.416667</td>\n      <td>3.000000</td>\n      <td>3.400000</td>\n      <td>3.700000</td>\n      <td>3.750000</td>\n      <td>3.750000</td>\n    </tr>\n    <tr>\n      <th>7222</th>\n      <td>22200140</td>\n      <td>1610612747</td>\n      <td>LAL</td>\n      <td>Los Angeles</td>\n      <td>2544</td>\n      <td>LeBron James</td>\n      <td>LeBron</td>\n      <td>F</td>\n      <td>NaN</td>\n      <td>33.000000:49</td>\n      <td>...</td>\n      <td>0.333333</td>\n      <td>0.800000</td>\n      <td>1.300000</td>\n      <td>1.384615</td>\n      <td>1.384615</td>\n      <td>1.666667</td>\n      <td>3.200000</td>\n      <td>3.200000</td>\n      <td>3.461538</td>\n      <td>3.461538</td>\n    </tr>\n    <tr>\n      <th>21924</th>\n      <td>22200170</td>\n      <td>1610612747</td>\n      <td>LAL</td>\n      <td>Los Angeles</td>\n      <td>2544</td>\n      <td>LeBron James</td>\n      <td>LeBron</td>\n      <td>F</td>\n      <td>NaN</td>\n      <td>32.000000:21</td>\n      <td>...</td>\n      <td>1.666667</td>\n      <td>1.400000</td>\n      <td>1.700000</td>\n      <td>1.692308</td>\n      <td>1.571429</td>\n      <td>1.666667</td>\n      <td>2.200000</td>\n      <td>3.200000</td>\n      <td>3.307692</td>\n      <td>3.357143</td>\n    </tr>\n    <tr>\n      <th>23689</th>\n      <td>22200234</td>\n      <td>1610612747</td>\n      <td>LAL</td>\n      <td>Los Angeles</td>\n      <td>2544</td>\n      <td>LeBron James</td>\n      <td>LeBron</td>\n      <td>NaN</td>\n      <td>DND - Injury/Illness</td>\n      <td>NaN</td>\n      <td>...</td>\n      <td>2.500000</td>\n      <td>1.250000</td>\n      <td>1.555556</td>\n      <td>1.583333</td>\n      <td>1.571429</td>\n      <td>1.000000</td>\n      <td>1.750000</td>\n      <td>3.111111</td>\n      <td>3.250000</td>\n      <td>3.357143</td>\n    </tr>\n    <tr>\n      <th>23588</th>\n      <td>22200282</td>\n      <td>1610612747</td>\n      <td>LAL</td>\n      <td>Los Angeles</td>\n      <td>2544</td>\n      <td>LeBron James</td>\n      <td>LeBron</td>\n      <td>F</td>\n      <td>NaN</td>\n      <td>33.000000:15</td>\n      <td>...</td>\n      <td>2.500000</td>\n      <td>1.500000</td>\n      <td>1.444444</td>\n      <td>1.538462</td>\n      <td>1.533333</td>\n      <td>3.000000</td>\n      <td>2.250000</td>\n      <td>3.111111</td>\n      <td>3.307692</td>\n      <td>3.400000</td>\n    </tr>\n    <tr>\n      <th>23561</th>\n      <td>22200288</td>\n      <td>1610612747</td>\n      <td>LAL</td>\n      <td>Los Angeles</td>\n      <td>2544</td>\n      <td>LeBron James</td>\n      <td>LeBron</td>\n      <td>F</td>\n      <td>NaN</td>\n      <td>35.000000:28</td>\n      <td>...</td>\n      <td>4.000000</td>\n      <td>3.250000</td>\n      <td>2.000000</td>\n      <td>1.928571</td>\n      <td>1.875000</td>\n      <td>7.000000</td>\n      <td>4.000000</td>\n      <td>3.666667</td>\n      <td>3.785714</td>\n      <td>3.812500</td>\n    </tr>\n    <tr>\n      <th>23546</th>\n      <td>22200308</td>\n      <td>1610612747</td>\n      <td>LAL</td>\n      <td>Los Angeles</td>\n      <td>2544</td>\n      <td>LeBron James</td>\n      <td>LeBron</td>\n      <td>F</td>\n      <td>NaN</td>\n      <td>36.000000:10</td>\n      <td>...</td>\n      <td>3.666667</td>\n      <td>3.750000</td>\n      <td>2.111111</td>\n      <td>2.000000</td>\n      <td>1.941176</td>\n      <td>5.333333</td>\n      <td>4.500000</td>\n      <td>3.777778</td>\n      <td>3.571429</td>\n      <td>3.705882</td>\n    </tr>\n  </tbody>\n</table>\n<p>20 rows × 80 columns</p>\n</div>"
     },
     "execution_count": 42,
     "metadata": {},
     "output_type": "execute_result"
    }
   ],
   "source": [
    "# Define a window size for calculating recent averages\n",
    "window_sizes = [3,5,10,15,30]  # You can adjust this as needed\n",
    "\n",
    "# Calculate rolling averages for various statistics\n",
    "rolling_cols = ['PTS', 'REB', 'AST', 'FGM', 'FG3M', 'FTM']\n",
    "for col in rolling_cols:\n",
    "    for window in window_sizes:\n",
    "        merged_df[f'{col}_avg_{window}'] = merged_df.groupby('PLAYER_ID')[col].rolling(window=window, min_periods=1).mean().reset_index(level=0, drop=True)\n",
    "\n",
    "merged_df.head(20)"
   ],
   "metadata": {
    "collapsed": false,
    "ExecuteTime": {
     "end_time": "2023-08-16T20:12:24.821720Z",
     "start_time": "2023-08-16T20:12:24.253130Z"
    }
   }
  },
  {
   "cell_type": "code",
   "execution_count": 43,
   "outputs": [
    {
     "data": {
      "text/plain": "(39320, 80)"
     },
     "execution_count": 43,
     "metadata": {},
     "output_type": "execute_result"
    }
   ],
   "source": [
    "merged_df.shape"
   ],
   "metadata": {
    "collapsed": false,
    "ExecuteTime": {
     "end_time": "2023-08-16T20:12:24.824743Z",
     "start_time": "2023-08-16T20:12:24.822032Z"
    }
   }
  },
  {
   "cell_type": "code",
   "execution_count": 44,
   "outputs": [
    {
     "data": {
      "text/plain": "(39276, 101)"
     },
     "execution_count": 44,
     "metadata": {},
     "output_type": "execute_result"
    }
   ],
   "source": [
    "# Merge the dataframes based on game_id and TEAM_ID mismatch\n",
    "merged_df = merged_df.merge(game_df[['GAME_ID', 'TEAM_ID', 'MIN', 'PTS', 'FGM', 'FGA', 'FG_PCT',\n",
    "       'FG3M', 'FG3A', 'FG3_PCT', 'FTM', 'FTA', 'FT_PCT', 'OREB', 'DREB',\n",
    "       'REB', 'AST', 'STL', 'BLK', 'TOV', 'PF', 'PLUS_MINUS']], on='GAME_ID', how='left', suffixes=(None, '_OPP'))\n",
    "merged_df = merged_df[~merged_df['TEAM_ID'].eq(merged_df['TEAM_ID_OPP'])]\n",
    "merged_df.shape\n",
    "# Now merged_df contains the rows where game_id matches but TEAM_ID is different"
   ],
   "metadata": {
    "collapsed": false,
    "ExecuteTime": {
     "end_time": "2023-08-16T20:12:24.924116Z",
     "start_time": "2023-08-16T20:12:24.826487Z"
    }
   }
  },
  {
   "cell_type": "code",
   "execution_count": 45,
   "outputs": [
    {
     "data": {
      "text/plain": "    GAME_ID     TEAM_ID TEAM_ABBREVIATION    TEAM_CITY  PLAYER_ID  \\\n1  12200012  1610612747               LAL  Los Angeles       2544   \n3  12200022  1610612747               LAL  Los Angeles       2544   \n5  12200028  1610612747               LAL  Los Angeles       2544   \n6  12200040  1610612747               LAL  Los Angeles       2544   \n9  12200057  1610612747               LAL  Los Angeles       2544   \n\n    PLAYER_NAME NICKNAME START_POSITION                 COMMENT           MIN  \\\n1  LeBron James   LeBron              F                     NaN  15.000000:41   \n3  LeBron James   LeBron              F                     NaN  17.000000:26   \n5  LeBron James   LeBron            NaN  DNP - Coach's Decision           NaN   \n6  LeBron James   LeBron            NaN  DNP - Coach's Decision           NaN   \n9  LeBron James   LeBron              F                     NaN  24.000000:42   \n\n   ...  FT_PCT_OPP  OREB_OPP  DREB_OPP  REB_OPP  AST_OPP  STL_OPP  BLK_OPP  \\\n1  ...       0.632      15.0      39.0     54.0       25     14.0        8   \n3  ...       0.848      16.0      39.0     55.0       21     10.0        5   \n5  ...       0.769       9.0      50.0     59.0       29     11.0        6   \n6  ...       0.706      11.0      34.0     45.0       22     10.0        3   \n9  ...       0.733       9.0      43.0     52.0       29     10.0        4   \n\n   TOV_OPP  PF_OPP  PLUS_MINUS_OPP  \n1        7      25            30.0  \n3       11      30             4.0  \n5       15      31            15.0  \n6       19      22            -3.0  \n9       12      25             5.0  \n\n[5 rows x 101 columns]",
      "text/html": "<div>\n<style scoped>\n    .dataframe tbody tr th:only-of-type {\n        vertical-align: middle;\n    }\n\n    .dataframe tbody tr th {\n        vertical-align: top;\n    }\n\n    .dataframe thead th {\n        text-align: right;\n    }\n</style>\n<table border=\"1\" class=\"dataframe\">\n  <thead>\n    <tr style=\"text-align: right;\">\n      <th></th>\n      <th>GAME_ID</th>\n      <th>TEAM_ID</th>\n      <th>TEAM_ABBREVIATION</th>\n      <th>TEAM_CITY</th>\n      <th>PLAYER_ID</th>\n      <th>PLAYER_NAME</th>\n      <th>NICKNAME</th>\n      <th>START_POSITION</th>\n      <th>COMMENT</th>\n      <th>MIN</th>\n      <th>...</th>\n      <th>FT_PCT_OPP</th>\n      <th>OREB_OPP</th>\n      <th>DREB_OPP</th>\n      <th>REB_OPP</th>\n      <th>AST_OPP</th>\n      <th>STL_OPP</th>\n      <th>BLK_OPP</th>\n      <th>TOV_OPP</th>\n      <th>PF_OPP</th>\n      <th>PLUS_MINUS_OPP</th>\n    </tr>\n  </thead>\n  <tbody>\n    <tr>\n      <th>1</th>\n      <td>12200012</td>\n      <td>1610612747</td>\n      <td>LAL</td>\n      <td>Los Angeles</td>\n      <td>2544</td>\n      <td>LeBron James</td>\n      <td>LeBron</td>\n      <td>F</td>\n      <td>NaN</td>\n      <td>15.000000:41</td>\n      <td>...</td>\n      <td>0.632</td>\n      <td>15.0</td>\n      <td>39.0</td>\n      <td>54.0</td>\n      <td>25</td>\n      <td>14.0</td>\n      <td>8</td>\n      <td>7</td>\n      <td>25</td>\n      <td>30.0</td>\n    </tr>\n    <tr>\n      <th>3</th>\n      <td>12200022</td>\n      <td>1610612747</td>\n      <td>LAL</td>\n      <td>Los Angeles</td>\n      <td>2544</td>\n      <td>LeBron James</td>\n      <td>LeBron</td>\n      <td>F</td>\n      <td>NaN</td>\n      <td>17.000000:26</td>\n      <td>...</td>\n      <td>0.848</td>\n      <td>16.0</td>\n      <td>39.0</td>\n      <td>55.0</td>\n      <td>21</td>\n      <td>10.0</td>\n      <td>5</td>\n      <td>11</td>\n      <td>30</td>\n      <td>4.0</td>\n    </tr>\n    <tr>\n      <th>5</th>\n      <td>12200028</td>\n      <td>1610612747</td>\n      <td>LAL</td>\n      <td>Los Angeles</td>\n      <td>2544</td>\n      <td>LeBron James</td>\n      <td>LeBron</td>\n      <td>NaN</td>\n      <td>DNP - Coach's Decision</td>\n      <td>NaN</td>\n      <td>...</td>\n      <td>0.769</td>\n      <td>9.0</td>\n      <td>50.0</td>\n      <td>59.0</td>\n      <td>29</td>\n      <td>11.0</td>\n      <td>6</td>\n      <td>15</td>\n      <td>31</td>\n      <td>15.0</td>\n    </tr>\n    <tr>\n      <th>6</th>\n      <td>12200040</td>\n      <td>1610612747</td>\n      <td>LAL</td>\n      <td>Los Angeles</td>\n      <td>2544</td>\n      <td>LeBron James</td>\n      <td>LeBron</td>\n      <td>NaN</td>\n      <td>DNP - Coach's Decision</td>\n      <td>NaN</td>\n      <td>...</td>\n      <td>0.706</td>\n      <td>11.0</td>\n      <td>34.0</td>\n      <td>45.0</td>\n      <td>22</td>\n      <td>10.0</td>\n      <td>3</td>\n      <td>19</td>\n      <td>22</td>\n      <td>-3.0</td>\n    </tr>\n    <tr>\n      <th>9</th>\n      <td>12200057</td>\n      <td>1610612747</td>\n      <td>LAL</td>\n      <td>Los Angeles</td>\n      <td>2544</td>\n      <td>LeBron James</td>\n      <td>LeBron</td>\n      <td>F</td>\n      <td>NaN</td>\n      <td>24.000000:42</td>\n      <td>...</td>\n      <td>0.733</td>\n      <td>9.0</td>\n      <td>43.0</td>\n      <td>52.0</td>\n      <td>29</td>\n      <td>10.0</td>\n      <td>4</td>\n      <td>12</td>\n      <td>25</td>\n      <td>5.0</td>\n    </tr>\n  </tbody>\n</table>\n<p>5 rows × 101 columns</p>\n</div>"
     },
     "execution_count": 45,
     "metadata": {},
     "output_type": "execute_result"
    }
   ],
   "source": [
    "merged_df.head()"
   ],
   "metadata": {
    "collapsed": false,
    "ExecuteTime": {
     "end_time": "2023-08-16T20:12:24.924540Z",
     "start_time": "2023-08-16T20:12:24.910375Z"
    }
   }
  },
  {
   "cell_type": "code",
   "execution_count": 46,
   "outputs": [
    {
     "data": {
      "text/plain": "     GAME_ID     TEAM_ID TEAM_ABBREVIATION    TEAM_CITY  PLAYER_ID  \\\n1   12200012  1610612747               LAL  Los Angeles       2544   \n3   12200022  1610612747               LAL  Los Angeles       2544   \n5   12200028  1610612747               LAL  Los Angeles       2544   \n6   12200040  1610612747               LAL  Los Angeles       2544   \n9   12200057  1610612747               LAL  Los Angeles       2544   \n11  12200070  1610612747               LAL  Los Angeles       2544   \n12  22200002  1610612747               LAL  Los Angeles       2544   \n14  22200016  1610612747               LAL  Los Angeles       2544   \n17  22200037  1610612747               LAL  Los Angeles       2544   \n18  22200064  1610612747               LAL  Los Angeles       2544   \n21  22200076  1610612747               LAL  Los Angeles       2544   \n22  22200095  1610612747               LAL  Los Angeles       2544   \n24  22200117  1610612747               LAL  Los Angeles       2544   \n27  22200131  1610612747               LAL  Los Angeles       2544   \n28  22200140  1610612747               LAL  Los Angeles       2544   \n30  22200170  1610612747               LAL  Los Angeles       2544   \n33  22200234  1610612747               LAL  Los Angeles       2544   \n35  22200282  1610612747               LAL  Los Angeles       2544   \n37  22200288  1610612747               LAL  Los Angeles       2544   \n39  22200308  1610612747               LAL  Los Angeles       2544   \n\n     PLAYER_NAME NICKNAME START_POSITION                 COMMENT  \\\n1   LeBron James   LeBron              F                     NaN   \n3   LeBron James   LeBron              F                     NaN   \n5   LeBron James   LeBron            NaN  DNP - Coach's Decision   \n6   LeBron James   LeBron            NaN  DNP - Coach's Decision   \n9   LeBron James   LeBron              F                     NaN   \n11  LeBron James   LeBron              F                     NaN   \n12  LeBron James   LeBron              F                     NaN   \n14  LeBron James   LeBron              F                     NaN   \n17  LeBron James   LeBron              F                     NaN   \n18  LeBron James   LeBron              F                     NaN   \n21  LeBron James   LeBron              F                     NaN   \n22  LeBron James   LeBron              F                     NaN   \n24  LeBron James   LeBron              F                     NaN   \n27  LeBron James   LeBron              F                     NaN   \n28  LeBron James   LeBron              F                     NaN   \n30  LeBron James   LeBron              F                     NaN   \n33  LeBron James   LeBron            NaN    DND - Injury/Illness   \n35  LeBron James   LeBron              F                     NaN   \n37  LeBron James   LeBron              F                     NaN   \n39  LeBron James   LeBron              F                     NaN   \n\n             MIN  ...  DREB_OPP_avg_15  DREB_OPP_avg_30  STL_OPP_avg_5  \\\n1   15.000000:41  ...        39.000000        39.000000      14.000000   \n3   17.000000:26  ...        39.000000        39.000000      12.000000   \n5            NaN  ...        42.666667        42.666667      11.666667   \n6            NaN  ...        40.500000        40.500000      11.250000   \n9   24.000000:42  ...        41.000000        41.000000      11.000000   \n11  17.000000:47  ...        41.000000        41.000000      10.400000   \n12  35.000000:12  ...        40.428571        40.428571      10.600000   \n14  36.000000:40  ...        41.375000        41.375000       9.800000   \n17  37.000000:43  ...        41.111111        41.111111       9.000000   \n18  35.000000:19  ...        41.500000        41.500000       9.400000   \n21  37.000000:26  ...        40.909091        40.909091       9.800000   \n22  34.000000:42  ...        40.416667        40.416667       8.200000   \n24  39.000000:43  ...        40.384615        40.384615       8.800000   \n27  34.000000:10  ...        39.857143        39.857143       9.200000   \n28  33.000000:49  ...        39.800000        39.800000       8.200000   \n30  32.000000:21  ...        39.533333        39.500000       7.600000   \n33           NaN  ...        38.733333        38.764706       8.800000   \n35  33.000000:15  ...        37.400000        38.277778       9.000000   \n37  35.000000:28  ...        37.133333        37.842105       9.000000   \n39  36.000000:10  ...        36.733333        37.800000       8.800000   \n\n    STL_OPP_avg_10  STL_OPP_avg_15  STL_OPP_avg_30  BLK_OPP_avg_5  \\\n1        14.000000       14.000000       14.000000       8.000000   \n3        12.000000       12.000000       12.000000       6.500000   \n5        11.666667       11.666667       11.666667       6.333333   \n6        11.250000       11.250000       11.250000       5.500000   \n9        11.000000       11.000000       11.000000       5.200000   \n11       11.000000       11.000000       11.000000       3.800000   \n12       11.000000       11.000000       11.000000       3.600000   \n14       10.500000       10.500000       10.500000       3.800000   \n17       10.000000       10.000000       10.000000       4.200000   \n18       10.200000       10.200000       10.200000       4.400000   \n21       10.100000       10.454545       10.454545       5.800000   \n22        9.400000        9.833333        9.833333       6.600000   \n24        9.300000        9.846154        9.846154       6.200000   \n27        9.100000        9.714286        9.714286       5.800000   \n28        8.800000        9.533333        9.533333       6.000000   \n30        8.700000        9.266667        9.562500       5.800000   \n33        8.500000        9.200000        9.529412       5.000000   \n35        8.900000        9.200000        9.611111       4.600000   \n37        9.100000        9.066667        9.526316       5.000000   \n39        8.500000        8.800000        9.350000       5.800000   \n\n    BLK_OPP_avg_10  BLK_OPP_avg_15  BLK_OPP_avg_30  \n1         8.000000        8.000000        8.000000  \n3         6.500000        6.500000        6.500000  \n5         6.333333        6.333333        6.333333  \n6         5.500000        5.500000        5.500000  \n9         5.200000        5.200000        5.200000  \n11        4.500000        4.500000        4.500000  \n12        4.428571        4.428571        4.428571  \n14        4.750000        4.750000        4.750000  \n17        4.777778        4.777778        4.777778  \n18        4.800000        4.800000        4.800000  \n21        4.800000        5.090909        5.090909  \n22        5.100000        5.333333        5.333333  \n24        5.000000        5.307692        5.307692  \n27        5.000000        5.142857        5.142857  \n28        5.200000        5.200000        5.200000  \n30        5.800000        5.133333        5.312500  \n33        5.800000        5.066667        5.235294  \n35        5.400000        4.866667        5.111111  \n37        5.400000        5.000000        5.105263  \n39        5.900000        5.400000        5.350000  \n\n[20 rows x 113 columns]",
      "text/html": "<div>\n<style scoped>\n    .dataframe tbody tr th:only-of-type {\n        vertical-align: middle;\n    }\n\n    .dataframe tbody tr th {\n        vertical-align: top;\n    }\n\n    .dataframe thead th {\n        text-align: right;\n    }\n</style>\n<table border=\"1\" class=\"dataframe\">\n  <thead>\n    <tr style=\"text-align: right;\">\n      <th></th>\n      <th>GAME_ID</th>\n      <th>TEAM_ID</th>\n      <th>TEAM_ABBREVIATION</th>\n      <th>TEAM_CITY</th>\n      <th>PLAYER_ID</th>\n      <th>PLAYER_NAME</th>\n      <th>NICKNAME</th>\n      <th>START_POSITION</th>\n      <th>COMMENT</th>\n      <th>MIN</th>\n      <th>...</th>\n      <th>DREB_OPP_avg_15</th>\n      <th>DREB_OPP_avg_30</th>\n      <th>STL_OPP_avg_5</th>\n      <th>STL_OPP_avg_10</th>\n      <th>STL_OPP_avg_15</th>\n      <th>STL_OPP_avg_30</th>\n      <th>BLK_OPP_avg_5</th>\n      <th>BLK_OPP_avg_10</th>\n      <th>BLK_OPP_avg_15</th>\n      <th>BLK_OPP_avg_30</th>\n    </tr>\n  </thead>\n  <tbody>\n    <tr>\n      <th>1</th>\n      <td>12200012</td>\n      <td>1610612747</td>\n      <td>LAL</td>\n      <td>Los Angeles</td>\n      <td>2544</td>\n      <td>LeBron James</td>\n      <td>LeBron</td>\n      <td>F</td>\n      <td>NaN</td>\n      <td>15.000000:41</td>\n      <td>...</td>\n      <td>39.000000</td>\n      <td>39.000000</td>\n      <td>14.000000</td>\n      <td>14.000000</td>\n      <td>14.000000</td>\n      <td>14.000000</td>\n      <td>8.000000</td>\n      <td>8.000000</td>\n      <td>8.000000</td>\n      <td>8.000000</td>\n    </tr>\n    <tr>\n      <th>3</th>\n      <td>12200022</td>\n      <td>1610612747</td>\n      <td>LAL</td>\n      <td>Los Angeles</td>\n      <td>2544</td>\n      <td>LeBron James</td>\n      <td>LeBron</td>\n      <td>F</td>\n      <td>NaN</td>\n      <td>17.000000:26</td>\n      <td>...</td>\n      <td>39.000000</td>\n      <td>39.000000</td>\n      <td>12.000000</td>\n      <td>12.000000</td>\n      <td>12.000000</td>\n      <td>12.000000</td>\n      <td>6.500000</td>\n      <td>6.500000</td>\n      <td>6.500000</td>\n      <td>6.500000</td>\n    </tr>\n    <tr>\n      <th>5</th>\n      <td>12200028</td>\n      <td>1610612747</td>\n      <td>LAL</td>\n      <td>Los Angeles</td>\n      <td>2544</td>\n      <td>LeBron James</td>\n      <td>LeBron</td>\n      <td>NaN</td>\n      <td>DNP - Coach's Decision</td>\n      <td>NaN</td>\n      <td>...</td>\n      <td>42.666667</td>\n      <td>42.666667</td>\n      <td>11.666667</td>\n      <td>11.666667</td>\n      <td>11.666667</td>\n      <td>11.666667</td>\n      <td>6.333333</td>\n      <td>6.333333</td>\n      <td>6.333333</td>\n      <td>6.333333</td>\n    </tr>\n    <tr>\n      <th>6</th>\n      <td>12200040</td>\n      <td>1610612747</td>\n      <td>LAL</td>\n      <td>Los Angeles</td>\n      <td>2544</td>\n      <td>LeBron James</td>\n      <td>LeBron</td>\n      <td>NaN</td>\n      <td>DNP - Coach's Decision</td>\n      <td>NaN</td>\n      <td>...</td>\n      <td>40.500000</td>\n      <td>40.500000</td>\n      <td>11.250000</td>\n      <td>11.250000</td>\n      <td>11.250000</td>\n      <td>11.250000</td>\n      <td>5.500000</td>\n      <td>5.500000</td>\n      <td>5.500000</td>\n      <td>5.500000</td>\n    </tr>\n    <tr>\n      <th>9</th>\n      <td>12200057</td>\n      <td>1610612747</td>\n      <td>LAL</td>\n      <td>Los Angeles</td>\n      <td>2544</td>\n      <td>LeBron James</td>\n      <td>LeBron</td>\n      <td>F</td>\n      <td>NaN</td>\n      <td>24.000000:42</td>\n      <td>...</td>\n      <td>41.000000</td>\n      <td>41.000000</td>\n      <td>11.000000</td>\n      <td>11.000000</td>\n      <td>11.000000</td>\n      <td>11.000000</td>\n      <td>5.200000</td>\n      <td>5.200000</td>\n      <td>5.200000</td>\n      <td>5.200000</td>\n    </tr>\n    <tr>\n      <th>11</th>\n      <td>12200070</td>\n      <td>1610612747</td>\n      <td>LAL</td>\n      <td>Los Angeles</td>\n      <td>2544</td>\n      <td>LeBron James</td>\n      <td>LeBron</td>\n      <td>F</td>\n      <td>NaN</td>\n      <td>17.000000:47</td>\n      <td>...</td>\n      <td>41.000000</td>\n      <td>41.000000</td>\n      <td>10.400000</td>\n      <td>11.000000</td>\n      <td>11.000000</td>\n      <td>11.000000</td>\n      <td>3.800000</td>\n      <td>4.500000</td>\n      <td>4.500000</td>\n      <td>4.500000</td>\n    </tr>\n    <tr>\n      <th>12</th>\n      <td>22200002</td>\n      <td>1610612747</td>\n      <td>LAL</td>\n      <td>Los Angeles</td>\n      <td>2544</td>\n      <td>LeBron James</td>\n      <td>LeBron</td>\n      <td>F</td>\n      <td>NaN</td>\n      <td>35.000000:12</td>\n      <td>...</td>\n      <td>40.428571</td>\n      <td>40.428571</td>\n      <td>10.600000</td>\n      <td>11.000000</td>\n      <td>11.000000</td>\n      <td>11.000000</td>\n      <td>3.600000</td>\n      <td>4.428571</td>\n      <td>4.428571</td>\n      <td>4.428571</td>\n    </tr>\n    <tr>\n      <th>14</th>\n      <td>22200016</td>\n      <td>1610612747</td>\n      <td>LAL</td>\n      <td>Los Angeles</td>\n      <td>2544</td>\n      <td>LeBron James</td>\n      <td>LeBron</td>\n      <td>F</td>\n      <td>NaN</td>\n      <td>36.000000:40</td>\n      <td>...</td>\n      <td>41.375000</td>\n      <td>41.375000</td>\n      <td>9.800000</td>\n      <td>10.500000</td>\n      <td>10.500000</td>\n      <td>10.500000</td>\n      <td>3.800000</td>\n      <td>4.750000</td>\n      <td>4.750000</td>\n      <td>4.750000</td>\n    </tr>\n    <tr>\n      <th>17</th>\n      <td>22200037</td>\n      <td>1610612747</td>\n      <td>LAL</td>\n      <td>Los Angeles</td>\n      <td>2544</td>\n      <td>LeBron James</td>\n      <td>LeBron</td>\n      <td>F</td>\n      <td>NaN</td>\n      <td>37.000000:43</td>\n      <td>...</td>\n      <td>41.111111</td>\n      <td>41.111111</td>\n      <td>9.000000</td>\n      <td>10.000000</td>\n      <td>10.000000</td>\n      <td>10.000000</td>\n      <td>4.200000</td>\n      <td>4.777778</td>\n      <td>4.777778</td>\n      <td>4.777778</td>\n    </tr>\n    <tr>\n      <th>18</th>\n      <td>22200064</td>\n      <td>1610612747</td>\n      <td>LAL</td>\n      <td>Los Angeles</td>\n      <td>2544</td>\n      <td>LeBron James</td>\n      <td>LeBron</td>\n      <td>F</td>\n      <td>NaN</td>\n      <td>35.000000:19</td>\n      <td>...</td>\n      <td>41.500000</td>\n      <td>41.500000</td>\n      <td>9.400000</td>\n      <td>10.200000</td>\n      <td>10.200000</td>\n      <td>10.200000</td>\n      <td>4.400000</td>\n      <td>4.800000</td>\n      <td>4.800000</td>\n      <td>4.800000</td>\n    </tr>\n    <tr>\n      <th>21</th>\n      <td>22200076</td>\n      <td>1610612747</td>\n      <td>LAL</td>\n      <td>Los Angeles</td>\n      <td>2544</td>\n      <td>LeBron James</td>\n      <td>LeBron</td>\n      <td>F</td>\n      <td>NaN</td>\n      <td>37.000000:26</td>\n      <td>...</td>\n      <td>40.909091</td>\n      <td>40.909091</td>\n      <td>9.800000</td>\n      <td>10.100000</td>\n      <td>10.454545</td>\n      <td>10.454545</td>\n      <td>5.800000</td>\n      <td>4.800000</td>\n      <td>5.090909</td>\n      <td>5.090909</td>\n    </tr>\n    <tr>\n      <th>22</th>\n      <td>22200095</td>\n      <td>1610612747</td>\n      <td>LAL</td>\n      <td>Los Angeles</td>\n      <td>2544</td>\n      <td>LeBron James</td>\n      <td>LeBron</td>\n      <td>F</td>\n      <td>NaN</td>\n      <td>34.000000:42</td>\n      <td>...</td>\n      <td>40.416667</td>\n      <td>40.416667</td>\n      <td>8.200000</td>\n      <td>9.400000</td>\n      <td>9.833333</td>\n      <td>9.833333</td>\n      <td>6.600000</td>\n      <td>5.100000</td>\n      <td>5.333333</td>\n      <td>5.333333</td>\n    </tr>\n    <tr>\n      <th>24</th>\n      <td>22200117</td>\n      <td>1610612747</td>\n      <td>LAL</td>\n      <td>Los Angeles</td>\n      <td>2544</td>\n      <td>LeBron James</td>\n      <td>LeBron</td>\n      <td>F</td>\n      <td>NaN</td>\n      <td>39.000000:43</td>\n      <td>...</td>\n      <td>40.384615</td>\n      <td>40.384615</td>\n      <td>8.800000</td>\n      <td>9.300000</td>\n      <td>9.846154</td>\n      <td>9.846154</td>\n      <td>6.200000</td>\n      <td>5.000000</td>\n      <td>5.307692</td>\n      <td>5.307692</td>\n    </tr>\n    <tr>\n      <th>27</th>\n      <td>22200131</td>\n      <td>1610612747</td>\n      <td>LAL</td>\n      <td>Los Angeles</td>\n      <td>2544</td>\n      <td>LeBron James</td>\n      <td>LeBron</td>\n      <td>F</td>\n      <td>NaN</td>\n      <td>34.000000:10</td>\n      <td>...</td>\n      <td>39.857143</td>\n      <td>39.857143</td>\n      <td>9.200000</td>\n      <td>9.100000</td>\n      <td>9.714286</td>\n      <td>9.714286</td>\n      <td>5.800000</td>\n      <td>5.000000</td>\n      <td>5.142857</td>\n      <td>5.142857</td>\n    </tr>\n    <tr>\n      <th>28</th>\n      <td>22200140</td>\n      <td>1610612747</td>\n      <td>LAL</td>\n      <td>Los Angeles</td>\n      <td>2544</td>\n      <td>LeBron James</td>\n      <td>LeBron</td>\n      <td>F</td>\n      <td>NaN</td>\n      <td>33.000000:49</td>\n      <td>...</td>\n      <td>39.800000</td>\n      <td>39.800000</td>\n      <td>8.200000</td>\n      <td>8.800000</td>\n      <td>9.533333</td>\n      <td>9.533333</td>\n      <td>6.000000</td>\n      <td>5.200000</td>\n      <td>5.200000</td>\n      <td>5.200000</td>\n    </tr>\n    <tr>\n      <th>30</th>\n      <td>22200170</td>\n      <td>1610612747</td>\n      <td>LAL</td>\n      <td>Los Angeles</td>\n      <td>2544</td>\n      <td>LeBron James</td>\n      <td>LeBron</td>\n      <td>F</td>\n      <td>NaN</td>\n      <td>32.000000:21</td>\n      <td>...</td>\n      <td>39.533333</td>\n      <td>39.500000</td>\n      <td>7.600000</td>\n      <td>8.700000</td>\n      <td>9.266667</td>\n      <td>9.562500</td>\n      <td>5.800000</td>\n      <td>5.800000</td>\n      <td>5.133333</td>\n      <td>5.312500</td>\n    </tr>\n    <tr>\n      <th>33</th>\n      <td>22200234</td>\n      <td>1610612747</td>\n      <td>LAL</td>\n      <td>Los Angeles</td>\n      <td>2544</td>\n      <td>LeBron James</td>\n      <td>LeBron</td>\n      <td>NaN</td>\n      <td>DND - Injury/Illness</td>\n      <td>NaN</td>\n      <td>...</td>\n      <td>38.733333</td>\n      <td>38.764706</td>\n      <td>8.800000</td>\n      <td>8.500000</td>\n      <td>9.200000</td>\n      <td>9.529412</td>\n      <td>5.000000</td>\n      <td>5.800000</td>\n      <td>5.066667</td>\n      <td>5.235294</td>\n    </tr>\n    <tr>\n      <th>35</th>\n      <td>22200282</td>\n      <td>1610612747</td>\n      <td>LAL</td>\n      <td>Los Angeles</td>\n      <td>2544</td>\n      <td>LeBron James</td>\n      <td>LeBron</td>\n      <td>F</td>\n      <td>NaN</td>\n      <td>33.000000:15</td>\n      <td>...</td>\n      <td>37.400000</td>\n      <td>38.277778</td>\n      <td>9.000000</td>\n      <td>8.900000</td>\n      <td>9.200000</td>\n      <td>9.611111</td>\n      <td>4.600000</td>\n      <td>5.400000</td>\n      <td>4.866667</td>\n      <td>5.111111</td>\n    </tr>\n    <tr>\n      <th>37</th>\n      <td>22200288</td>\n      <td>1610612747</td>\n      <td>LAL</td>\n      <td>Los Angeles</td>\n      <td>2544</td>\n      <td>LeBron James</td>\n      <td>LeBron</td>\n      <td>F</td>\n      <td>NaN</td>\n      <td>35.000000:28</td>\n      <td>...</td>\n      <td>37.133333</td>\n      <td>37.842105</td>\n      <td>9.000000</td>\n      <td>9.100000</td>\n      <td>9.066667</td>\n      <td>9.526316</td>\n      <td>5.000000</td>\n      <td>5.400000</td>\n      <td>5.000000</td>\n      <td>5.105263</td>\n    </tr>\n    <tr>\n      <th>39</th>\n      <td>22200308</td>\n      <td>1610612747</td>\n      <td>LAL</td>\n      <td>Los Angeles</td>\n      <td>2544</td>\n      <td>LeBron James</td>\n      <td>LeBron</td>\n      <td>F</td>\n      <td>NaN</td>\n      <td>36.000000:10</td>\n      <td>...</td>\n      <td>36.733333</td>\n      <td>37.800000</td>\n      <td>8.800000</td>\n      <td>8.500000</td>\n      <td>8.800000</td>\n      <td>9.350000</td>\n      <td>5.800000</td>\n      <td>5.900000</td>\n      <td>5.400000</td>\n      <td>5.350000</td>\n    </tr>\n  </tbody>\n</table>\n<p>20 rows × 113 columns</p>\n</div>"
     },
     "execution_count": 46,
     "metadata": {},
     "output_type": "execute_result"
    }
   ],
   "source": [
    "# Define a window size for calculating recent averages\n",
    "window_sizes = [5,10,15,30]  # You can adjust this as needed\n",
    "\n",
    "# Calculate rolling averages of opponent defensive statistics\n",
    "rolling_cols = ['DREB_OPP', 'STL_OPP', 'BLK_OPP']\n",
    "for col in rolling_cols:\n",
    "    for window in window_sizes:\n",
    "        merged_df[f'{col}_avg_{window}'] = merged_df.groupby('PLAYER_ID')[col].rolling(window=window, min_periods=1).mean().reset_index(level=0, drop=True)\n",
    "\n",
    "merged_df.head(20)"
   ],
   "metadata": {
    "collapsed": false,
    "ExecuteTime": {
     "end_time": "2023-08-16T20:16:00.207677Z",
     "start_time": "2023-08-16T20:16:00.009448Z"
    }
   }
  },
  {
   "cell_type": "code",
   "execution_count": 53,
   "outputs": [
    {
     "data": {
      "text/plain": "     GAME_ID     TEAM_ID TEAM_ABBREVIATION    TEAM_CITY  PLAYER_ID  \\\n1   12200012  1610612747               LAL  Los Angeles       2544   \n3   12200022  1610612747               LAL  Los Angeles       2544   \n5   12200028  1610612747               LAL  Los Angeles       2544   \n6   12200040  1610612747               LAL  Los Angeles       2544   \n9   12200057  1610612747               LAL  Los Angeles       2544   \n11  12200070  1610612747               LAL  Los Angeles       2544   \n12  22200002  1610612747               LAL  Los Angeles       2544   \n14  22200016  1610612747               LAL  Los Angeles       2544   \n17  22200037  1610612747               LAL  Los Angeles       2544   \n18  22200064  1610612747               LAL  Los Angeles       2544   \n21  22200076  1610612747               LAL  Los Angeles       2544   \n22  22200095  1610612747               LAL  Los Angeles       2544   \n24  22200117  1610612747               LAL  Los Angeles       2544   \n27  22200131  1610612747               LAL  Los Angeles       2544   \n28  22200140  1610612747               LAL  Los Angeles       2544   \n30  22200170  1610612747               LAL  Los Angeles       2544   \n33  22200234  1610612747               LAL  Los Angeles       2544   \n35  22200282  1610612747               LAL  Los Angeles       2544   \n37  22200288  1610612747               LAL  Los Angeles       2544   \n39  22200308  1610612747               LAL  Los Angeles       2544   \n\n     PLAYER_NAME NICKNAME START_POSITION                 COMMENT  \\\n1   LeBron James   LeBron              F                     NaN   \n3   LeBron James   LeBron              F                     NaN   \n5   LeBron James   LeBron            NaN  DNP - Coach's Decision   \n6   LeBron James   LeBron            NaN  DNP - Coach's Decision   \n9   LeBron James   LeBron              F                     NaN   \n11  LeBron James   LeBron              F                     NaN   \n12  LeBron James   LeBron              F                     NaN   \n14  LeBron James   LeBron              F                     NaN   \n17  LeBron James   LeBron              F                     NaN   \n18  LeBron James   LeBron              F                     NaN   \n21  LeBron James   LeBron              F                     NaN   \n22  LeBron James   LeBron              F                     NaN   \n24  LeBron James   LeBron              F                     NaN   \n27  LeBron James   LeBron              F                     NaN   \n28  LeBron James   LeBron              F                     NaN   \n30  LeBron James   LeBron              F                     NaN   \n33  LeBron James   LeBron            NaN    DND - Injury/Illness   \n35  LeBron James   LeBron              F                     NaN   \n37  LeBron James   LeBron              F                     NaN   \n39  LeBron James   LeBron              F                     NaN   \n\n             MIN  ...  FG3_PCT_TEAM_avg_15  FT_PCT_TEAM_avg_5  \\\n1   15.000000:41  ...             0.233000            0.62500   \n3   17.000000:26  ...             0.275000            0.67600   \n5            NaN  ...             0.258000            0.69500   \n6            NaN  ...             0.302500            0.75725   \n9   24.000000:42  ...             0.293200            0.76260   \n11  17.000000:47  ...             0.284667            0.76660   \n12  35.000000:12  ...             0.279714            0.77320   \n14  36.000000:40  ...             0.269750            0.79580   \n17  37.000000:43  ...             0.260000            0.76700   \n18  35.000000:19  ...             0.260700            0.74780   \n21  37.000000:26  ...             0.265182            0.75960   \n22  34.000000:42  ...             0.279167            0.76760   \n24  39.000000:43  ...             0.279077            0.77240   \n27  34.000000:10  ...             0.289357            0.79100   \n28  33.000000:49  ...             0.289800            0.76760   \n30  32.000000:21  ...             0.295133            0.75620   \n33           NaN  ...             0.297333            0.77120   \n35  33.000000:15  ...             0.302133            0.76720   \n37  35.000000:28  ...             0.307400            0.76160   \n39  36.000000:10  ...             0.314000            0.80220   \n\n    FT_PCT_TEAM_avg_10  FT_PCT_TEAM_avg_15  TOV_avg_5  TOV_avg_10  TOV_avg_15  \\\n1             0.625000            0.625000      20.00   20.000000   20.000000   \n3             0.676000            0.676000      18.00   18.000000   18.000000   \n5             0.695000            0.695000      18.00   18.000000   18.000000   \n6             0.757250            0.757250      17.75   17.750000   17.750000   \n9             0.762600            0.762600      18.20   18.200000   18.200000   \n11            0.743000            0.743000      18.60   18.833333   18.833333   \n12            0.745429            0.745429      19.60   19.142857   19.142857   \n14            0.758000            0.758000      18.00   18.000000   18.000000   \n17            0.762667            0.762667      17.20   17.444444   17.444444   \n18            0.755200            0.755200      16.00   17.100000   17.100000   \n21            0.763100            0.750545      16.00   17.300000   17.545455   \n22            0.770400            0.754667      13.40   16.500000   16.750000   \n24            0.784100            0.763538      14.80   16.400000   16.769231   \n27            0.779000            0.772786      14.40   15.800000   16.357143   \n28            0.757700            0.759333      14.80   15.400000   16.333333   \n30            0.757900            0.760800      13.40   14.700000   16.000000   \n33            0.769400            0.770667      15.00   14.200000   16.000000   \n35            0.769800            0.778467      15.80   15.300000   16.200000   \n37            0.776300            0.773200      17.00   15.700000   16.200000   \n39            0.784900            0.772533      16.60   15.700000   15.800000   \n\n    PLUS_MINUS_TEAM_avg_5  PLUS_MINUS_TEAM_avg_10  PLUS_MINUS_TEAM_avg_15  \n1              -30.000000              -30.000000              -30.000000  \n3              -17.000000              -17.000000              -17.000000  \n5              -16.333333              -16.333333              -16.333333  \n6              -11.500000              -11.500000              -11.500000  \n9              -10.200000              -10.200000              -10.200000  \n11             -12.000000              -15.000000              -15.000000  \n12             -14.000000              -14.857143              -14.857143  \n14             -12.200000              -13.750000              -13.750000  \n17             -13.200000              -12.444444              -12.444444  \n18             -14.400000              -12.300000              -12.300000  \n21              -8.400000              -10.200000              -12.000000  \n22              -3.400000               -8.700000              -10.083333  \n24              -1.600000               -6.900000               -9.076923  \n27              -4.000000               -8.600000               -9.428571  \n28              -4.600000               -9.500000               -9.733333  \n30              -5.400000               -6.900000               -8.600000  \n33              -6.200000               -4.800000               -7.866667  \n35              -4.600000               -3.100000               -6.133333  \n37              -0.800000               -2.400000               -6.000000  \n39               1.800000               -1.400000               -5.733333  \n\n[20 rows x 143 columns]",
      "text/html": "<div>\n<style scoped>\n    .dataframe tbody tr th:only-of-type {\n        vertical-align: middle;\n    }\n\n    .dataframe tbody tr th {\n        vertical-align: top;\n    }\n\n    .dataframe thead th {\n        text-align: right;\n    }\n</style>\n<table border=\"1\" class=\"dataframe\">\n  <thead>\n    <tr style=\"text-align: right;\">\n      <th></th>\n      <th>GAME_ID</th>\n      <th>TEAM_ID</th>\n      <th>TEAM_ABBREVIATION</th>\n      <th>TEAM_CITY</th>\n      <th>PLAYER_ID</th>\n      <th>PLAYER_NAME</th>\n      <th>NICKNAME</th>\n      <th>START_POSITION</th>\n      <th>COMMENT</th>\n      <th>MIN</th>\n      <th>...</th>\n      <th>FG3_PCT_TEAM_avg_15</th>\n      <th>FT_PCT_TEAM_avg_5</th>\n      <th>FT_PCT_TEAM_avg_10</th>\n      <th>FT_PCT_TEAM_avg_15</th>\n      <th>TOV_avg_5</th>\n      <th>TOV_avg_10</th>\n      <th>TOV_avg_15</th>\n      <th>PLUS_MINUS_TEAM_avg_5</th>\n      <th>PLUS_MINUS_TEAM_avg_10</th>\n      <th>PLUS_MINUS_TEAM_avg_15</th>\n    </tr>\n  </thead>\n  <tbody>\n    <tr>\n      <th>1</th>\n      <td>12200012</td>\n      <td>1610612747</td>\n      <td>LAL</td>\n      <td>Los Angeles</td>\n      <td>2544</td>\n      <td>LeBron James</td>\n      <td>LeBron</td>\n      <td>F</td>\n      <td>NaN</td>\n      <td>15.000000:41</td>\n      <td>...</td>\n      <td>0.233000</td>\n      <td>0.62500</td>\n      <td>0.625000</td>\n      <td>0.625000</td>\n      <td>20.00</td>\n      <td>20.000000</td>\n      <td>20.000000</td>\n      <td>-30.000000</td>\n      <td>-30.000000</td>\n      <td>-30.000000</td>\n    </tr>\n    <tr>\n      <th>3</th>\n      <td>12200022</td>\n      <td>1610612747</td>\n      <td>LAL</td>\n      <td>Los Angeles</td>\n      <td>2544</td>\n      <td>LeBron James</td>\n      <td>LeBron</td>\n      <td>F</td>\n      <td>NaN</td>\n      <td>17.000000:26</td>\n      <td>...</td>\n      <td>0.275000</td>\n      <td>0.67600</td>\n      <td>0.676000</td>\n      <td>0.676000</td>\n      <td>18.00</td>\n      <td>18.000000</td>\n      <td>18.000000</td>\n      <td>-17.000000</td>\n      <td>-17.000000</td>\n      <td>-17.000000</td>\n    </tr>\n    <tr>\n      <th>5</th>\n      <td>12200028</td>\n      <td>1610612747</td>\n      <td>LAL</td>\n      <td>Los Angeles</td>\n      <td>2544</td>\n      <td>LeBron James</td>\n      <td>LeBron</td>\n      <td>NaN</td>\n      <td>DNP - Coach's Decision</td>\n      <td>NaN</td>\n      <td>...</td>\n      <td>0.258000</td>\n      <td>0.69500</td>\n      <td>0.695000</td>\n      <td>0.695000</td>\n      <td>18.00</td>\n      <td>18.000000</td>\n      <td>18.000000</td>\n      <td>-16.333333</td>\n      <td>-16.333333</td>\n      <td>-16.333333</td>\n    </tr>\n    <tr>\n      <th>6</th>\n      <td>12200040</td>\n      <td>1610612747</td>\n      <td>LAL</td>\n      <td>Los Angeles</td>\n      <td>2544</td>\n      <td>LeBron James</td>\n      <td>LeBron</td>\n      <td>NaN</td>\n      <td>DNP - Coach's Decision</td>\n      <td>NaN</td>\n      <td>...</td>\n      <td>0.302500</td>\n      <td>0.75725</td>\n      <td>0.757250</td>\n      <td>0.757250</td>\n      <td>17.75</td>\n      <td>17.750000</td>\n      <td>17.750000</td>\n      <td>-11.500000</td>\n      <td>-11.500000</td>\n      <td>-11.500000</td>\n    </tr>\n    <tr>\n      <th>9</th>\n      <td>12200057</td>\n      <td>1610612747</td>\n      <td>LAL</td>\n      <td>Los Angeles</td>\n      <td>2544</td>\n      <td>LeBron James</td>\n      <td>LeBron</td>\n      <td>F</td>\n      <td>NaN</td>\n      <td>24.000000:42</td>\n      <td>...</td>\n      <td>0.293200</td>\n      <td>0.76260</td>\n      <td>0.762600</td>\n      <td>0.762600</td>\n      <td>18.20</td>\n      <td>18.200000</td>\n      <td>18.200000</td>\n      <td>-10.200000</td>\n      <td>-10.200000</td>\n      <td>-10.200000</td>\n    </tr>\n    <tr>\n      <th>11</th>\n      <td>12200070</td>\n      <td>1610612747</td>\n      <td>LAL</td>\n      <td>Los Angeles</td>\n      <td>2544</td>\n      <td>LeBron James</td>\n      <td>LeBron</td>\n      <td>F</td>\n      <td>NaN</td>\n      <td>17.000000:47</td>\n      <td>...</td>\n      <td>0.284667</td>\n      <td>0.76660</td>\n      <td>0.743000</td>\n      <td>0.743000</td>\n      <td>18.60</td>\n      <td>18.833333</td>\n      <td>18.833333</td>\n      <td>-12.000000</td>\n      <td>-15.000000</td>\n      <td>-15.000000</td>\n    </tr>\n    <tr>\n      <th>12</th>\n      <td>22200002</td>\n      <td>1610612747</td>\n      <td>LAL</td>\n      <td>Los Angeles</td>\n      <td>2544</td>\n      <td>LeBron James</td>\n      <td>LeBron</td>\n      <td>F</td>\n      <td>NaN</td>\n      <td>35.000000:12</td>\n      <td>...</td>\n      <td>0.279714</td>\n      <td>0.77320</td>\n      <td>0.745429</td>\n      <td>0.745429</td>\n      <td>19.60</td>\n      <td>19.142857</td>\n      <td>19.142857</td>\n      <td>-14.000000</td>\n      <td>-14.857143</td>\n      <td>-14.857143</td>\n    </tr>\n    <tr>\n      <th>14</th>\n      <td>22200016</td>\n      <td>1610612747</td>\n      <td>LAL</td>\n      <td>Los Angeles</td>\n      <td>2544</td>\n      <td>LeBron James</td>\n      <td>LeBron</td>\n      <td>F</td>\n      <td>NaN</td>\n      <td>36.000000:40</td>\n      <td>...</td>\n      <td>0.269750</td>\n      <td>0.79580</td>\n      <td>0.758000</td>\n      <td>0.758000</td>\n      <td>18.00</td>\n      <td>18.000000</td>\n      <td>18.000000</td>\n      <td>-12.200000</td>\n      <td>-13.750000</td>\n      <td>-13.750000</td>\n    </tr>\n    <tr>\n      <th>17</th>\n      <td>22200037</td>\n      <td>1610612747</td>\n      <td>LAL</td>\n      <td>Los Angeles</td>\n      <td>2544</td>\n      <td>LeBron James</td>\n      <td>LeBron</td>\n      <td>F</td>\n      <td>NaN</td>\n      <td>37.000000:43</td>\n      <td>...</td>\n      <td>0.260000</td>\n      <td>0.76700</td>\n      <td>0.762667</td>\n      <td>0.762667</td>\n      <td>17.20</td>\n      <td>17.444444</td>\n      <td>17.444444</td>\n      <td>-13.200000</td>\n      <td>-12.444444</td>\n      <td>-12.444444</td>\n    </tr>\n    <tr>\n      <th>18</th>\n      <td>22200064</td>\n      <td>1610612747</td>\n      <td>LAL</td>\n      <td>Los Angeles</td>\n      <td>2544</td>\n      <td>LeBron James</td>\n      <td>LeBron</td>\n      <td>F</td>\n      <td>NaN</td>\n      <td>35.000000:19</td>\n      <td>...</td>\n      <td>0.260700</td>\n      <td>0.74780</td>\n      <td>0.755200</td>\n      <td>0.755200</td>\n      <td>16.00</td>\n      <td>17.100000</td>\n      <td>17.100000</td>\n      <td>-14.400000</td>\n      <td>-12.300000</td>\n      <td>-12.300000</td>\n    </tr>\n    <tr>\n      <th>21</th>\n      <td>22200076</td>\n      <td>1610612747</td>\n      <td>LAL</td>\n      <td>Los Angeles</td>\n      <td>2544</td>\n      <td>LeBron James</td>\n      <td>LeBron</td>\n      <td>F</td>\n      <td>NaN</td>\n      <td>37.000000:26</td>\n      <td>...</td>\n      <td>0.265182</td>\n      <td>0.75960</td>\n      <td>0.763100</td>\n      <td>0.750545</td>\n      <td>16.00</td>\n      <td>17.300000</td>\n      <td>17.545455</td>\n      <td>-8.400000</td>\n      <td>-10.200000</td>\n      <td>-12.000000</td>\n    </tr>\n    <tr>\n      <th>22</th>\n      <td>22200095</td>\n      <td>1610612747</td>\n      <td>LAL</td>\n      <td>Los Angeles</td>\n      <td>2544</td>\n      <td>LeBron James</td>\n      <td>LeBron</td>\n      <td>F</td>\n      <td>NaN</td>\n      <td>34.000000:42</td>\n      <td>...</td>\n      <td>0.279167</td>\n      <td>0.76760</td>\n      <td>0.770400</td>\n      <td>0.754667</td>\n      <td>13.40</td>\n      <td>16.500000</td>\n      <td>16.750000</td>\n      <td>-3.400000</td>\n      <td>-8.700000</td>\n      <td>-10.083333</td>\n    </tr>\n    <tr>\n      <th>24</th>\n      <td>22200117</td>\n      <td>1610612747</td>\n      <td>LAL</td>\n      <td>Los Angeles</td>\n      <td>2544</td>\n      <td>LeBron James</td>\n      <td>LeBron</td>\n      <td>F</td>\n      <td>NaN</td>\n      <td>39.000000:43</td>\n      <td>...</td>\n      <td>0.279077</td>\n      <td>0.77240</td>\n      <td>0.784100</td>\n      <td>0.763538</td>\n      <td>14.80</td>\n      <td>16.400000</td>\n      <td>16.769231</td>\n      <td>-1.600000</td>\n      <td>-6.900000</td>\n      <td>-9.076923</td>\n    </tr>\n    <tr>\n      <th>27</th>\n      <td>22200131</td>\n      <td>1610612747</td>\n      <td>LAL</td>\n      <td>Los Angeles</td>\n      <td>2544</td>\n      <td>LeBron James</td>\n      <td>LeBron</td>\n      <td>F</td>\n      <td>NaN</td>\n      <td>34.000000:10</td>\n      <td>...</td>\n      <td>0.289357</td>\n      <td>0.79100</td>\n      <td>0.779000</td>\n      <td>0.772786</td>\n      <td>14.40</td>\n      <td>15.800000</td>\n      <td>16.357143</td>\n      <td>-4.000000</td>\n      <td>-8.600000</td>\n      <td>-9.428571</td>\n    </tr>\n    <tr>\n      <th>28</th>\n      <td>22200140</td>\n      <td>1610612747</td>\n      <td>LAL</td>\n      <td>Los Angeles</td>\n      <td>2544</td>\n      <td>LeBron James</td>\n      <td>LeBron</td>\n      <td>F</td>\n      <td>NaN</td>\n      <td>33.000000:49</td>\n      <td>...</td>\n      <td>0.289800</td>\n      <td>0.76760</td>\n      <td>0.757700</td>\n      <td>0.759333</td>\n      <td>14.80</td>\n      <td>15.400000</td>\n      <td>16.333333</td>\n      <td>-4.600000</td>\n      <td>-9.500000</td>\n      <td>-9.733333</td>\n    </tr>\n    <tr>\n      <th>30</th>\n      <td>22200170</td>\n      <td>1610612747</td>\n      <td>LAL</td>\n      <td>Los Angeles</td>\n      <td>2544</td>\n      <td>LeBron James</td>\n      <td>LeBron</td>\n      <td>F</td>\n      <td>NaN</td>\n      <td>32.000000:21</td>\n      <td>...</td>\n      <td>0.295133</td>\n      <td>0.75620</td>\n      <td>0.757900</td>\n      <td>0.760800</td>\n      <td>13.40</td>\n      <td>14.700000</td>\n      <td>16.000000</td>\n      <td>-5.400000</td>\n      <td>-6.900000</td>\n      <td>-8.600000</td>\n    </tr>\n    <tr>\n      <th>33</th>\n      <td>22200234</td>\n      <td>1610612747</td>\n      <td>LAL</td>\n      <td>Los Angeles</td>\n      <td>2544</td>\n      <td>LeBron James</td>\n      <td>LeBron</td>\n      <td>NaN</td>\n      <td>DND - Injury/Illness</td>\n      <td>NaN</td>\n      <td>...</td>\n      <td>0.297333</td>\n      <td>0.77120</td>\n      <td>0.769400</td>\n      <td>0.770667</td>\n      <td>15.00</td>\n      <td>14.200000</td>\n      <td>16.000000</td>\n      <td>-6.200000</td>\n      <td>-4.800000</td>\n      <td>-7.866667</td>\n    </tr>\n    <tr>\n      <th>35</th>\n      <td>22200282</td>\n      <td>1610612747</td>\n      <td>LAL</td>\n      <td>Los Angeles</td>\n      <td>2544</td>\n      <td>LeBron James</td>\n      <td>LeBron</td>\n      <td>F</td>\n      <td>NaN</td>\n      <td>33.000000:15</td>\n      <td>...</td>\n      <td>0.302133</td>\n      <td>0.76720</td>\n      <td>0.769800</td>\n      <td>0.778467</td>\n      <td>15.80</td>\n      <td>15.300000</td>\n      <td>16.200000</td>\n      <td>-4.600000</td>\n      <td>-3.100000</td>\n      <td>-6.133333</td>\n    </tr>\n    <tr>\n      <th>37</th>\n      <td>22200288</td>\n      <td>1610612747</td>\n      <td>LAL</td>\n      <td>Los Angeles</td>\n      <td>2544</td>\n      <td>LeBron James</td>\n      <td>LeBron</td>\n      <td>F</td>\n      <td>NaN</td>\n      <td>35.000000:28</td>\n      <td>...</td>\n      <td>0.307400</td>\n      <td>0.76160</td>\n      <td>0.776300</td>\n      <td>0.773200</td>\n      <td>17.00</td>\n      <td>15.700000</td>\n      <td>16.200000</td>\n      <td>-0.800000</td>\n      <td>-2.400000</td>\n      <td>-6.000000</td>\n    </tr>\n    <tr>\n      <th>39</th>\n      <td>22200308</td>\n      <td>1610612747</td>\n      <td>LAL</td>\n      <td>Los Angeles</td>\n      <td>2544</td>\n      <td>LeBron James</td>\n      <td>LeBron</td>\n      <td>F</td>\n      <td>NaN</td>\n      <td>36.000000:10</td>\n      <td>...</td>\n      <td>0.314000</td>\n      <td>0.80220</td>\n      <td>0.784900</td>\n      <td>0.772533</td>\n      <td>16.60</td>\n      <td>15.700000</td>\n      <td>15.800000</td>\n      <td>1.800000</td>\n      <td>-1.400000</td>\n      <td>-5.733333</td>\n    </tr>\n  </tbody>\n</table>\n<p>20 rows × 143 columns</p>\n</div>"
     },
     "execution_count": 53,
     "metadata": {},
     "output_type": "execute_result"
    }
   ],
   "source": [
    "# Define a window size for calculating recent averages\n",
    "window_sizes = [5,10,15]  # You can adjust this as needed\n",
    "\n",
    "# Calculate rolling averages of team performance metrics\n",
    "team_performance_metrics = ['PTS_TEAM',\n",
    "    'REB_TEAM',\n",
    "    'AST_TEAM',\n",
    "    'STL_TEAM',\n",
    "    'BLK_TEAM',\n",
    "    'FG_PCT_TEAM',\n",
    "    'FG3_PCT_TEAM',\n",
    "    'FT_PCT_TEAM',\n",
    "    'TOV',\n",
    "    'PLUS_MINUS_TEAM']\n",
    "for col in team_performance_metrics:\n",
    "    for window in window_sizes:\n",
    "        merged_df[f'{col}_avg_{window}'] = merged_df.groupby('PLAYER_ID')[col].rolling(window=window, min_periods=1).mean().reset_index(level=0, drop=True)\n",
    "\n",
    "merged_df.head(20)"
   ],
   "metadata": {
    "collapsed": false,
    "ExecuteTime": {
     "end_time": "2023-08-16T20:55:57.839099Z",
     "start_time": "2023-08-16T20:55:57.417349Z"
    }
   }
  },
  {
   "cell_type": "code",
   "execution_count": 54,
   "outputs": [
    {
     "data": {
      "text/plain": "array(['F', nan, 'C', 'G'], dtype=object)"
     },
     "execution_count": 54,
     "metadata": {},
     "output_type": "execute_result"
    }
   ],
   "source": [
    "merged_df.START_POSITION.unique()"
   ],
   "metadata": {
    "collapsed": false,
    "ExecuteTime": {
     "end_time": "2023-08-16T20:57:56.496398Z",
     "start_time": "2023-08-16T20:57:56.495294Z"
    }
   }
  },
  {
   "cell_type": "code",
   "execution_count": 55,
   "outputs": [
    {
     "data": {
      "text/plain": "array([nan, \"DNP - Coach's Decision\", 'DND - Injury/Illness',\n       'DNP - Injury/Illness', 'NWT - Personal', 'NWT - Not With Team',\n       'DND-Return to Competition Reconditioning', 'DNP - Rest',\n       'DND - Rest', 'NWT - Injury/Illness', 'DNP - League Suspension',\n       'NWT - League Suspension', \"DND - Coach's Decision\",\n       'NWT-Return to Competition Reconditioning', 'NWT_TEAM_SUSPENSION',\n       'DND_LEAGUE_SUSPENSION', 'DNP - Personal', 'DND - Personal',\n       'NWT - Trade Pending', 'DNP - Concussion Protocol',\n       'DND - Concussion Protocol', 'NWT - Health and Safety Protocols',\n       'DND - Health and Safety Protocols'], dtype=object)"
     },
     "execution_count": 55,
     "metadata": {},
     "output_type": "execute_result"
    }
   ],
   "source": [
    "merged_df.COMMENT.unique()"
   ],
   "metadata": {
    "collapsed": false,
    "ExecuteTime": {
     "end_time": "2023-08-16T20:58:24.317161Z",
     "start_time": "2023-08-16T20:58:24.315203Z"
    }
   }
  },
  {
   "cell_type": "code",
   "execution_count": 56,
   "outputs": [],
   "source": [
    "merged_df.to_csv('../../data/player_stat_team_stat_aggregate.csv', index = False)"
   ],
   "metadata": {
    "collapsed": false,
    "ExecuteTime": {
     "end_time": "2023-08-17T19:18:30.007611Z",
     "start_time": "2023-08-17T19:18:27.749199Z"
    }
   }
  }
 ],
 "metadata": {
  "kernelspec": {
   "display_name": "Python 3",
   "language": "python",
   "name": "python3"
  },
  "language_info": {
   "codemirror_mode": {
    "name": "ipython",
    "version": 2
   },
   "file_extension": ".py",
   "mimetype": "text/x-python",
   "name": "python",
   "nbconvert_exporter": "python",
   "pygments_lexer": "ipython2",
   "version": "2.7.6"
  }
 },
 "nbformat": 4,
 "nbformat_minor": 0
}
