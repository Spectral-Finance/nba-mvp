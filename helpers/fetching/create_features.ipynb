{
 "cells": [
  {
   "cell_type": "code",
   "execution_count": 1,
   "outputs": [],
   "source": [
    "import pandas as pd"
   ],
   "metadata": {
    "collapsed": false,
    "ExecuteTime": {
     "end_time": "2023-08-24T20:27:23.384266Z",
     "start_time": "2023-08-24T20:27:23.076474Z"
    }
   }
  },
  {
   "cell_type": "code",
   "execution_count": 2,
   "outputs": [
    {
     "data": {
      "text/plain": "    GAME_ID     TEAM_ID TEAM_ABBREVIATION TEAM_CITY  PLAYER_ID    PLAYER_NAME  \\\n0  42200116  1610612738               BOS    Boston    1627759   Jaylen Brown   \n1  42200116  1610612738               BOS    Boston    1628369   Jayson Tatum   \n2  42200116  1610612738               BOS    Boston     201143     Al Horford   \n3  42200116  1610612738               BOS    Boston    1628401  Derrick White   \n4  42200116  1610612738               BOS    Boston     203935   Marcus Smart   \n\n  NICKNAME START_POSITION COMMENT           MIN  ...  OREB  DREB   REB  AST  \\\n0   Jaylen              F     NaN  39.000000:35  ...   0.0   5.0   5.0  2.0   \n1   Jayson              F     NaN  39.000000:52  ...   2.0  12.0  14.0  7.0   \n2       Al              C     NaN  29.000000:54  ...   3.0   9.0  12.0  4.0   \n3  Derrick              G     NaN  29.000000:46  ...   1.0   1.0   2.0  2.0   \n4   Marcus              G     NaN  32.000000:33  ...   3.0   1.0   4.0  4.0   \n\n   STL  BLK   TO   PF   PTS  PLUS_MINUS  \n0  0.0  1.0  2.0  3.0  32.0         7.0  \n1  1.0  2.0  0.0  1.0  30.0        11.0  \n2  2.0  3.0  0.0  4.0  10.0         9.0  \n3  0.0  1.0  1.0  3.0   7.0        -1.0  \n4  1.0  0.0  2.0  0.0  22.0        11.0  \n\n[5 rows x 29 columns]",
      "text/html": "<div>\n<style scoped>\n    .dataframe tbody tr th:only-of-type {\n        vertical-align: middle;\n    }\n\n    .dataframe tbody tr th {\n        vertical-align: top;\n    }\n\n    .dataframe thead th {\n        text-align: right;\n    }\n</style>\n<table border=\"1\" class=\"dataframe\">\n  <thead>\n    <tr style=\"text-align: right;\">\n      <th></th>\n      <th>GAME_ID</th>\n      <th>TEAM_ID</th>\n      <th>TEAM_ABBREVIATION</th>\n      <th>TEAM_CITY</th>\n      <th>PLAYER_ID</th>\n      <th>PLAYER_NAME</th>\n      <th>NICKNAME</th>\n      <th>START_POSITION</th>\n      <th>COMMENT</th>\n      <th>MIN</th>\n      <th>...</th>\n      <th>OREB</th>\n      <th>DREB</th>\n      <th>REB</th>\n      <th>AST</th>\n      <th>STL</th>\n      <th>BLK</th>\n      <th>TO</th>\n      <th>PF</th>\n      <th>PTS</th>\n      <th>PLUS_MINUS</th>\n    </tr>\n  </thead>\n  <tbody>\n    <tr>\n      <th>0</th>\n      <td>42200116</td>\n      <td>1610612738</td>\n      <td>BOS</td>\n      <td>Boston</td>\n      <td>1627759</td>\n      <td>Jaylen Brown</td>\n      <td>Jaylen</td>\n      <td>F</td>\n      <td>NaN</td>\n      <td>39.000000:35</td>\n      <td>...</td>\n      <td>0.0</td>\n      <td>5.0</td>\n      <td>5.0</td>\n      <td>2.0</td>\n      <td>0.0</td>\n      <td>1.0</td>\n      <td>2.0</td>\n      <td>3.0</td>\n      <td>32.0</td>\n      <td>7.0</td>\n    </tr>\n    <tr>\n      <th>1</th>\n      <td>42200116</td>\n      <td>1610612738</td>\n      <td>BOS</td>\n      <td>Boston</td>\n      <td>1628369</td>\n      <td>Jayson Tatum</td>\n      <td>Jayson</td>\n      <td>F</td>\n      <td>NaN</td>\n      <td>39.000000:52</td>\n      <td>...</td>\n      <td>2.0</td>\n      <td>12.0</td>\n      <td>14.0</td>\n      <td>7.0</td>\n      <td>1.0</td>\n      <td>2.0</td>\n      <td>0.0</td>\n      <td>1.0</td>\n      <td>30.0</td>\n      <td>11.0</td>\n    </tr>\n    <tr>\n      <th>2</th>\n      <td>42200116</td>\n      <td>1610612738</td>\n      <td>BOS</td>\n      <td>Boston</td>\n      <td>201143</td>\n      <td>Al Horford</td>\n      <td>Al</td>\n      <td>C</td>\n      <td>NaN</td>\n      <td>29.000000:54</td>\n      <td>...</td>\n      <td>3.0</td>\n      <td>9.0</td>\n      <td>12.0</td>\n      <td>4.0</td>\n      <td>2.0</td>\n      <td>3.0</td>\n      <td>0.0</td>\n      <td>4.0</td>\n      <td>10.0</td>\n      <td>9.0</td>\n    </tr>\n    <tr>\n      <th>3</th>\n      <td>42200116</td>\n      <td>1610612738</td>\n      <td>BOS</td>\n      <td>Boston</td>\n      <td>1628401</td>\n      <td>Derrick White</td>\n      <td>Derrick</td>\n      <td>G</td>\n      <td>NaN</td>\n      <td>29.000000:46</td>\n      <td>...</td>\n      <td>1.0</td>\n      <td>1.0</td>\n      <td>2.0</td>\n      <td>2.0</td>\n      <td>0.0</td>\n      <td>1.0</td>\n      <td>1.0</td>\n      <td>3.0</td>\n      <td>7.0</td>\n      <td>-1.0</td>\n    </tr>\n    <tr>\n      <th>4</th>\n      <td>42200116</td>\n      <td>1610612738</td>\n      <td>BOS</td>\n      <td>Boston</td>\n      <td>203935</td>\n      <td>Marcus Smart</td>\n      <td>Marcus</td>\n      <td>G</td>\n      <td>NaN</td>\n      <td>32.000000:33</td>\n      <td>...</td>\n      <td>3.0</td>\n      <td>1.0</td>\n      <td>4.0</td>\n      <td>4.0</td>\n      <td>1.0</td>\n      <td>0.0</td>\n      <td>2.0</td>\n      <td>0.0</td>\n      <td>22.0</td>\n      <td>11.0</td>\n    </tr>\n  </tbody>\n</table>\n<p>5 rows × 29 columns</p>\n</div>"
     },
     "execution_count": 2,
     "metadata": {},
     "output_type": "execute_result"
    }
   ],
   "source": [
    "player_df = pd.read_csv('../../data/player_stat_2022.csv')\n",
    "player_df.head()"
   ],
   "metadata": {
    "collapsed": false,
    "ExecuteTime": {
     "end_time": "2023-08-24T20:27:24.637029Z",
     "start_time": "2023-08-24T20:27:24.548760Z"
    }
   }
  },
  {
   "cell_type": "code",
   "execution_count": 3,
   "outputs": [
    {
     "data": {
      "text/plain": "Index(['GAME_ID', 'TEAM_ID', 'TEAM_ABBREVIATION', 'TEAM_CITY', 'PLAYER_ID',\n       'PLAYER_NAME', 'NICKNAME', 'START_POSITION', 'COMMENT', 'MIN', 'FGM',\n       'FGA', 'FG_PCT', 'FG3M', 'FG3A', 'FG3_PCT', 'FTM', 'FTA', 'FT_PCT',\n       'OREB', 'DREB', 'REB', 'AST', 'STL', 'BLK', 'TO', 'PF', 'PTS',\n       'PLUS_MINUS'],\n      dtype='object')"
     },
     "execution_count": 3,
     "metadata": {},
     "output_type": "execute_result"
    }
   ],
   "source": [
    "player_df.columns"
   ],
   "metadata": {
    "collapsed": false,
    "ExecuteTime": {
     "end_time": "2023-08-24T20:27:26.792706Z",
     "start_time": "2023-08-24T20:27:26.788633Z"
    }
   }
  },
  {
   "cell_type": "code",
   "execution_count": 4,
   "outputs": [
    {
     "data": {
      "text/plain": "GAME_ID                int64\nTEAM_ID                int64\nTEAM_ABBREVIATION     object\nTEAM_CITY             object\nPLAYER_ID              int64\nPLAYER_NAME           object\nNICKNAME              object\nSTART_POSITION        object\nCOMMENT               object\nMIN                   object\nFGM                  float64\nFGA                  float64\nFG_PCT               float64\nFG3M                 float64\nFG3A                 float64\nFG3_PCT              float64\nFTM                  float64\nFTA                  float64\nFT_PCT               float64\nOREB                 float64\nDREB                 float64\nREB                  float64\nAST                  float64\nSTL                  float64\nBLK                  float64\nTO                   float64\nPF                   float64\nPTS                  float64\nPLUS_MINUS           float64\ndtype: object"
     },
     "execution_count": 4,
     "metadata": {},
     "output_type": "execute_result"
    }
   ],
   "source": [
    "player_df.dtypes"
   ],
   "metadata": {
    "collapsed": false,
    "ExecuteTime": {
     "end_time": "2023-08-24T20:21:35.834703Z",
     "start_time": "2023-08-24T20:21:35.831860Z"
    }
   }
  },
  {
   "cell_type": "code",
   "execution_count": 4,
   "outputs": [
    {
     "data": {
      "text/plain": "0    39.583333\n1    39.866667\n2    29.900000\n3    29.766667\n4    32.550000\nName: MIN, dtype: float64"
     },
     "execution_count": 4,
     "metadata": {},
     "output_type": "execute_result"
    }
   ],
   "source": [
    "# Convert MIN column to float\n",
    "def convert_minutes_to_float(time_str):\n",
    "    if ':' in time_str:\n",
    "        minutes, seconds = time_str.split(':')\n",
    "        total_minutes = float(minutes) + float(seconds) / 60\n",
    "    else:\n",
    "        total_minutes = float(time_str)\n",
    "    return total_minutes\n",
    "\n",
    "# Convert MIN column to string type (if not already)\n",
    "player_df['MIN'] = player_df['MIN'].astype(str)\n",
    "\n",
    "# Apply the conversion function\n",
    "player_df['MIN'] = player_df['MIN'].apply(convert_minutes_to_float)\n",
    "\n",
    "player_df['MIN'].head()"
   ],
   "metadata": {
    "collapsed": false,
    "ExecuteTime": {
     "end_time": "2023-08-24T20:27:30.010033Z",
     "start_time": "2023-08-24T20:27:29.977989Z"
    }
   }
  },
  {
   "cell_type": "code",
   "execution_count": 5,
   "outputs": [
    {
     "data": {
      "text/plain": "   SEASON_ID     TEAM_ID TEAM_ABBREVIATION      TEAM_NAME   GAME_ID  \\\n0      42022  1610612737               ATL  Atlanta Hawks  42200116   \n1      42022  1610612737               ATL  Atlanta Hawks  42200115   \n2      42022  1610612737               ATL  Atlanta Hawks  42200114   \n3      42022  1610612737               ATL  Atlanta Hawks  42200113   \n4      42022  1610612737               ATL  Atlanta Hawks  42200112   \n\n    GAME_DATE      MATCHUP WL  MIN  PTS  ...  FT_PCT  OREB  DREB   REB  AST  \\\n0  2023-04-27  ATL vs. BOS  L  241  120  ...   0.773  12.0  33.0  45.0   28   \n1  2023-04-25    ATL @ BOS  W  242  119  ...   1.000   6.0  28.0  34.0   26   \n2  2023-04-23  ATL vs. BOS  L  240  121  ...   0.875  11.0  31.0  42.0   25   \n3  2023-04-21  ATL vs. BOS  W  240  130  ...   0.813  11.0  37.0  48.0   24   \n4  2023-04-18    ATL @ BOS  L  241  106  ...   0.500  19.0  30.0  49.0   21   \n\n    STL  BLK  TOV  PF  PLUS_MINUS  \n0   5.0    7   10  15        -8.0  \n1   5.0    4    8  16         2.0  \n2   8.0    4   12  24        -8.0  \n3   5.0    6   18  15         8.0  \n4  10.0    4   15  11       -13.0  \n\n[5 rows x 28 columns]",
      "text/html": "<div>\n<style scoped>\n    .dataframe tbody tr th:only-of-type {\n        vertical-align: middle;\n    }\n\n    .dataframe tbody tr th {\n        vertical-align: top;\n    }\n\n    .dataframe thead th {\n        text-align: right;\n    }\n</style>\n<table border=\"1\" class=\"dataframe\">\n  <thead>\n    <tr style=\"text-align: right;\">\n      <th></th>\n      <th>SEASON_ID</th>\n      <th>TEAM_ID</th>\n      <th>TEAM_ABBREVIATION</th>\n      <th>TEAM_NAME</th>\n      <th>GAME_ID</th>\n      <th>GAME_DATE</th>\n      <th>MATCHUP</th>\n      <th>WL</th>\n      <th>MIN</th>\n      <th>PTS</th>\n      <th>...</th>\n      <th>FT_PCT</th>\n      <th>OREB</th>\n      <th>DREB</th>\n      <th>REB</th>\n      <th>AST</th>\n      <th>STL</th>\n      <th>BLK</th>\n      <th>TOV</th>\n      <th>PF</th>\n      <th>PLUS_MINUS</th>\n    </tr>\n  </thead>\n  <tbody>\n    <tr>\n      <th>0</th>\n      <td>42022</td>\n      <td>1610612737</td>\n      <td>ATL</td>\n      <td>Atlanta Hawks</td>\n      <td>42200116</td>\n      <td>2023-04-27</td>\n      <td>ATL vs. BOS</td>\n      <td>L</td>\n      <td>241</td>\n      <td>120</td>\n      <td>...</td>\n      <td>0.773</td>\n      <td>12.0</td>\n      <td>33.0</td>\n      <td>45.0</td>\n      <td>28</td>\n      <td>5.0</td>\n      <td>7</td>\n      <td>10</td>\n      <td>15</td>\n      <td>-8.0</td>\n    </tr>\n    <tr>\n      <th>1</th>\n      <td>42022</td>\n      <td>1610612737</td>\n      <td>ATL</td>\n      <td>Atlanta Hawks</td>\n      <td>42200115</td>\n      <td>2023-04-25</td>\n      <td>ATL @ BOS</td>\n      <td>W</td>\n      <td>242</td>\n      <td>119</td>\n      <td>...</td>\n      <td>1.000</td>\n      <td>6.0</td>\n      <td>28.0</td>\n      <td>34.0</td>\n      <td>26</td>\n      <td>5.0</td>\n      <td>4</td>\n      <td>8</td>\n      <td>16</td>\n      <td>2.0</td>\n    </tr>\n    <tr>\n      <th>2</th>\n      <td>42022</td>\n      <td>1610612737</td>\n      <td>ATL</td>\n      <td>Atlanta Hawks</td>\n      <td>42200114</td>\n      <td>2023-04-23</td>\n      <td>ATL vs. BOS</td>\n      <td>L</td>\n      <td>240</td>\n      <td>121</td>\n      <td>...</td>\n      <td>0.875</td>\n      <td>11.0</td>\n      <td>31.0</td>\n      <td>42.0</td>\n      <td>25</td>\n      <td>8.0</td>\n      <td>4</td>\n      <td>12</td>\n      <td>24</td>\n      <td>-8.0</td>\n    </tr>\n    <tr>\n      <th>3</th>\n      <td>42022</td>\n      <td>1610612737</td>\n      <td>ATL</td>\n      <td>Atlanta Hawks</td>\n      <td>42200113</td>\n      <td>2023-04-21</td>\n      <td>ATL vs. BOS</td>\n      <td>W</td>\n      <td>240</td>\n      <td>130</td>\n      <td>...</td>\n      <td>0.813</td>\n      <td>11.0</td>\n      <td>37.0</td>\n      <td>48.0</td>\n      <td>24</td>\n      <td>5.0</td>\n      <td>6</td>\n      <td>18</td>\n      <td>15</td>\n      <td>8.0</td>\n    </tr>\n    <tr>\n      <th>4</th>\n      <td>42022</td>\n      <td>1610612737</td>\n      <td>ATL</td>\n      <td>Atlanta Hawks</td>\n      <td>42200112</td>\n      <td>2023-04-18</td>\n      <td>ATL @ BOS</td>\n      <td>L</td>\n      <td>241</td>\n      <td>106</td>\n      <td>...</td>\n      <td>0.500</td>\n      <td>19.0</td>\n      <td>30.0</td>\n      <td>49.0</td>\n      <td>21</td>\n      <td>10.0</td>\n      <td>4</td>\n      <td>15</td>\n      <td>11</td>\n      <td>-13.0</td>\n    </tr>\n  </tbody>\n</table>\n<p>5 rows × 28 columns</p>\n</div>"
     },
     "execution_count": 5,
     "metadata": {},
     "output_type": "execute_result"
    }
   ],
   "source": [
    "game_df = pd.read_csv('../../data/game_2022.csv')\n",
    "# cleaning, game_df is unique on team_id and game_id level after fixing\n",
    "game_df = game_df.dropna(subset=['WL'])\n",
    "game_df.head()"
   ],
   "metadata": {
    "collapsed": false,
    "ExecuteTime": {
     "end_time": "2023-08-24T20:27:32.597880Z",
     "start_time": "2023-08-24T20:27:32.578045Z"
    }
   }
  },
  {
   "cell_type": "code",
   "execution_count": 6,
   "outputs": [
    {
     "data": {
      "text/plain": "(39273, 29)"
     },
     "execution_count": 6,
     "metadata": {},
     "output_type": "execute_result"
    }
   ],
   "source": [
    "player_df.shape"
   ],
   "metadata": {
    "collapsed": false,
    "ExecuteTime": {
     "end_time": "2023-08-24T20:27:35.211610Z",
     "start_time": "2023-08-24T20:27:35.207503Z"
    }
   }
  },
  {
   "cell_type": "code",
   "execution_count": 8,
   "outputs": [
    {
     "data": {
      "text/plain": "Index(['SEASON_ID', 'TEAM_ID', 'TEAM_ABBREVIATION', 'TEAM_NAME', 'GAME_ID',\n       'GAME_DATE', 'MATCHUP', 'WL', 'MIN', 'PTS', 'FGM', 'FGA', 'FG_PCT',\n       'FG3M', 'FG3A', 'FG3_PCT', 'FTM', 'FTA', 'FT_PCT', 'OREB', 'DREB',\n       'REB', 'AST', 'STL', 'BLK', 'TOV', 'PF', 'PLUS_MINUS'],\n      dtype='object')"
     },
     "execution_count": 8,
     "metadata": {},
     "output_type": "execute_result"
    }
   ],
   "source": [
    "game_df.columns"
   ],
   "metadata": {
    "collapsed": false,
    "ExecuteTime": {
     "end_time": "2023-08-24T20:21:48.499404Z",
     "start_time": "2023-08-24T20:21:48.495503Z"
    }
   }
  },
  {
   "cell_type": "code",
   "execution_count": 9,
   "outputs": [
    {
     "data": {
      "text/plain": "SEASON_ID              int64\nTEAM_ID                int64\nTEAM_ABBREVIATION     object\nTEAM_NAME             object\nGAME_ID                int64\nGAME_DATE             object\nMATCHUP               object\nWL                    object\nMIN                    int64\nPTS                    int64\nFGM                    int64\nFGA                    int64\nFG_PCT               float64\nFG3M                   int64\nFG3A                 float64\nFG3_PCT              float64\nFTM                    int64\nFTA                    int64\nFT_PCT               float64\nOREB                 float64\nDREB                 float64\nREB                  float64\nAST                    int64\nSTL                  float64\nBLK                    int64\nTOV                    int64\nPF                     int64\nPLUS_MINUS           float64\ndtype: object"
     },
     "execution_count": 9,
     "metadata": {},
     "output_type": "execute_result"
    }
   ],
   "source": [
    "game_df.dtypes"
   ],
   "metadata": {
    "collapsed": false,
    "ExecuteTime": {
     "end_time": "2023-08-24T20:21:51.121786Z",
     "start_time": "2023-08-24T20:21:51.119776Z"
    }
   }
  },
  {
   "cell_type": "code",
   "execution_count": 7,
   "outputs": [],
   "source": [
    "# Change WL to numeric values\n",
    "game_df['WL'] = game_df['WL'].map({'W': 1, 'L': 0})"
   ],
   "metadata": {
    "collapsed": false,
    "ExecuteTime": {
     "end_time": "2023-08-24T20:27:45.146104Z",
     "start_time": "2023-08-24T20:27:45.139283Z"
    }
   }
  },
  {
   "cell_type": "code",
   "execution_count": 8,
   "outputs": [
    {
     "data": {
      "text/plain": "   SEASON_ID     TEAM_ID TEAM_ABBREVIATION      TEAM_NAME   GAME_ID  \\\n0      42022  1610612737               ATL  Atlanta Hawks  42200116   \n1      42022  1610612737               ATL  Atlanta Hawks  42200115   \n2      42022  1610612737               ATL  Atlanta Hawks  42200114   \n3      42022  1610612737               ATL  Atlanta Hawks  42200113   \n4      42022  1610612737               ATL  Atlanta Hawks  42200112   \n\n    GAME_DATE      MATCHUP  WL  MIN  PTS  ...  FT_PCT  OREB  DREB   REB  AST  \\\n0  2023-04-27  ATL vs. BOS   0  241  120  ...   0.773  12.0  33.0  45.0   28   \n1  2023-04-25    ATL @ BOS   1  242  119  ...   1.000   6.0  28.0  34.0   26   \n2  2023-04-23  ATL vs. BOS   0  240  121  ...   0.875  11.0  31.0  42.0   25   \n3  2023-04-21  ATL vs. BOS   1  240  130  ...   0.813  11.0  37.0  48.0   24   \n4  2023-04-18    ATL @ BOS   0  241  106  ...   0.500  19.0  30.0  49.0   21   \n\n    STL  BLK  TOV  PF  PLUS_MINUS  \n0   5.0    7   10  15        -8.0  \n1   5.0    4    8  16         2.0  \n2   8.0    4   12  24        -8.0  \n3   5.0    6   18  15         8.0  \n4  10.0    4   15  11       -13.0  \n\n[5 rows x 28 columns]",
      "text/html": "<div>\n<style scoped>\n    .dataframe tbody tr th:only-of-type {\n        vertical-align: middle;\n    }\n\n    .dataframe tbody tr th {\n        vertical-align: top;\n    }\n\n    .dataframe thead th {\n        text-align: right;\n    }\n</style>\n<table border=\"1\" class=\"dataframe\">\n  <thead>\n    <tr style=\"text-align: right;\">\n      <th></th>\n      <th>SEASON_ID</th>\n      <th>TEAM_ID</th>\n      <th>TEAM_ABBREVIATION</th>\n      <th>TEAM_NAME</th>\n      <th>GAME_ID</th>\n      <th>GAME_DATE</th>\n      <th>MATCHUP</th>\n      <th>WL</th>\n      <th>MIN</th>\n      <th>PTS</th>\n      <th>...</th>\n      <th>FT_PCT</th>\n      <th>OREB</th>\n      <th>DREB</th>\n      <th>REB</th>\n      <th>AST</th>\n      <th>STL</th>\n      <th>BLK</th>\n      <th>TOV</th>\n      <th>PF</th>\n      <th>PLUS_MINUS</th>\n    </tr>\n  </thead>\n  <tbody>\n    <tr>\n      <th>0</th>\n      <td>42022</td>\n      <td>1610612737</td>\n      <td>ATL</td>\n      <td>Atlanta Hawks</td>\n      <td>42200116</td>\n      <td>2023-04-27</td>\n      <td>ATL vs. BOS</td>\n      <td>0</td>\n      <td>241</td>\n      <td>120</td>\n      <td>...</td>\n      <td>0.773</td>\n      <td>12.0</td>\n      <td>33.0</td>\n      <td>45.0</td>\n      <td>28</td>\n      <td>5.0</td>\n      <td>7</td>\n      <td>10</td>\n      <td>15</td>\n      <td>-8.0</td>\n    </tr>\n    <tr>\n      <th>1</th>\n      <td>42022</td>\n      <td>1610612737</td>\n      <td>ATL</td>\n      <td>Atlanta Hawks</td>\n      <td>42200115</td>\n      <td>2023-04-25</td>\n      <td>ATL @ BOS</td>\n      <td>1</td>\n      <td>242</td>\n      <td>119</td>\n      <td>...</td>\n      <td>1.000</td>\n      <td>6.0</td>\n      <td>28.0</td>\n      <td>34.0</td>\n      <td>26</td>\n      <td>5.0</td>\n      <td>4</td>\n      <td>8</td>\n      <td>16</td>\n      <td>2.0</td>\n    </tr>\n    <tr>\n      <th>2</th>\n      <td>42022</td>\n      <td>1610612737</td>\n      <td>ATL</td>\n      <td>Atlanta Hawks</td>\n      <td>42200114</td>\n      <td>2023-04-23</td>\n      <td>ATL vs. BOS</td>\n      <td>0</td>\n      <td>240</td>\n      <td>121</td>\n      <td>...</td>\n      <td>0.875</td>\n      <td>11.0</td>\n      <td>31.0</td>\n      <td>42.0</td>\n      <td>25</td>\n      <td>8.0</td>\n      <td>4</td>\n      <td>12</td>\n      <td>24</td>\n      <td>-8.0</td>\n    </tr>\n    <tr>\n      <th>3</th>\n      <td>42022</td>\n      <td>1610612737</td>\n      <td>ATL</td>\n      <td>Atlanta Hawks</td>\n      <td>42200113</td>\n      <td>2023-04-21</td>\n      <td>ATL vs. BOS</td>\n      <td>1</td>\n      <td>240</td>\n      <td>130</td>\n      <td>...</td>\n      <td>0.813</td>\n      <td>11.0</td>\n      <td>37.0</td>\n      <td>48.0</td>\n      <td>24</td>\n      <td>5.0</td>\n      <td>6</td>\n      <td>18</td>\n      <td>15</td>\n      <td>8.0</td>\n    </tr>\n    <tr>\n      <th>4</th>\n      <td>42022</td>\n      <td>1610612737</td>\n      <td>ATL</td>\n      <td>Atlanta Hawks</td>\n      <td>42200112</td>\n      <td>2023-04-18</td>\n      <td>ATL @ BOS</td>\n      <td>0</td>\n      <td>241</td>\n      <td>106</td>\n      <td>...</td>\n      <td>0.500</td>\n      <td>19.0</td>\n      <td>30.0</td>\n      <td>49.0</td>\n      <td>21</td>\n      <td>10.0</td>\n      <td>4</td>\n      <td>15</td>\n      <td>11</td>\n      <td>-13.0</td>\n    </tr>\n  </tbody>\n</table>\n<p>5 rows × 28 columns</p>\n</div>"
     },
     "execution_count": 8,
     "metadata": {},
     "output_type": "execute_result"
    }
   ],
   "source": [
    "game_df.head()"
   ],
   "metadata": {
    "collapsed": false,
    "ExecuteTime": {
     "end_time": "2023-08-24T20:27:47.183911Z",
     "start_time": "2023-08-24T20:27:47.180505Z"
    }
   }
  },
  {
   "cell_type": "code",
   "execution_count": 9,
   "outputs": [
    {
     "name": "stderr",
     "output_type": "stream",
     "text": [
      "/var/folders/b6/nt5dw2rs5w72ym11_8rbv87c0000gn/T/ipykernel_81453/1827983145.py:17: PerformanceWarning: DataFrame is highly fragmented.  This is usually the result of calling `frame.insert` many times, which has poor performance.  Consider joining all columns at once using pd.concat(axis=1) instead. To get a de-fragmented frame, use `newframe = frame.copy()`\n",
      "  game_df[f'{col}_avg_{window}'] = game_df.groupby('TEAM_ABBREVIATION')[col].shift(1).rolling(window=window, min_periods=1).mean().reset_index(level=0, drop=True)\n",
      "/var/folders/b6/nt5dw2rs5w72ym11_8rbv87c0000gn/T/ipykernel_81453/1827983145.py:17: PerformanceWarning: DataFrame is highly fragmented.  This is usually the result of calling `frame.insert` many times, which has poor performance.  Consider joining all columns at once using pd.concat(axis=1) instead. To get a de-fragmented frame, use `newframe = frame.copy()`\n",
      "  game_df[f'{col}_avg_{window}'] = game_df.groupby('TEAM_ABBREVIATION')[col].shift(1).rolling(window=window, min_periods=1).mean().reset_index(level=0, drop=True)\n",
      "/var/folders/b6/nt5dw2rs5w72ym11_8rbv87c0000gn/T/ipykernel_81453/1827983145.py:17: PerformanceWarning: DataFrame is highly fragmented.  This is usually the result of calling `frame.insert` many times, which has poor performance.  Consider joining all columns at once using pd.concat(axis=1) instead. To get a de-fragmented frame, use `newframe = frame.copy()`\n",
      "  game_df[f'{col}_avg_{window}'] = game_df.groupby('TEAM_ABBREVIATION')[col].shift(1).rolling(window=window, min_periods=1).mean().reset_index(level=0, drop=True)\n",
      "/var/folders/b6/nt5dw2rs5w72ym11_8rbv87c0000gn/T/ipykernel_81453/1827983145.py:17: PerformanceWarning: DataFrame is highly fragmented.  This is usually the result of calling `frame.insert` many times, which has poor performance.  Consider joining all columns at once using pd.concat(axis=1) instead. To get a de-fragmented frame, use `newframe = frame.copy()`\n",
      "  game_df[f'{col}_avg_{window}'] = game_df.groupby('TEAM_ABBREVIATION')[col].shift(1).rolling(window=window, min_periods=1).mean().reset_index(level=0, drop=True)\n",
      "/var/folders/b6/nt5dw2rs5w72ym11_8rbv87c0000gn/T/ipykernel_81453/1827983145.py:17: PerformanceWarning: DataFrame is highly fragmented.  This is usually the result of calling `frame.insert` many times, which has poor performance.  Consider joining all columns at once using pd.concat(axis=1) instead. To get a de-fragmented frame, use `newframe = frame.copy()`\n",
      "  game_df[f'{col}_avg_{window}'] = game_df.groupby('TEAM_ABBREVIATION')[col].shift(1).rolling(window=window, min_periods=1).mean().reset_index(level=0, drop=True)\n",
      "/var/folders/b6/nt5dw2rs5w72ym11_8rbv87c0000gn/T/ipykernel_81453/1827983145.py:17: PerformanceWarning: DataFrame is highly fragmented.  This is usually the result of calling `frame.insert` many times, which has poor performance.  Consider joining all columns at once using pd.concat(axis=1) instead. To get a de-fragmented frame, use `newframe = frame.copy()`\n",
      "  game_df[f'{col}_avg_{window}'] = game_df.groupby('TEAM_ABBREVIATION')[col].shift(1).rolling(window=window, min_periods=1).mean().reset_index(level=0, drop=True)\n",
      "/var/folders/b6/nt5dw2rs5w72ym11_8rbv87c0000gn/T/ipykernel_81453/1827983145.py:17: PerformanceWarning: DataFrame is highly fragmented.  This is usually the result of calling `frame.insert` many times, which has poor performance.  Consider joining all columns at once using pd.concat(axis=1) instead. To get a de-fragmented frame, use `newframe = frame.copy()`\n",
      "  game_df[f'{col}_avg_{window}'] = game_df.groupby('TEAM_ABBREVIATION')[col].shift(1).rolling(window=window, min_periods=1).mean().reset_index(level=0, drop=True)\n",
      "/var/folders/b6/nt5dw2rs5w72ym11_8rbv87c0000gn/T/ipykernel_81453/1827983145.py:17: PerformanceWarning: DataFrame is highly fragmented.  This is usually the result of calling `frame.insert` many times, which has poor performance.  Consider joining all columns at once using pd.concat(axis=1) instead. To get a de-fragmented frame, use `newframe = frame.copy()`\n",
      "  game_df[f'{col}_avg_{window}'] = game_df.groupby('TEAM_ABBREVIATION')[col].shift(1).rolling(window=window, min_periods=1).mean().reset_index(level=0, drop=True)\n",
      "/var/folders/b6/nt5dw2rs5w72ym11_8rbv87c0000gn/T/ipykernel_81453/1827983145.py:17: PerformanceWarning: DataFrame is highly fragmented.  This is usually the result of calling `frame.insert` many times, which has poor performance.  Consider joining all columns at once using pd.concat(axis=1) instead. To get a de-fragmented frame, use `newframe = frame.copy()`\n",
      "  game_df[f'{col}_avg_{window}'] = game_df.groupby('TEAM_ABBREVIATION')[col].shift(1).rolling(window=window, min_periods=1).mean().reset_index(level=0, drop=True)\n",
      "/var/folders/b6/nt5dw2rs5w72ym11_8rbv87c0000gn/T/ipykernel_81453/1827983145.py:17: PerformanceWarning: DataFrame is highly fragmented.  This is usually the result of calling `frame.insert` many times, which has poor performance.  Consider joining all columns at once using pd.concat(axis=1) instead. To get a de-fragmented frame, use `newframe = frame.copy()`\n",
      "  game_df[f'{col}_avg_{window}'] = game_df.groupby('TEAM_ABBREVIATION')[col].shift(1).rolling(window=window, min_periods=1).mean().reset_index(level=0, drop=True)\n",
      "/var/folders/b6/nt5dw2rs5w72ym11_8rbv87c0000gn/T/ipykernel_81453/1827983145.py:17: PerformanceWarning: DataFrame is highly fragmented.  This is usually the result of calling `frame.insert` many times, which has poor performance.  Consider joining all columns at once using pd.concat(axis=1) instead. To get a de-fragmented frame, use `newframe = frame.copy()`\n",
      "  game_df[f'{col}_avg_{window}'] = game_df.groupby('TEAM_ABBREVIATION')[col].shift(1).rolling(window=window, min_periods=1).mean().reset_index(level=0, drop=True)\n",
      "/var/folders/b6/nt5dw2rs5w72ym11_8rbv87c0000gn/T/ipykernel_81453/1827983145.py:17: PerformanceWarning: DataFrame is highly fragmented.  This is usually the result of calling `frame.insert` many times, which has poor performance.  Consider joining all columns at once using pd.concat(axis=1) instead. To get a de-fragmented frame, use `newframe = frame.copy()`\n",
      "  game_df[f'{col}_avg_{window}'] = game_df.groupby('TEAM_ABBREVIATION')[col].shift(1).rolling(window=window, min_periods=1).mean().reset_index(level=0, drop=True)\n",
      "/var/folders/b6/nt5dw2rs5w72ym11_8rbv87c0000gn/T/ipykernel_81453/1827983145.py:17: PerformanceWarning: DataFrame is highly fragmented.  This is usually the result of calling `frame.insert` many times, which has poor performance.  Consider joining all columns at once using pd.concat(axis=1) instead. To get a de-fragmented frame, use `newframe = frame.copy()`\n",
      "  game_df[f'{col}_avg_{window}'] = game_df.groupby('TEAM_ABBREVIATION')[col].shift(1).rolling(window=window, min_periods=1).mean().reset_index(level=0, drop=True)\n",
      "/var/folders/b6/nt5dw2rs5w72ym11_8rbv87c0000gn/T/ipykernel_81453/1827983145.py:17: PerformanceWarning: DataFrame is highly fragmented.  This is usually the result of calling `frame.insert` many times, which has poor performance.  Consider joining all columns at once using pd.concat(axis=1) instead. To get a de-fragmented frame, use `newframe = frame.copy()`\n",
      "  game_df[f'{col}_avg_{window}'] = game_df.groupby('TEAM_ABBREVIATION')[col].shift(1).rolling(window=window, min_periods=1).mean().reset_index(level=0, drop=True)\n",
      "/var/folders/b6/nt5dw2rs5w72ym11_8rbv87c0000gn/T/ipykernel_81453/1827983145.py:17: PerformanceWarning: DataFrame is highly fragmented.  This is usually the result of calling `frame.insert` many times, which has poor performance.  Consider joining all columns at once using pd.concat(axis=1) instead. To get a de-fragmented frame, use `newframe = frame.copy()`\n",
      "  game_df[f'{col}_avg_{window}'] = game_df.groupby('TEAM_ABBREVIATION')[col].shift(1).rolling(window=window, min_periods=1).mean().reset_index(level=0, drop=True)\n",
      "/var/folders/b6/nt5dw2rs5w72ym11_8rbv87c0000gn/T/ipykernel_81453/1827983145.py:17: PerformanceWarning: DataFrame is highly fragmented.  This is usually the result of calling `frame.insert` many times, which has poor performance.  Consider joining all columns at once using pd.concat(axis=1) instead. To get a de-fragmented frame, use `newframe = frame.copy()`\n",
      "  game_df[f'{col}_avg_{window}'] = game_df.groupby('TEAM_ABBREVIATION')[col].shift(1).rolling(window=window, min_periods=1).mean().reset_index(level=0, drop=True)\n",
      "/var/folders/b6/nt5dw2rs5w72ym11_8rbv87c0000gn/T/ipykernel_81453/1827983145.py:17: PerformanceWarning: DataFrame is highly fragmented.  This is usually the result of calling `frame.insert` many times, which has poor performance.  Consider joining all columns at once using pd.concat(axis=1) instead. To get a de-fragmented frame, use `newframe = frame.copy()`\n",
      "  game_df[f'{col}_avg_{window}'] = game_df.groupby('TEAM_ABBREVIATION')[col].shift(1).rolling(window=window, min_periods=1).mean().reset_index(level=0, drop=True)\n",
      "/var/folders/b6/nt5dw2rs5w72ym11_8rbv87c0000gn/T/ipykernel_81453/1827983145.py:17: PerformanceWarning: DataFrame is highly fragmented.  This is usually the result of calling `frame.insert` many times, which has poor performance.  Consider joining all columns at once using pd.concat(axis=1) instead. To get a de-fragmented frame, use `newframe = frame.copy()`\n",
      "  game_df[f'{col}_avg_{window}'] = game_df.groupby('TEAM_ABBREVIATION')[col].shift(1).rolling(window=window, min_periods=1).mean().reset_index(level=0, drop=True)\n",
      "/var/folders/b6/nt5dw2rs5w72ym11_8rbv87c0000gn/T/ipykernel_81453/1827983145.py:17: PerformanceWarning: DataFrame is highly fragmented.  This is usually the result of calling `frame.insert` many times, which has poor performance.  Consider joining all columns at once using pd.concat(axis=1) instead. To get a de-fragmented frame, use `newframe = frame.copy()`\n",
      "  game_df[f'{col}_avg_{window}'] = game_df.groupby('TEAM_ABBREVIATION')[col].shift(1).rolling(window=window, min_periods=1).mean().reset_index(level=0, drop=True)\n",
      "/var/folders/b6/nt5dw2rs5w72ym11_8rbv87c0000gn/T/ipykernel_81453/1827983145.py:17: PerformanceWarning: DataFrame is highly fragmented.  This is usually the result of calling `frame.insert` many times, which has poor performance.  Consider joining all columns at once using pd.concat(axis=1) instead. To get a de-fragmented frame, use `newframe = frame.copy()`\n",
      "  game_df[f'{col}_avg_{window}'] = game_df.groupby('TEAM_ABBREVIATION')[col].shift(1).rolling(window=window, min_periods=1).mean().reset_index(level=0, drop=True)\n"
     ]
    },
    {
     "data": {
      "text/plain": "    SEASON_ID     TEAM_ID TEAM_ABBREVIATION      TEAM_NAME     GAME_ID  \\\n0       22022  1610612737               ATL  Atlanta Hawks  1522200014   \n1       22022  1610612737               ATL  Atlanta Hawks  1522200026   \n2       22022  1610612737               ATL  Atlanta Hawks  1522200034   \n3       22022  1610612737               ATL  Atlanta Hawks  1522200046   \n4       22022  1610612737               ATL  Atlanta Hawks  1522200061   \n5       12022  1610612737               ATL  Atlanta Hawks    12200023   \n6       12022  1610612737               ATL  Atlanta Hawks    12200036   \n7       12022  1610612737               ATL  Atlanta Hawks    12200052   \n8       12022  1610612737               ATL  Atlanta Hawks    12200067   \n9       22022  1610612737               ATL  Atlanta Hawks    22200005   \n10      22022  1610612737               ATL  Atlanta Hawks    22200020   \n11      22022  1610612737               ATL  Atlanta Hawks    22200038   \n12      22022  1610612737               ATL  Atlanta Hawks    22200057   \n13      22022  1610612737               ATL  Atlanta Hawks    22200070   \n14      22022  1610612737               ATL  Atlanta Hawks    22200085   \n15      22022  1610612737               ATL  Atlanta Hawks    22200099   \n16      22022  1610612737               ATL  Atlanta Hawks    22200110   \n17      22022  1610612737               ATL  Atlanta Hawks    22200134   \n18      22022  1610612737               ATL  Atlanta Hawks    22200149   \n19      22022  1610612737               ATL  Atlanta Hawks    22200162   \n\n    GAME_DATE      MATCHUP  WL  MIN  PTS  ...  TOV_avg_5  TOV_avg_10  \\\n0  2022-07-09    ATL @ UTA   0  200   66  ...        NaN         NaN   \n1  2022-07-11  ATL vs. NOP   0  200   73  ...  12.000000   12.000000   \n2  2022-07-12    ATL @ MIA   1  199   95  ...  11.500000   11.500000   \n3  2022-07-14    ATL @ SAS   1  199   87  ...  12.666667   12.666667   \n4  2022-07-16    ATL @ CLE   0  199   90  ...  12.750000   12.750000   \n5  2022-10-06  ATL vs. MIL   1  241  123  ...  12.000000   12.000000   \n6  2022-10-08    ATL @ MIL   1  240  118  ...  11.000000   11.166667   \n7  2022-10-12    ATL @ CLE   0  238   99  ...  11.000000   11.142857   \n8  2022-10-14    ATL @ NOP   0  240  111  ...  11.200000   11.750000   \n9  2022-10-19  ATL vs. HOU   1  240  117  ...  11.400000   12.000000   \n10 2022-10-21  ATL vs. ORL   1  240  108  ...  11.400000   11.700000   \n11 2022-10-23  ATL vs. CHA   0  240  109  ...  13.400000   12.200000   \n12 2022-10-26    ATL @ DET   1  239  118  ...  13.600000   12.300000   \n13 2022-10-28    ATL @ DET   1  241  136  ...  12.800000   12.000000   \n14 2022-10-29    ATL @ MIL   0  239  115  ...  11.200000   11.300000   \n15 2022-10-31    ATL @ TOR   0  238  109  ...  11.800000   11.600000   \n16 2022-11-02    ATL @ NYK   1  239  112  ...  12.000000   12.700000   \n17 2022-11-05  ATL vs. NOP   1  265  124  ...  11.000000   12.300000   \n18 2022-11-07  ATL vs. MIL   1  242  117  ...  11.200000   12.000000   \n19 2022-11-09  ATL vs. UTA   0  240  119  ...  12.400000   11.800000   \n\n    TOV_avg_15  TOV_avg_30  PF_avg_1   PF_avg_3   PF_avg_5  PF_avg_10  \\\n0          NaN         NaN       NaN        NaN        NaN        NaN   \n1    12.000000   12.000000      23.0  23.000000  23.000000  23.000000   \n2    11.500000   11.500000      24.0  23.500000  23.500000  23.500000   \n3    12.666667   12.666667      29.0  25.333333  25.333333  25.333333   \n4    12.750000   12.750000      19.0  24.000000  23.750000  23.750000   \n5    12.000000   12.000000      19.0  22.333333  22.800000  22.800000   \n6    11.166667   11.166667      17.0  18.333333  21.600000  21.833333   \n7    11.142857   11.142857      26.0  20.666667  22.000000  22.428571   \n8    11.750000   11.750000      15.0  19.333333  19.200000  21.500000   \n9    12.000000   12.000000      23.0  21.333333  20.000000  21.666667   \n10   11.700000   11.700000      18.0  18.666667  19.800000  21.300000   \n11   12.181818   12.181818      22.0  21.000000  20.800000  21.200000   \n12   12.166667   12.166667      21.0  20.333333  19.800000  20.900000   \n13   12.153846   12.153846      20.0  21.000000  20.800000  20.000000   \n14   11.714286   11.714286      26.0  22.333333  21.400000  20.700000   \n15   11.733333   11.733333      23.0  23.000000  22.400000  21.100000   \n16   12.133333   12.125000      27.0  25.333333  23.400000  22.100000   \n17   11.866667   11.823529      18.0  22.666667  22.800000  21.300000   \n18   11.733333   11.888889      23.0  22.666667  23.400000  22.100000   \n19   11.666667   11.894737      18.0  19.666667  21.800000  21.600000   \n\n    PF_avg_15  PF_avg_30  \n0         NaN        NaN  \n1   23.000000  23.000000  \n2   23.500000  23.500000  \n3   25.333333  25.333333  \n4   23.750000  23.750000  \n5   22.800000  22.800000  \n6   21.833333  21.833333  \n7   22.428571  22.428571  \n8   21.500000  21.500000  \n9   21.666667  21.666667  \n10  21.300000  21.300000  \n11  21.363636  21.363636  \n12  21.333333  21.333333  \n13  21.230769  21.230769  \n14  21.571429  21.571429  \n15  21.666667  21.666667  \n16  21.933333  22.000000  \n17  21.533333  21.764706  \n18  21.133333  21.833333  \n19  21.066667  21.631579  \n\n[20 rows x 142 columns]",
      "text/html": "<div>\n<style scoped>\n    .dataframe tbody tr th:only-of-type {\n        vertical-align: middle;\n    }\n\n    .dataframe tbody tr th {\n        vertical-align: top;\n    }\n\n    .dataframe thead th {\n        text-align: right;\n    }\n</style>\n<table border=\"1\" class=\"dataframe\">\n  <thead>\n    <tr style=\"text-align: right;\">\n      <th></th>\n      <th>SEASON_ID</th>\n      <th>TEAM_ID</th>\n      <th>TEAM_ABBREVIATION</th>\n      <th>TEAM_NAME</th>\n      <th>GAME_ID</th>\n      <th>GAME_DATE</th>\n      <th>MATCHUP</th>\n      <th>WL</th>\n      <th>MIN</th>\n      <th>PTS</th>\n      <th>...</th>\n      <th>TOV_avg_5</th>\n      <th>TOV_avg_10</th>\n      <th>TOV_avg_15</th>\n      <th>TOV_avg_30</th>\n      <th>PF_avg_1</th>\n      <th>PF_avg_3</th>\n      <th>PF_avg_5</th>\n      <th>PF_avg_10</th>\n      <th>PF_avg_15</th>\n      <th>PF_avg_30</th>\n    </tr>\n  </thead>\n  <tbody>\n    <tr>\n      <th>0</th>\n      <td>22022</td>\n      <td>1610612737</td>\n      <td>ATL</td>\n      <td>Atlanta Hawks</td>\n      <td>1522200014</td>\n      <td>2022-07-09</td>\n      <td>ATL @ UTA</td>\n      <td>0</td>\n      <td>200</td>\n      <td>66</td>\n      <td>...</td>\n      <td>NaN</td>\n      <td>NaN</td>\n      <td>NaN</td>\n      <td>NaN</td>\n      <td>NaN</td>\n      <td>NaN</td>\n      <td>NaN</td>\n      <td>NaN</td>\n      <td>NaN</td>\n      <td>NaN</td>\n    </tr>\n    <tr>\n      <th>1</th>\n      <td>22022</td>\n      <td>1610612737</td>\n      <td>ATL</td>\n      <td>Atlanta Hawks</td>\n      <td>1522200026</td>\n      <td>2022-07-11</td>\n      <td>ATL vs. NOP</td>\n      <td>0</td>\n      <td>200</td>\n      <td>73</td>\n      <td>...</td>\n      <td>12.000000</td>\n      <td>12.000000</td>\n      <td>12.000000</td>\n      <td>12.000000</td>\n      <td>23.0</td>\n      <td>23.000000</td>\n      <td>23.000000</td>\n      <td>23.000000</td>\n      <td>23.000000</td>\n      <td>23.000000</td>\n    </tr>\n    <tr>\n      <th>2</th>\n      <td>22022</td>\n      <td>1610612737</td>\n      <td>ATL</td>\n      <td>Atlanta Hawks</td>\n      <td>1522200034</td>\n      <td>2022-07-12</td>\n      <td>ATL @ MIA</td>\n      <td>1</td>\n      <td>199</td>\n      <td>95</td>\n      <td>...</td>\n      <td>11.500000</td>\n      <td>11.500000</td>\n      <td>11.500000</td>\n      <td>11.500000</td>\n      <td>24.0</td>\n      <td>23.500000</td>\n      <td>23.500000</td>\n      <td>23.500000</td>\n      <td>23.500000</td>\n      <td>23.500000</td>\n    </tr>\n    <tr>\n      <th>3</th>\n      <td>22022</td>\n      <td>1610612737</td>\n      <td>ATL</td>\n      <td>Atlanta Hawks</td>\n      <td>1522200046</td>\n      <td>2022-07-14</td>\n      <td>ATL @ SAS</td>\n      <td>1</td>\n      <td>199</td>\n      <td>87</td>\n      <td>...</td>\n      <td>12.666667</td>\n      <td>12.666667</td>\n      <td>12.666667</td>\n      <td>12.666667</td>\n      <td>29.0</td>\n      <td>25.333333</td>\n      <td>25.333333</td>\n      <td>25.333333</td>\n      <td>25.333333</td>\n      <td>25.333333</td>\n    </tr>\n    <tr>\n      <th>4</th>\n      <td>22022</td>\n      <td>1610612737</td>\n      <td>ATL</td>\n      <td>Atlanta Hawks</td>\n      <td>1522200061</td>\n      <td>2022-07-16</td>\n      <td>ATL @ CLE</td>\n      <td>0</td>\n      <td>199</td>\n      <td>90</td>\n      <td>...</td>\n      <td>12.750000</td>\n      <td>12.750000</td>\n      <td>12.750000</td>\n      <td>12.750000</td>\n      <td>19.0</td>\n      <td>24.000000</td>\n      <td>23.750000</td>\n      <td>23.750000</td>\n      <td>23.750000</td>\n      <td>23.750000</td>\n    </tr>\n    <tr>\n      <th>5</th>\n      <td>12022</td>\n      <td>1610612737</td>\n      <td>ATL</td>\n      <td>Atlanta Hawks</td>\n      <td>12200023</td>\n      <td>2022-10-06</td>\n      <td>ATL vs. MIL</td>\n      <td>1</td>\n      <td>241</td>\n      <td>123</td>\n      <td>...</td>\n      <td>12.000000</td>\n      <td>12.000000</td>\n      <td>12.000000</td>\n      <td>12.000000</td>\n      <td>19.0</td>\n      <td>22.333333</td>\n      <td>22.800000</td>\n      <td>22.800000</td>\n      <td>22.800000</td>\n      <td>22.800000</td>\n    </tr>\n    <tr>\n      <th>6</th>\n      <td>12022</td>\n      <td>1610612737</td>\n      <td>ATL</td>\n      <td>Atlanta Hawks</td>\n      <td>12200036</td>\n      <td>2022-10-08</td>\n      <td>ATL @ MIL</td>\n      <td>1</td>\n      <td>240</td>\n      <td>118</td>\n      <td>...</td>\n      <td>11.000000</td>\n      <td>11.166667</td>\n      <td>11.166667</td>\n      <td>11.166667</td>\n      <td>17.0</td>\n      <td>18.333333</td>\n      <td>21.600000</td>\n      <td>21.833333</td>\n      <td>21.833333</td>\n      <td>21.833333</td>\n    </tr>\n    <tr>\n      <th>7</th>\n      <td>12022</td>\n      <td>1610612737</td>\n      <td>ATL</td>\n      <td>Atlanta Hawks</td>\n      <td>12200052</td>\n      <td>2022-10-12</td>\n      <td>ATL @ CLE</td>\n      <td>0</td>\n      <td>238</td>\n      <td>99</td>\n      <td>...</td>\n      <td>11.000000</td>\n      <td>11.142857</td>\n      <td>11.142857</td>\n      <td>11.142857</td>\n      <td>26.0</td>\n      <td>20.666667</td>\n      <td>22.000000</td>\n      <td>22.428571</td>\n      <td>22.428571</td>\n      <td>22.428571</td>\n    </tr>\n    <tr>\n      <th>8</th>\n      <td>12022</td>\n      <td>1610612737</td>\n      <td>ATL</td>\n      <td>Atlanta Hawks</td>\n      <td>12200067</td>\n      <td>2022-10-14</td>\n      <td>ATL @ NOP</td>\n      <td>0</td>\n      <td>240</td>\n      <td>111</td>\n      <td>...</td>\n      <td>11.200000</td>\n      <td>11.750000</td>\n      <td>11.750000</td>\n      <td>11.750000</td>\n      <td>15.0</td>\n      <td>19.333333</td>\n      <td>19.200000</td>\n      <td>21.500000</td>\n      <td>21.500000</td>\n      <td>21.500000</td>\n    </tr>\n    <tr>\n      <th>9</th>\n      <td>22022</td>\n      <td>1610612737</td>\n      <td>ATL</td>\n      <td>Atlanta Hawks</td>\n      <td>22200005</td>\n      <td>2022-10-19</td>\n      <td>ATL vs. HOU</td>\n      <td>1</td>\n      <td>240</td>\n      <td>117</td>\n      <td>...</td>\n      <td>11.400000</td>\n      <td>12.000000</td>\n      <td>12.000000</td>\n      <td>12.000000</td>\n      <td>23.0</td>\n      <td>21.333333</td>\n      <td>20.000000</td>\n      <td>21.666667</td>\n      <td>21.666667</td>\n      <td>21.666667</td>\n    </tr>\n    <tr>\n      <th>10</th>\n      <td>22022</td>\n      <td>1610612737</td>\n      <td>ATL</td>\n      <td>Atlanta Hawks</td>\n      <td>22200020</td>\n      <td>2022-10-21</td>\n      <td>ATL vs. ORL</td>\n      <td>1</td>\n      <td>240</td>\n      <td>108</td>\n      <td>...</td>\n      <td>11.400000</td>\n      <td>11.700000</td>\n      <td>11.700000</td>\n      <td>11.700000</td>\n      <td>18.0</td>\n      <td>18.666667</td>\n      <td>19.800000</td>\n      <td>21.300000</td>\n      <td>21.300000</td>\n      <td>21.300000</td>\n    </tr>\n    <tr>\n      <th>11</th>\n      <td>22022</td>\n      <td>1610612737</td>\n      <td>ATL</td>\n      <td>Atlanta Hawks</td>\n      <td>22200038</td>\n      <td>2022-10-23</td>\n      <td>ATL vs. CHA</td>\n      <td>0</td>\n      <td>240</td>\n      <td>109</td>\n      <td>...</td>\n      <td>13.400000</td>\n      <td>12.200000</td>\n      <td>12.181818</td>\n      <td>12.181818</td>\n      <td>22.0</td>\n      <td>21.000000</td>\n      <td>20.800000</td>\n      <td>21.200000</td>\n      <td>21.363636</td>\n      <td>21.363636</td>\n    </tr>\n    <tr>\n      <th>12</th>\n      <td>22022</td>\n      <td>1610612737</td>\n      <td>ATL</td>\n      <td>Atlanta Hawks</td>\n      <td>22200057</td>\n      <td>2022-10-26</td>\n      <td>ATL @ DET</td>\n      <td>1</td>\n      <td>239</td>\n      <td>118</td>\n      <td>...</td>\n      <td>13.600000</td>\n      <td>12.300000</td>\n      <td>12.166667</td>\n      <td>12.166667</td>\n      <td>21.0</td>\n      <td>20.333333</td>\n      <td>19.800000</td>\n      <td>20.900000</td>\n      <td>21.333333</td>\n      <td>21.333333</td>\n    </tr>\n    <tr>\n      <th>13</th>\n      <td>22022</td>\n      <td>1610612737</td>\n      <td>ATL</td>\n      <td>Atlanta Hawks</td>\n      <td>22200070</td>\n      <td>2022-10-28</td>\n      <td>ATL @ DET</td>\n      <td>1</td>\n      <td>241</td>\n      <td>136</td>\n      <td>...</td>\n      <td>12.800000</td>\n      <td>12.000000</td>\n      <td>12.153846</td>\n      <td>12.153846</td>\n      <td>20.0</td>\n      <td>21.000000</td>\n      <td>20.800000</td>\n      <td>20.000000</td>\n      <td>21.230769</td>\n      <td>21.230769</td>\n    </tr>\n    <tr>\n      <th>14</th>\n      <td>22022</td>\n      <td>1610612737</td>\n      <td>ATL</td>\n      <td>Atlanta Hawks</td>\n      <td>22200085</td>\n      <td>2022-10-29</td>\n      <td>ATL @ MIL</td>\n      <td>0</td>\n      <td>239</td>\n      <td>115</td>\n      <td>...</td>\n      <td>11.200000</td>\n      <td>11.300000</td>\n      <td>11.714286</td>\n      <td>11.714286</td>\n      <td>26.0</td>\n      <td>22.333333</td>\n      <td>21.400000</td>\n      <td>20.700000</td>\n      <td>21.571429</td>\n      <td>21.571429</td>\n    </tr>\n    <tr>\n      <th>15</th>\n      <td>22022</td>\n      <td>1610612737</td>\n      <td>ATL</td>\n      <td>Atlanta Hawks</td>\n      <td>22200099</td>\n      <td>2022-10-31</td>\n      <td>ATL @ TOR</td>\n      <td>0</td>\n      <td>238</td>\n      <td>109</td>\n      <td>...</td>\n      <td>11.800000</td>\n      <td>11.600000</td>\n      <td>11.733333</td>\n      <td>11.733333</td>\n      <td>23.0</td>\n      <td>23.000000</td>\n      <td>22.400000</td>\n      <td>21.100000</td>\n      <td>21.666667</td>\n      <td>21.666667</td>\n    </tr>\n    <tr>\n      <th>16</th>\n      <td>22022</td>\n      <td>1610612737</td>\n      <td>ATL</td>\n      <td>Atlanta Hawks</td>\n      <td>22200110</td>\n      <td>2022-11-02</td>\n      <td>ATL @ NYK</td>\n      <td>1</td>\n      <td>239</td>\n      <td>112</td>\n      <td>...</td>\n      <td>12.000000</td>\n      <td>12.700000</td>\n      <td>12.133333</td>\n      <td>12.125000</td>\n      <td>27.0</td>\n      <td>25.333333</td>\n      <td>23.400000</td>\n      <td>22.100000</td>\n      <td>21.933333</td>\n      <td>22.000000</td>\n    </tr>\n    <tr>\n      <th>17</th>\n      <td>22022</td>\n      <td>1610612737</td>\n      <td>ATL</td>\n      <td>Atlanta Hawks</td>\n      <td>22200134</td>\n      <td>2022-11-05</td>\n      <td>ATL vs. NOP</td>\n      <td>1</td>\n      <td>265</td>\n      <td>124</td>\n      <td>...</td>\n      <td>11.000000</td>\n      <td>12.300000</td>\n      <td>11.866667</td>\n      <td>11.823529</td>\n      <td>18.0</td>\n      <td>22.666667</td>\n      <td>22.800000</td>\n      <td>21.300000</td>\n      <td>21.533333</td>\n      <td>21.764706</td>\n    </tr>\n    <tr>\n      <th>18</th>\n      <td>22022</td>\n      <td>1610612737</td>\n      <td>ATL</td>\n      <td>Atlanta Hawks</td>\n      <td>22200149</td>\n      <td>2022-11-07</td>\n      <td>ATL vs. MIL</td>\n      <td>1</td>\n      <td>242</td>\n      <td>117</td>\n      <td>...</td>\n      <td>11.200000</td>\n      <td>12.000000</td>\n      <td>11.733333</td>\n      <td>11.888889</td>\n      <td>23.0</td>\n      <td>22.666667</td>\n      <td>23.400000</td>\n      <td>22.100000</td>\n      <td>21.133333</td>\n      <td>21.833333</td>\n    </tr>\n    <tr>\n      <th>19</th>\n      <td>22022</td>\n      <td>1610612737</td>\n      <td>ATL</td>\n      <td>Atlanta Hawks</td>\n      <td>22200162</td>\n      <td>2022-11-09</td>\n      <td>ATL vs. UTA</td>\n      <td>0</td>\n      <td>240</td>\n      <td>119</td>\n      <td>...</td>\n      <td>12.400000</td>\n      <td>11.800000</td>\n      <td>11.666667</td>\n      <td>11.894737</td>\n      <td>18.0</td>\n      <td>19.666667</td>\n      <td>21.800000</td>\n      <td>21.600000</td>\n      <td>21.066667</td>\n      <td>21.631579</td>\n    </tr>\n  </tbody>\n</table>\n<p>20 rows × 142 columns</p>\n</div>"
     },
     "execution_count": 9,
     "metadata": {},
     "output_type": "execute_result"
    }
   ],
   "source": [
    "# Convert GAME_DATE to datetime\n",
    "game_df['GAME_DATE'] = pd.to_datetime(game_df['GAME_DATE'])\n",
    "\n",
    "# Sort the DataFrame by player and date\n",
    "game_df.sort_values(['TEAM_ABBREVIATION', 'GAME_DATE'], inplace=True)\n",
    "game_df.reset_index(drop=True, inplace=True)\n",
    "\n",
    "# Define a window size for calculating recent averages\n",
    "window_sizes = [1,3,5,10,15,30]  # You can adjust this as needed\n",
    "\n",
    "# Calculate previous games rolling averages of team statistics\n",
    "rolling_cols = ['WL', 'MIN', 'PTS', 'FGM', 'FGA', 'FG_PCT',\n",
    "       'FG3M', 'FG3A', 'FG3_PCT', 'FTM', 'FTA', 'OREB', 'DREB',\n",
    "       'REB', 'AST', 'STL', 'BLK', 'TOV', 'PF']\n",
    "for col in rolling_cols:\n",
    "    for window in window_sizes:\n",
    "        game_df[f'{col}_avg_{window}'] = game_df.groupby('TEAM_ABBREVIATION')[col].shift(1).rolling(window=window, min_periods=1).mean().reset_index(level=0, drop=True)\n",
    "\n",
    "game_df.head(20)"
   ],
   "metadata": {
    "collapsed": false,
    "ExecuteTime": {
     "end_time": "2023-08-24T20:27:53.264490Z",
     "start_time": "2023-08-24T20:27:53.195373Z"
    }
   }
  },
  {
   "cell_type": "code",
   "execution_count": 10,
   "outputs": [
    {
     "data": {
      "text/plain": "(2949, 142)"
     },
     "execution_count": 10,
     "metadata": {},
     "output_type": "execute_result"
    }
   ],
   "source": [
    "game_df.shape"
   ],
   "metadata": {
    "collapsed": false,
    "ExecuteTime": {
     "end_time": "2023-08-24T20:28:09.458244Z",
     "start_time": "2023-08-24T20:28:09.452448Z"
    }
   }
  },
  {
   "cell_type": "code",
   "execution_count": 12,
   "outputs": [
    {
     "data": {
      "text/plain": "(39273, 30)"
     },
     "execution_count": 12,
     "metadata": {},
     "output_type": "execute_result"
    }
   ],
   "source": [
    "# Merge player_df with game_df to get the date of each game\n",
    "merged_df = player_df.merge(game_df[['GAME_ID', 'TEAM_ID','GAME_DATE']], on=['GAME_ID', 'TEAM_ID'], how='left')\n",
    "# Convert GAME_DATE to datetime\n",
    "merged_df['GAME_DATE'] = pd.to_datetime(merged_df['GAME_DATE'])\n",
    "merged_df.shape"
   ],
   "metadata": {
    "collapsed": false,
    "ExecuteTime": {
     "end_time": "2023-08-24T20:28:36.261683Z",
     "start_time": "2023-08-24T20:28:36.250093Z"
    }
   }
  },
  {
   "cell_type": "code",
   "execution_count": 13,
   "outputs": [
    {
     "name": "stderr",
     "output_type": "stream",
     "text": [
      "/var/folders/b6/nt5dw2rs5w72ym11_8rbv87c0000gn/T/ipykernel_81453/3982283650.py:13: PerformanceWarning: DataFrame is highly fragmented.  This is usually the result of calling `frame.insert` many times, which has poor performance.  Consider joining all columns at once using pd.concat(axis=1) instead. To get a de-fragmented frame, use `newframe = frame.copy()`\n",
      "  merged_df[f'{col}_avg_{window}'] = merged_df.groupby('PLAYER_ID')[col].shift(1).rolling(window=window, min_periods=1).mean().reset_index(level=0, drop=True)\n"
     ]
    },
    {
     "data": {
      "text/plain": "   NICKNAME  GAME_DATE                 COMMENT   PTS  PTS_avg_3  PTS_avg_5  \\\n0    LeBron 2022-10-03                     NaN   4.0        NaN        NaN   \n1    LeBron 2022-10-05                     NaN  23.0   4.000000   4.000000   \n2    LeBron 2022-10-06  DNP - Coach's Decision   NaN  13.500000  13.500000   \n3    LeBron 2022-10-09  DNP - Coach's Decision   NaN  13.500000  13.500000   \n4    LeBron 2022-10-12                     NaN  25.0  23.000000  13.500000   \n5    LeBron 2022-10-14                     NaN  10.0  25.000000  17.333333   \n6    LeBron 2022-10-18                     NaN  31.0  17.500000  19.333333   \n7    LeBron 2022-10-20                     NaN  20.0  22.000000  22.000000   \n8    LeBron 2022-10-23                     NaN  31.0  20.333333  21.500000   \n9    LeBron 2022-10-26                     NaN  19.0  27.333333  23.400000   \n10   LeBron 2022-10-28                     NaN  28.0  23.333333  22.200000   \n11   LeBron 2022-10-30                     NaN  26.0  26.000000  25.800000   \n12   LeBron 2022-11-02                     NaN  20.0  24.333333  24.800000   \n13   LeBron 2022-11-04                     NaN  17.0  24.666667  24.800000   \n14   LeBron 2022-11-06                     NaN  27.0  21.000000  22.000000   \n15   LeBron 2022-11-09                     NaN  30.0  21.333333  23.600000   \n16   LeBron 2022-11-18    DND - Injury/Illness   NaN  24.666667  24.000000   \n17   LeBron 2022-11-25                     NaN  21.0  28.500000  23.500000   \n18   LeBron 2022-11-26                     NaN  39.0  25.500000  23.750000   \n19   LeBron 2022-11-28                     NaN  21.0  30.000000  29.250000   \n\n    PTS_avg_10  \n0          NaN  \n1     4.000000  \n2    13.500000  \n3    13.500000  \n4    13.500000  \n5    17.333333  \n6    15.500000  \n7    18.600000  \n8    18.833333  \n9    20.571429  \n10   20.375000  \n11   23.375000  \n12   23.750000  \n13   23.333333  \n14   22.700000  \n15   22.900000  \n16   24.900000  \n17   24.222222  \n18   24.333333  \n19   25.222222  ",
      "text/html": "<div>\n<style scoped>\n    .dataframe tbody tr th:only-of-type {\n        vertical-align: middle;\n    }\n\n    .dataframe tbody tr th {\n        vertical-align: top;\n    }\n\n    .dataframe thead th {\n        text-align: right;\n    }\n</style>\n<table border=\"1\" class=\"dataframe\">\n  <thead>\n    <tr style=\"text-align: right;\">\n      <th></th>\n      <th>NICKNAME</th>\n      <th>GAME_DATE</th>\n      <th>COMMENT</th>\n      <th>PTS</th>\n      <th>PTS_avg_3</th>\n      <th>PTS_avg_5</th>\n      <th>PTS_avg_10</th>\n    </tr>\n  </thead>\n  <tbody>\n    <tr>\n      <th>0</th>\n      <td>LeBron</td>\n      <td>2022-10-03</td>\n      <td>NaN</td>\n      <td>4.0</td>\n      <td>NaN</td>\n      <td>NaN</td>\n      <td>NaN</td>\n    </tr>\n    <tr>\n      <th>1</th>\n      <td>LeBron</td>\n      <td>2022-10-05</td>\n      <td>NaN</td>\n      <td>23.0</td>\n      <td>4.000000</td>\n      <td>4.000000</td>\n      <td>4.000000</td>\n    </tr>\n    <tr>\n      <th>2</th>\n      <td>LeBron</td>\n      <td>2022-10-06</td>\n      <td>DNP - Coach's Decision</td>\n      <td>NaN</td>\n      <td>13.500000</td>\n      <td>13.500000</td>\n      <td>13.500000</td>\n    </tr>\n    <tr>\n      <th>3</th>\n      <td>LeBron</td>\n      <td>2022-10-09</td>\n      <td>DNP - Coach's Decision</td>\n      <td>NaN</td>\n      <td>13.500000</td>\n      <td>13.500000</td>\n      <td>13.500000</td>\n    </tr>\n    <tr>\n      <th>4</th>\n      <td>LeBron</td>\n      <td>2022-10-12</td>\n      <td>NaN</td>\n      <td>25.0</td>\n      <td>23.000000</td>\n      <td>13.500000</td>\n      <td>13.500000</td>\n    </tr>\n    <tr>\n      <th>5</th>\n      <td>LeBron</td>\n      <td>2022-10-14</td>\n      <td>NaN</td>\n      <td>10.0</td>\n      <td>25.000000</td>\n      <td>17.333333</td>\n      <td>17.333333</td>\n    </tr>\n    <tr>\n      <th>6</th>\n      <td>LeBron</td>\n      <td>2022-10-18</td>\n      <td>NaN</td>\n      <td>31.0</td>\n      <td>17.500000</td>\n      <td>19.333333</td>\n      <td>15.500000</td>\n    </tr>\n    <tr>\n      <th>7</th>\n      <td>LeBron</td>\n      <td>2022-10-20</td>\n      <td>NaN</td>\n      <td>20.0</td>\n      <td>22.000000</td>\n      <td>22.000000</td>\n      <td>18.600000</td>\n    </tr>\n    <tr>\n      <th>8</th>\n      <td>LeBron</td>\n      <td>2022-10-23</td>\n      <td>NaN</td>\n      <td>31.0</td>\n      <td>20.333333</td>\n      <td>21.500000</td>\n      <td>18.833333</td>\n    </tr>\n    <tr>\n      <th>9</th>\n      <td>LeBron</td>\n      <td>2022-10-26</td>\n      <td>NaN</td>\n      <td>19.0</td>\n      <td>27.333333</td>\n      <td>23.400000</td>\n      <td>20.571429</td>\n    </tr>\n    <tr>\n      <th>10</th>\n      <td>LeBron</td>\n      <td>2022-10-28</td>\n      <td>NaN</td>\n      <td>28.0</td>\n      <td>23.333333</td>\n      <td>22.200000</td>\n      <td>20.375000</td>\n    </tr>\n    <tr>\n      <th>11</th>\n      <td>LeBron</td>\n      <td>2022-10-30</td>\n      <td>NaN</td>\n      <td>26.0</td>\n      <td>26.000000</td>\n      <td>25.800000</td>\n      <td>23.375000</td>\n    </tr>\n    <tr>\n      <th>12</th>\n      <td>LeBron</td>\n      <td>2022-11-02</td>\n      <td>NaN</td>\n      <td>20.0</td>\n      <td>24.333333</td>\n      <td>24.800000</td>\n      <td>23.750000</td>\n    </tr>\n    <tr>\n      <th>13</th>\n      <td>LeBron</td>\n      <td>2022-11-04</td>\n      <td>NaN</td>\n      <td>17.0</td>\n      <td>24.666667</td>\n      <td>24.800000</td>\n      <td>23.333333</td>\n    </tr>\n    <tr>\n      <th>14</th>\n      <td>LeBron</td>\n      <td>2022-11-06</td>\n      <td>NaN</td>\n      <td>27.0</td>\n      <td>21.000000</td>\n      <td>22.000000</td>\n      <td>22.700000</td>\n    </tr>\n    <tr>\n      <th>15</th>\n      <td>LeBron</td>\n      <td>2022-11-09</td>\n      <td>NaN</td>\n      <td>30.0</td>\n      <td>21.333333</td>\n      <td>23.600000</td>\n      <td>22.900000</td>\n    </tr>\n    <tr>\n      <th>16</th>\n      <td>LeBron</td>\n      <td>2022-11-18</td>\n      <td>DND - Injury/Illness</td>\n      <td>NaN</td>\n      <td>24.666667</td>\n      <td>24.000000</td>\n      <td>24.900000</td>\n    </tr>\n    <tr>\n      <th>17</th>\n      <td>LeBron</td>\n      <td>2022-11-25</td>\n      <td>NaN</td>\n      <td>21.0</td>\n      <td>28.500000</td>\n      <td>23.500000</td>\n      <td>24.222222</td>\n    </tr>\n    <tr>\n      <th>18</th>\n      <td>LeBron</td>\n      <td>2022-11-26</td>\n      <td>NaN</td>\n      <td>39.0</td>\n      <td>25.500000</td>\n      <td>23.750000</td>\n      <td>24.333333</td>\n    </tr>\n    <tr>\n      <th>19</th>\n      <td>LeBron</td>\n      <td>2022-11-28</td>\n      <td>NaN</td>\n      <td>21.0</td>\n      <td>30.000000</td>\n      <td>29.250000</td>\n      <td>25.222222</td>\n    </tr>\n  </tbody>\n</table>\n</div>"
     },
     "execution_count": 13,
     "metadata": {},
     "output_type": "execute_result"
    }
   ],
   "source": [
    "# Sort the DataFrame by player and date\n",
    "merged_df.sort_values(['PLAYER_ID', 'GAME_DATE'], inplace=True)\n",
    "merged_df.reset_index(drop=True, inplace=True)\n",
    "\n",
    "# Define a window size for calculating recent averages\n",
    "window_sizes = [1,3,5,10,15,30]  # You can adjust this as needed\n",
    "\n",
    "# Calculate rolling averages for various statistics\n",
    "rolling_cols = ['MIN', 'FGM', 'FGA', 'FG3M', 'FG3A', 'FTM', 'FTA',\n",
    "       'OREB', 'DREB', 'REB', 'AST', 'STL', 'BLK', 'TO', 'PF', 'PTS']\n",
    "for col in rolling_cols:\n",
    "    for window in window_sizes:\n",
    "        merged_df[f'{col}_avg_{window}'] = merged_df.groupby('PLAYER_ID')[col].shift(1).rolling(window=window, min_periods=1).mean().reset_index(level=0, drop=True)\n",
    "\n",
    "merged_df[['NICKNAME', 'GAME_DATE', 'COMMENT', 'PTS', 'PTS_avg_3', 'PTS_avg_5', 'PTS_avg_10']].head(20)"
   ],
   "metadata": {
    "collapsed": false,
    "ExecuteTime": {
     "end_time": "2023-08-24T20:29:04.407219Z",
     "start_time": "2023-08-24T20:29:04.245203Z"
    }
   }
  },
  {
   "cell_type": "code",
   "execution_count": 14,
   "outputs": [
    {
     "data": {
      "text/plain": "(39273, 126)"
     },
     "execution_count": 14,
     "metadata": {},
     "output_type": "execute_result"
    }
   ],
   "source": [
    "merged_df.shape"
   ],
   "metadata": {
    "collapsed": false,
    "ExecuteTime": {
     "end_time": "2023-08-24T20:29:09.012489Z",
     "start_time": "2023-08-24T20:29:09.007460Z"
    }
   }
  },
  {
   "cell_type": "code",
   "execution_count": 15,
   "outputs": [
    {
     "data": {
      "text/plain": "    GAME_ID     TEAM_ID TEAM_ABBREVIATION    TEAM_CITY  PLAYER_ID  \\\n0  12200012  1610612747               LAL  Los Angeles       2544   \n1  12200022  1610612747               LAL  Los Angeles       2544   \n2  12200028  1610612747               LAL  Los Angeles       2544   \n3  12200040  1610612747               LAL  Los Angeles       2544   \n4  12200057  1610612747               LAL  Los Angeles       2544   \n\n    PLAYER_NAME NICKNAME START_POSITION                 COMMENT        MIN  \\\n0  LeBron James   LeBron              F                     NaN  15.683333   \n1  LeBron James   LeBron              F                     NaN  17.433333   \n2  LeBron James   LeBron            NaN  DNP - Coach's Decision        NaN   \n3  LeBron James   LeBron            NaN  DNP - Coach's Decision        NaN   \n4  LeBron James   LeBron              F                     NaN  24.700000   \n\n   ...  TOV_avg_5  TOV_avg_10  TOV_avg_15  TOV_avg_30  PF_avg_1_TEAM  \\\n0  ...       12.2   13.333333   13.428571   13.275862           20.0   \n1  ...       14.2   14.111111   14.000000   13.724138           20.0   \n2  ...       14.4   14.300000   14.428571   13.689655           25.0   \n3  ...       15.4   14.700000   14.785714   13.724138           22.0   \n4  ...       16.4   14.800000   14.928571   14.034483           26.0   \n\n   PF_avg_3_TEAM  PF_avg_5_TEAM  PF_avg_10_TEAM  PF_avg_15_TEAM  \\\n0      20.000000           20.8       20.666667       20.928571   \n1      18.666667           20.0       20.444444       21.142857   \n2      21.666667           21.0       20.900000       21.642857   \n3      22.333333           20.6       21.300000       21.714286   \n4      24.333333           22.6       21.700000       22.142857   \n\n   PF_avg_30_TEAM  \n0       19.827586  \n1       19.689655  \n2       19.965517  \n3       20.103448  \n4       20.310345  \n\n[5 rows x 266 columns]",
      "text/html": "<div>\n<style scoped>\n    .dataframe tbody tr th:only-of-type {\n        vertical-align: middle;\n    }\n\n    .dataframe tbody tr th {\n        vertical-align: top;\n    }\n\n    .dataframe thead th {\n        text-align: right;\n    }\n</style>\n<table border=\"1\" class=\"dataframe\">\n  <thead>\n    <tr style=\"text-align: right;\">\n      <th></th>\n      <th>GAME_ID</th>\n      <th>TEAM_ID</th>\n      <th>TEAM_ABBREVIATION</th>\n      <th>TEAM_CITY</th>\n      <th>PLAYER_ID</th>\n      <th>PLAYER_NAME</th>\n      <th>NICKNAME</th>\n      <th>START_POSITION</th>\n      <th>COMMENT</th>\n      <th>MIN</th>\n      <th>...</th>\n      <th>TOV_avg_5</th>\n      <th>TOV_avg_10</th>\n      <th>TOV_avg_15</th>\n      <th>TOV_avg_30</th>\n      <th>PF_avg_1_TEAM</th>\n      <th>PF_avg_3_TEAM</th>\n      <th>PF_avg_5_TEAM</th>\n      <th>PF_avg_10_TEAM</th>\n      <th>PF_avg_15_TEAM</th>\n      <th>PF_avg_30_TEAM</th>\n    </tr>\n  </thead>\n  <tbody>\n    <tr>\n      <th>0</th>\n      <td>12200012</td>\n      <td>1610612747</td>\n      <td>LAL</td>\n      <td>Los Angeles</td>\n      <td>2544</td>\n      <td>LeBron James</td>\n      <td>LeBron</td>\n      <td>F</td>\n      <td>NaN</td>\n      <td>15.683333</td>\n      <td>...</td>\n      <td>12.2</td>\n      <td>13.333333</td>\n      <td>13.428571</td>\n      <td>13.275862</td>\n      <td>20.0</td>\n      <td>20.000000</td>\n      <td>20.8</td>\n      <td>20.666667</td>\n      <td>20.928571</td>\n      <td>19.827586</td>\n    </tr>\n    <tr>\n      <th>1</th>\n      <td>12200022</td>\n      <td>1610612747</td>\n      <td>LAL</td>\n      <td>Los Angeles</td>\n      <td>2544</td>\n      <td>LeBron James</td>\n      <td>LeBron</td>\n      <td>F</td>\n      <td>NaN</td>\n      <td>17.433333</td>\n      <td>...</td>\n      <td>14.2</td>\n      <td>14.111111</td>\n      <td>14.000000</td>\n      <td>13.724138</td>\n      <td>20.0</td>\n      <td>18.666667</td>\n      <td>20.0</td>\n      <td>20.444444</td>\n      <td>21.142857</td>\n      <td>19.689655</td>\n    </tr>\n    <tr>\n      <th>2</th>\n      <td>12200028</td>\n      <td>1610612747</td>\n      <td>LAL</td>\n      <td>Los Angeles</td>\n      <td>2544</td>\n      <td>LeBron James</td>\n      <td>LeBron</td>\n      <td>NaN</td>\n      <td>DNP - Coach's Decision</td>\n      <td>NaN</td>\n      <td>...</td>\n      <td>14.4</td>\n      <td>14.300000</td>\n      <td>14.428571</td>\n      <td>13.689655</td>\n      <td>25.0</td>\n      <td>21.666667</td>\n      <td>21.0</td>\n      <td>20.900000</td>\n      <td>21.642857</td>\n      <td>19.965517</td>\n    </tr>\n    <tr>\n      <th>3</th>\n      <td>12200040</td>\n      <td>1610612747</td>\n      <td>LAL</td>\n      <td>Los Angeles</td>\n      <td>2544</td>\n      <td>LeBron James</td>\n      <td>LeBron</td>\n      <td>NaN</td>\n      <td>DNP - Coach's Decision</td>\n      <td>NaN</td>\n      <td>...</td>\n      <td>15.4</td>\n      <td>14.700000</td>\n      <td>14.785714</td>\n      <td>13.724138</td>\n      <td>22.0</td>\n      <td>22.333333</td>\n      <td>20.6</td>\n      <td>21.300000</td>\n      <td>21.714286</td>\n      <td>20.103448</td>\n    </tr>\n    <tr>\n      <th>4</th>\n      <td>12200057</td>\n      <td>1610612747</td>\n      <td>LAL</td>\n      <td>Los Angeles</td>\n      <td>2544</td>\n      <td>LeBron James</td>\n      <td>LeBron</td>\n      <td>F</td>\n      <td>NaN</td>\n      <td>24.700000</td>\n      <td>...</td>\n      <td>16.4</td>\n      <td>14.800000</td>\n      <td>14.928571</td>\n      <td>14.034483</td>\n      <td>26.0</td>\n      <td>24.333333</td>\n      <td>22.6</td>\n      <td>21.700000</td>\n      <td>22.142857</td>\n      <td>20.310345</td>\n    </tr>\n  </tbody>\n</table>\n<p>5 rows × 266 columns</p>\n</div>"
     },
     "execution_count": 15,
     "metadata": {},
     "output_type": "execute_result"
    }
   ],
   "source": [
    "merged_df = merged_df.merge(game_df, on=['GAME_ID', 'TEAM_ID'], how='left', suffixes=(None, '_TEAM'))\n",
    "merged_df.head()"
   ],
   "metadata": {
    "collapsed": false,
    "ExecuteTime": {
     "end_time": "2023-08-24T20:29:13.897397Z",
     "start_time": "2023-08-24T20:29:13.841511Z"
    }
   }
  },
  {
   "cell_type": "code",
   "execution_count": 16,
   "outputs": [
    {
     "data": {
      "text/plain": "(39183, 407)"
     },
     "execution_count": 16,
     "metadata": {},
     "output_type": "execute_result"
    }
   ],
   "source": [
    "# Merge the dataframes based on game_id and TEAM_ID mismatch\n",
    "merged_df = merged_df.merge(game_df, on='GAME_ID', how='left', suffixes=(None, '_OPP'))\n",
    "merged_df = merged_df[~merged_df['TEAM_ID'].eq(merged_df['TEAM_ID_OPP'])]\n",
    "merged_df.shape\n",
    "# Now merged_df contains the rows where game_id matches but TEAM_ID is different"
   ],
   "metadata": {
    "collapsed": false,
    "ExecuteTime": {
     "end_time": "2023-08-24T20:29:41.658378Z",
     "start_time": "2023-08-24T20:29:41.214882Z"
    }
   }
  },
  {
   "cell_type": "code",
   "execution_count": 17,
   "outputs": [
    {
     "data": {
      "text/plain": "    GAME_ID     TEAM_ID TEAM_ABBREVIATION    TEAM_CITY  PLAYER_ID  \\\n1  12200012  1610612747               LAL  Los Angeles       2544   \n3  12200022  1610612747               LAL  Los Angeles       2544   \n5  12200028  1610612747               LAL  Los Angeles       2544   \n6  12200040  1610612747               LAL  Los Angeles       2544   \n9  12200057  1610612747               LAL  Los Angeles       2544   \n\n    PLAYER_NAME NICKNAME START_POSITION                 COMMENT        MIN  \\\n1  LeBron James   LeBron              F                     NaN  15.683333   \n3  LeBron James   LeBron              F                     NaN  17.433333   \n5  LeBron James   LeBron            NaN  DNP - Coach's Decision        NaN   \n6  LeBron James   LeBron            NaN  DNP - Coach's Decision        NaN   \n9  LeBron James   LeBron              F                     NaN  24.700000   \n\n   ...  TOV_avg_5_OPP  TOV_avg_10_OPP  TOV_avg_15_OPP  TOV_avg_30_OPP  \\\n1  ...           16.6       15.222222       14.428571       14.000000   \n3  ...           15.6       13.555556       12.428571       12.758621   \n5  ...           15.8       14.888889       14.857143       13.862069   \n6  ...           17.8       17.500000       16.571429       15.586207   \n9  ...           15.6       15.000000       14.857143       13.931034   \n\n   PF_avg_1_OPP  PF_avg_3_OPP  PF_avg_5_OPP  PF_avg_10_OPP  PF_avg_15_OPP  \\\n1          14.0     20.000000          22.0      21.777778      20.857143   \n3          17.0     19.666667          21.0      21.666667      20.571429   \n5          16.0     20.333333          21.4      19.777778      18.571429   \n6          25.0     24.000000          23.6      23.200000      23.214286   \n9          18.0     21.666667          22.0      21.777778      19.785714   \n\n   PF_avg_30_OPP  \n1      19.758621  \n3      20.241379  \n5      17.586207  \n6      22.068966  \n9      18.137931  \n\n[5 rows x 407 columns]",
      "text/html": "<div>\n<style scoped>\n    .dataframe tbody tr th:only-of-type {\n        vertical-align: middle;\n    }\n\n    .dataframe tbody tr th {\n        vertical-align: top;\n    }\n\n    .dataframe thead th {\n        text-align: right;\n    }\n</style>\n<table border=\"1\" class=\"dataframe\">\n  <thead>\n    <tr style=\"text-align: right;\">\n      <th></th>\n      <th>GAME_ID</th>\n      <th>TEAM_ID</th>\n      <th>TEAM_ABBREVIATION</th>\n      <th>TEAM_CITY</th>\n      <th>PLAYER_ID</th>\n      <th>PLAYER_NAME</th>\n      <th>NICKNAME</th>\n      <th>START_POSITION</th>\n      <th>COMMENT</th>\n      <th>MIN</th>\n      <th>...</th>\n      <th>TOV_avg_5_OPP</th>\n      <th>TOV_avg_10_OPP</th>\n      <th>TOV_avg_15_OPP</th>\n      <th>TOV_avg_30_OPP</th>\n      <th>PF_avg_1_OPP</th>\n      <th>PF_avg_3_OPP</th>\n      <th>PF_avg_5_OPP</th>\n      <th>PF_avg_10_OPP</th>\n      <th>PF_avg_15_OPP</th>\n      <th>PF_avg_30_OPP</th>\n    </tr>\n  </thead>\n  <tbody>\n    <tr>\n      <th>1</th>\n      <td>12200012</td>\n      <td>1610612747</td>\n      <td>LAL</td>\n      <td>Los Angeles</td>\n      <td>2544</td>\n      <td>LeBron James</td>\n      <td>LeBron</td>\n      <td>F</td>\n      <td>NaN</td>\n      <td>15.683333</td>\n      <td>...</td>\n      <td>16.6</td>\n      <td>15.222222</td>\n      <td>14.428571</td>\n      <td>14.000000</td>\n      <td>14.0</td>\n      <td>20.000000</td>\n      <td>22.0</td>\n      <td>21.777778</td>\n      <td>20.857143</td>\n      <td>19.758621</td>\n    </tr>\n    <tr>\n      <th>3</th>\n      <td>12200022</td>\n      <td>1610612747</td>\n      <td>LAL</td>\n      <td>Los Angeles</td>\n      <td>2544</td>\n      <td>LeBron James</td>\n      <td>LeBron</td>\n      <td>F</td>\n      <td>NaN</td>\n      <td>17.433333</td>\n      <td>...</td>\n      <td>15.6</td>\n      <td>13.555556</td>\n      <td>12.428571</td>\n      <td>12.758621</td>\n      <td>17.0</td>\n      <td>19.666667</td>\n      <td>21.0</td>\n      <td>21.666667</td>\n      <td>20.571429</td>\n      <td>20.241379</td>\n    </tr>\n    <tr>\n      <th>5</th>\n      <td>12200028</td>\n      <td>1610612747</td>\n      <td>LAL</td>\n      <td>Los Angeles</td>\n      <td>2544</td>\n      <td>LeBron James</td>\n      <td>LeBron</td>\n      <td>NaN</td>\n      <td>DNP - Coach's Decision</td>\n      <td>NaN</td>\n      <td>...</td>\n      <td>15.8</td>\n      <td>14.888889</td>\n      <td>14.857143</td>\n      <td>13.862069</td>\n      <td>16.0</td>\n      <td>20.333333</td>\n      <td>21.4</td>\n      <td>19.777778</td>\n      <td>18.571429</td>\n      <td>17.586207</td>\n    </tr>\n    <tr>\n      <th>6</th>\n      <td>12200040</td>\n      <td>1610612747</td>\n      <td>LAL</td>\n      <td>Los Angeles</td>\n      <td>2544</td>\n      <td>LeBron James</td>\n      <td>LeBron</td>\n      <td>NaN</td>\n      <td>DNP - Coach's Decision</td>\n      <td>NaN</td>\n      <td>...</td>\n      <td>17.8</td>\n      <td>17.500000</td>\n      <td>16.571429</td>\n      <td>15.586207</td>\n      <td>25.0</td>\n      <td>24.000000</td>\n      <td>23.6</td>\n      <td>23.200000</td>\n      <td>23.214286</td>\n      <td>22.068966</td>\n    </tr>\n    <tr>\n      <th>9</th>\n      <td>12200057</td>\n      <td>1610612747</td>\n      <td>LAL</td>\n      <td>Los Angeles</td>\n      <td>2544</td>\n      <td>LeBron James</td>\n      <td>LeBron</td>\n      <td>F</td>\n      <td>NaN</td>\n      <td>24.700000</td>\n      <td>...</td>\n      <td>15.6</td>\n      <td>15.000000</td>\n      <td>14.857143</td>\n      <td>13.931034</td>\n      <td>18.0</td>\n      <td>21.666667</td>\n      <td>22.0</td>\n      <td>21.777778</td>\n      <td>19.785714</td>\n      <td>18.137931</td>\n    </tr>\n  </tbody>\n</table>\n<p>5 rows × 407 columns</p>\n</div>"
     },
     "execution_count": 17,
     "metadata": {},
     "output_type": "execute_result"
    }
   ],
   "source": [
    "merged_df.head()"
   ],
   "metadata": {
    "collapsed": false,
    "ExecuteTime": {
     "end_time": "2023-08-24T20:29:47.295413Z",
     "start_time": "2023-08-24T20:29:47.285951Z"
    }
   }
  },
  {
   "cell_type": "code",
   "execution_count": 18,
   "outputs": [],
   "source": [
    "merged_df.to_csv('../../data/player_stat_team_stat_aggregate.csv', index = False)"
   ],
   "metadata": {
    "collapsed": false,
    "ExecuteTime": {
     "end_time": "2023-08-24T20:30:58.509123Z",
     "start_time": "2023-08-24T20:30:50.457380Z"
    }
   }
  }
 ],
 "metadata": {
  "kernelspec": {
   "display_name": "Python 3",
   "language": "python",
   "name": "python3"
  },
  "language_info": {
   "codemirror_mode": {
    "name": "ipython",
    "version": 2
   },
   "file_extension": ".py",
   "mimetype": "text/x-python",
   "name": "python",
   "nbconvert_exporter": "python",
   "pygments_lexer": "ipython2",
   "version": "2.7.6"
  }
 },
 "nbformat": 4,
 "nbformat_minor": 0
}
